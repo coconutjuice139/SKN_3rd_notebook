{
 "cells": [
  {
   "cell_type": "code",
   "execution_count": 5,
   "metadata": {},
   "outputs": [],
   "source": [
    "# Use a pipeline as a high-level helper # 첫 로드 45.8초\n",
    "from transformers import pipeline\n",
    "\n",
    "pipe = pipeline(\"text2text-generation\", model=\"sangmin6600/t5-v1_1-base-ko-chat\")"
   ]
  },
  {
   "cell_type": "code",
   "execution_count": 2,
   "metadata": {},
   "outputs": [
    {
     "data": {
      "text/plain": [
       "[{'generated_text': '안녕하세요! 오늘은 무엇을 도와드릴까요? 궁금한 점이 있으시면 언제든지 문의해 주세요.'}]"
      ]
     },
     "execution_count": 2,
     "metadata": {},
     "output_type": "execute_result"
    }
   ],
   "source": [
    "pipe(\"안녕하세요 오늘도 좋은 아침입니다.\") # 응답속도 6.1초"
   ]
  },
  {
   "cell_type": "code",
   "execution_count": 3,
   "metadata": {},
   "outputs": [
    {
     "data": {
      "text/plain": [
       "[{'generated_text': 'IT의 최신 기술에 관심이 많았습니다. 이 분야의 최신 기술에 대한 관심을 가질 수 있는 몇 가지 방법을 소개합니다:1. 머신 러닝 알고리즘을 사용하세요: 머신러닝 모델을 사용하면 컴퓨터가 데이터를 처리하고 처리할 수 있는 방대한 양의 데이터를 처리할 수 있습니다. 예를 들어, 딥러닝 모델을 사용하여 데이터를 처리하고 처리하는 방식이 더 정확하고 효율적일 수 있습니다.2. 딥러닝 기법을 사용하세요: 딥러닝을 사용하면 딥러닝이 어떻게 작동하는지 이해하는 데 도움이 될 수 있습니다. 이를 통해 보다 효율적이고 효율적인 솔루션을 만들 수 있습니다.3. 가상 비서를 사용하세요: 가상 비서와 가상 비서가 있는 가상 비서는 컴퓨터가 데이터를 처리할 수 있도록 도와줍니다. 이를 통해 딥러닝은 더 빠르고 효율적으로 작동할 수 있습니다.4. 인공 지능을 사용하세요: 인공지능을 사용하면 인공지능을 사용하여 딥러닝의 원리를 더 잘 이해할 수 있습니다. 여기에는 딥러닝, 인공 지능, 신경망과 같은 기술이 포함될 수 있습니다.5. 인공지능을 활용하세요: 인공 지능은 컴퓨터가 데이터를 처리하는 방식을 혁신할 수 있는 잠재력을 가지고 있습니다. 예를 들어 딥러닝과 인공 지능이 어떻게 작동하는지를 이해하는 데 도움을 줄 수 있습니다.6. 가상 현실 비서를 활용하세요: 가상 현실 비서는 인공 지능과 상호 작용할 수 있는 능력을 갖추고 있습니다. 이를 통해 가상 현실 세계를 더 잘 이해하고 더 나은 의사 결정을 내릴 수 있습니다.전반적으로 IT의 최신기술에 관심이 많으신가요? 인공지능과 인공지능의 최신 기술에 대해 더 자세히 알고 싶으신가요, 아니면 인공지능을 사용하는지 궁금한 점이 있으시면 언제든지 문의해 주세요.'}]"
      ]
     },
     "execution_count": 3,
     "metadata": {},
     "output_type": "execute_result"
    }
   ],
   "source": [
    "pipe(\"나 IT의 최신기술에 관심이 많아\") # 응답속도  78초 (훈련시키지 않은 질문)"
   ]
  },
  {
   "cell_type": "code",
   "execution_count": 4,
   "metadata": {},
   "outputs": [
    {
     "data": {
      "text/plain": [
       "[{'generated_text': 'IT의 최신 기술에 관심이 많으신가요? 궁금한 점이 있으시면 언제든지 문의해 주세요.'}]"
      ]
     },
     "execution_count": 4,
     "metadata": {},
     "output_type": "execute_result"
    }
   ],
   "source": [
    "pipe(\"나 IT의 최신기술에 관심이 많아\",\n",
    "        top_k=5,\n",
    "        top_p=0.7,\n",
    "        temperature=0.7\n",
    "        ) # 응답속도  5초"
   ]
  }
 ],
 "metadata": {
  "kernelspec": {
   "display_name": ".venv",
   "language": "python",
   "name": "python3"
  },
  "language_info": {
   "codemirror_mode": {
    "name": "ipython",
    "version": 3
   },
   "file_extension": ".py",
   "mimetype": "text/x-python",
   "name": "python",
   "nbconvert_exporter": "python",
   "pygments_lexer": "ipython3",
   "version": "3.12.4"
  }
 },
 "nbformat": 4,
 "nbformat_minor": 2
}
