{
 "cells": [
  {
   "cell_type": "code",
   "execution_count": null,
   "metadata": {},
   "outputs": [],
   "source": [
    "import json\n",
    "\n",
    "# 파일 경로를 지정하여 JSON 파일을 엽니다.\n",
    "file_path = 'naver_api_response.json'\n",
    "\n",
    "# JSON 파일을 로드하는 방법\n",
    "with open(file_path, 'r', encoding='utf-8') as f:\n",
    "    data = json.load(f)\n",
    "\n",
    "# 로드한 데이터를 출력\n",
    "print(data)"
   ]
  },
  {
   "cell_type": "code",
   "execution_count": null,
   "metadata": {},
   "outputs": [],
   "source": [
    "link = data[\"items\"][0][\"link\"]\n",
    "link"
   ]
  },
  {
   "cell_type": "code",
   "execution_count": 5,
   "metadata": {},
   "outputs": [
    {
     "name": "stdout",
     "output_type": "stream",
     "text": [
      "HTTP 오류 발생: 418\n"
     ]
    }
   ],
   "source": [
    "# import requests\n",
    "# import time\n",
    "\n",
    "# # 헤더 설정 (User-Agent, Referer 추가)\n",
    "# header = {\n",
    "#     \"user-agent\": \"Mozilla/5.0 (Macintosh; Intel Mac OS X 10_15_7) AppleWebKit/537.36 (KHTML, like Gecko) Chrome/114.0.0.0 Safari/537.36\",\n",
    "#     \"referer\": \"https://search.shopping.naver.com/search/all?query=%ED%85%8C%EB%B8%94%EB%A6%BFpc&vertical=search\"\n",
    "# }\n",
    "# # 요청 보내기\n",
    "# url = 'https://search.shopping.naver.com/catalog/46670109618#'\n",
    "# response = requests.get(url, headers=header)\n",
    "\n",
    "# time.sleep(2)\n",
    "\n",
    "# # 응답 상태 코드 확인\n",
    "# if response.status_code == 200:\n",
    "#     print(\"페이지 로딩 성공\")\n",
    "#     # 원하는 HTML 내용 처리 (BeautifulSoup 또는 다른 방법으로)\n",
    "#     print(response.text[:500])  # 페이지의 첫 500자 출력 (디버깅용)\n",
    "# else:\n",
    "#     print(f\"HTTP 오류 발생: {response.status_code}\")\n"
   ]
  },
  {
   "cell_type": "code",
   "execution_count": 8,
   "metadata": {},
   "outputs": [
    {
     "name": "stdout",
     "output_type": "stream",
     "text": [
      "og:description 메타태그가 없습니다.\n"
     ]
    }
   ],
   "source": [
    "# from bs4 import BeautifulSoup\n",
    "# import requests\n",
    "\n",
    "# header = {\n",
    "#     \"user-agent\": \"Mozilla/5.0 (Macintosh; Intel Mac OS X 10_15_7) AppleWebKit/537.36 (KHTML, like Gecko) Chrome/114.0.0.0 Safari/537.36\",\n",
    "#     \"referer\": \"https://search.shopping.naver.com/search/all?query=%ED%85%8C%EB%B8%94%EB%A6%BFpc&vertical=search\"\n",
    "# }\n",
    "\n",
    "# # 페이지 요청 및 HTML 가져오기\n",
    "# url = \"https://search.shopping.naver.com/catalog/46670109618\"\n",
    "# response = requests.get(url, headers = header)\n",
    "# html = response.text\n",
    "\n",
    "# # BeautifulSoup 객체 생성\n",
    "# soup = BeautifulSoup(html, 'html.parser')\n",
    "\n",
    "# # 'og:description' 메타태그의 content 속성 값 추출\n",
    "# meta_description = soup.find(\"meta\", property=\"og:description\")\n",
    "# if meta_description:\n",
    "#     description_content = meta_description.get(\"content\")\n",
    "#     print(description_content)\n",
    "# else:\n",
    "#     print(\"og:description 메타태그가 없습니다.\")"
   ]
  },
  {
   "cell_type": "code",
   "execution_count": 10,
   "metadata": {},
   "outputs": [
    {
     "name": "stdout",
     "output_type": "stream",
     "text": [
      "Error 418: 접근이 차단되었습니다.\n"
     ]
    }
   ],
   "source": [
    "# import requests\n",
    "# from bs4 import BeautifulSoup\n",
    "\n",
    "# url = \"https://search.shopping.naver.com/catalog/46670109628\"\n",
    "# headers = {\n",
    "#     \"User-Agent\": \"Mozilla/5.0 (Windows NT 10.0; Win64; x64) AppleWebKit/537.36 (KHTML, like Gecko) Chrome/130.0.0.0 Safari/537.36 Edg/130.0.0.0\",\n",
    "#     \"Referer\":\"shopping.naver.com\"\n",
    "# }\n",
    "# response = requests.get(url, headers=headers)\n",
    "# if response.status_code == 200:\n",
    "#     soup = BeautifulSoup(response.text, 'html.parser')\n",
    "#     meta_description = soup.find(\"meta\", property=\"og:description\")\n",
    "#     if meta_description:\n",
    "#         description_content = meta_description.get(\"content\")\n",
    "#         print(description_content)\n",
    "#     else:\n",
    "#         print(\"og:description 메타태그가 없습니다.\")\n",
    "# else:\n",
    "#     print(f\"Error {response.status_code}: 접근이 차단되었습니다.\")\n"
   ]
  }
 ],
 "metadata": {
  "kernelspec": {
   "display_name": ".venv",
   "language": "python",
   "name": "python3"
  },
  "language_info": {
   "codemirror_mode": {
    "name": "ipython",
    "version": 3
   },
   "file_extension": ".py",
   "mimetype": "text/x-python",
   "name": "python",
   "nbconvert_exporter": "python",
   "pygments_lexer": "ipython3",
   "version": "3.12.4"
  }
 },
 "nbformat": 4,
 "nbformat_minor": 2
}
