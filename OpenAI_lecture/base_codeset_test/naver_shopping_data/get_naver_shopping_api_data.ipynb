{
 "cells": [
  {
   "cell_type": "code",
   "execution_count": 2,
   "metadata": {},
   "outputs": [],
   "source": [
    "# # 네이버 검색 API 예제 - 블로그 검색\n",
    "# import os\n",
    "# import sys\n",
    "# import urllib.parse\n",
    "# import urllib.request\n",
    "# import json\n",
    "\n",
    "# client_id = \"m4qSqBkoO9DyCqqPDtoe\"\n",
    "# client_secret = \"BP2d8q1NLY\"\n",
    "# encText = urllib.parse.quote(\"스마트폰\")\n",
    "# url = \"https://openapi.naver.com/v1/search/shop.json?query=\" + encText + \"&display=100&start=1\" # JSON 결과\n",
    "# # url = \"https://openapi.naver.com/v1/search/shop.xml?query=\" + encText # XML 결과\n",
    "# request = urllib.request.Request(url)\n",
    "# request.add_header(\"X-Naver-Client-Id\",client_id)\n",
    "# request.add_header(\"X-Naver-Client-Secret\",client_secret)\n",
    "# response = urllib.request.urlopen(request)\n",
    "# rescode = response.getcode()\n",
    "# if(rescode==200):\n",
    "#     response_body = response.read()\n",
    "#     with open('naver_api_response_smartphone.json', 'w', encoding='utf-8') as f:\n",
    "#         f.write(response_body.decode('utf-8'))\n",
    "# else:\n",
    "#     print(\"Error Code:\" + rescode)"
   ]
  },
  {
   "cell_type": "code",
   "execution_count": 4,
   "metadata": {},
   "outputs": [
    {
     "name": "stdout",
     "output_type": "stream",
     "text": [
      "필터링 후 JSON 파일이 저장되었습니다.\n"
     ]
    }
   ],
   "source": [
    "# 네이버 검색 API 예제 - 블로그 검색\n",
    "import os\n",
    "import sys\n",
    "import urllib.parse\n",
    "import urllib.request\n",
    "import json\n",
    "import re\n",
    "\n",
    "from enum import Enum\n",
    "\n",
    "class ProductMainName(Enum):\n",
    "    SMARTPHONE = \"smartphone\"\n",
    "    TABLETPC = \"tabletpc\"\n",
    "    LAPTOP = \"laptop\"\n",
    "\n",
    "def change_search_word_ko_to_en(search_word=\"스마트폰\"):\n",
    "    if search_word in [\"노트북\", \"랩탑\", \"렙탑\"]:\n",
    "        return ProductMainName.LAPTOP.value\n",
    "    elif search_word in [\"스마트폰\", \"휴대폰\"]:\n",
    "        return ProductMainName.SMARTPHONE.value\n",
    "    elif search_word in [\"테블릿PC\", \"태블릿PC\", \"테블릿pc\", \"태블릿pc\", \"갤탭\", \"태블릿\", \"테블릿\"]:\n",
    "        return ProductMainName.TABLETPC.value\n",
    "\n",
    "search_word = \"노트북\"\n",
    "\n",
    "client_id = \"m4qSqBkoO9DyCqqPDtoe\"\n",
    "client_secret = \"BP2d8q1NLY\"\n",
    "encText = urllib.parse.quote(search_word)\n",
    "url = \"https://openapi.naver.com/v1/search/shop.json?query=\" + encText + \"&display=100&start=1\" # JSON 결과\n",
    "# url = \"https://openapi.naver.com/v1/search/shop.xml?query=\" + encText # XML 결과\n",
    "request = urllib.request.Request(url)\n",
    "request.add_header(\"X-Naver-Client-Id\",client_id)\n",
    "request.add_header(\"X-Naver-Client-Secret\",client_secret)\n",
    "response = urllib.request.urlopen(request)\n",
    "rescode = response.getcode()\n",
    "if rescode == 200:\n",
    "    response_body = response.read()\n",
    "    \n",
    "    # JSON 데이터 파싱\n",
    "    data = json.loads(response_body.decode('utf-8'))\n",
    "    \n",
    "    # 중고 및 공기계 필터링 후 <b> 태그 제거\n",
    "    filtered_items = []\n",
    "    for item in data['items']:\n",
    "        # 중고 및 공기계 필터링\n",
    "        if \"공기계\" not in item.get('category3', \"\") and \"중고\" not in item.get('category3', \"\"):\n",
    "            # <b> 태그 제거\n",
    "            item['title'] = re.sub(r\"<.*?>\", \"\", item['title'])\n",
    "            filtered_items.append(item)\n",
    "\n",
    "    items_title_name = change_search_word_ko_to_en(search_word)\n",
    "    \n",
    "    # 필터링된 데이터 JSON 파일로 저장\n",
    "    with open(f'naver_data_products/naver_api_response_{items_title_name}.{type}', 'w', encoding='utf-8') as f:\n",
    "        json.dump(filtered_items, f, ensure_ascii=False, indent=2)\n",
    "    \n",
    "    print(f\"필터링 후 {type.upper()} 파일이 저장되었습니다.\")\n",
    "else:\n",
    "    print(\"Error Code:\", rescode)"
   ]
  }
 ],
 "metadata": {
  "kernelspec": {
   "display_name": ".venv",
   "language": "python",
   "name": "python3"
  },
  "language_info": {
   "codemirror_mode": {
    "name": "ipython",
    "version": 3
   },
   "file_extension": ".py",
   "mimetype": "text/x-python",
   "name": "python",
   "nbconvert_exporter": "python",
   "pygments_lexer": "ipython3",
   "version": "3.12.4"
  }
 },
 "nbformat": 4,
 "nbformat_minor": 2
}
