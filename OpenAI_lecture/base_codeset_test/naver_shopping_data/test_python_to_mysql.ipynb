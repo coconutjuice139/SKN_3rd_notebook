{
 "cells": [
  {
   "cell_type": "code",
   "execution_count": 1,
   "metadata": {},
   "outputs": [
    {
     "name": "stdout",
     "output_type": "stream",
     "text": [
      "Data inserted: Alice, 30, alice@example.com\n",
      "Data inserted: Bob, 25, bob@example.com\n"
     ]
    }
   ],
   "source": [
    "import mysql.connector\n",
    "\n",
    "# MySQL 데이터베이스 연결\n",
    "db_connection = mysql.connector.connect(\n",
    "    host=\"localhost\",  # MySQL 서버 주소\n",
    "    user=\"root\",       # MySQL 사용자 이름\n",
    "    password=\"root1234\",  # MySQL 사용자 비밀번호\n",
    "    database=\"my_database\"  # 사용할 데이터베이스 이름\n",
    ")\n",
    "\n",
    "# 커서 객체 생성\n",
    "cursor = db_connection.cursor()\n",
    "\n",
    "# 데이터를 삽입할 함수 정의\n",
    "def insert_data(name, age, email):\n",
    "    # SQL 쿼리 준비\n",
    "    query = \"INSERT INTO data_table (name, age, email) VALUES (%s, %s, %s)\"\n",
    "    values = (name, age, email)\n",
    "\n",
    "    # 쿼리 실행\n",
    "    cursor.execute(query, values)\n",
    "\n",
    "    # 변경 사항 저장\n",
    "    db_connection.commit()\n",
    "    print(f\"Data inserted: {name}, {age}, {email}\")\n",
    "\n",
    "# 예시 데이터 입력\n",
    "insert_data(\"Alice\", 30, \"alice@example.com\")\n",
    "insert_data(\"Bob\", 25, \"bob@example.com\")\n",
    "\n",
    "# 커서와 연결 종료\n",
    "cursor.close()\n",
    "db_connection.close()\n"
   ]
  }
 ],
 "metadata": {
  "kernelspec": {
   "display_name": ".venv",
   "language": "python",
   "name": "python3"
  },
  "language_info": {
   "codemirror_mode": {
    "name": "ipython",
    "version": 3
   },
   "file_extension": ".py",
   "mimetype": "text/x-python",
   "name": "python",
   "nbconvert_exporter": "python",
   "pygments_lexer": "ipython3",
   "version": "3.12.4"
  }
 },
 "nbformat": 4,
 "nbformat_minor": 2
}
