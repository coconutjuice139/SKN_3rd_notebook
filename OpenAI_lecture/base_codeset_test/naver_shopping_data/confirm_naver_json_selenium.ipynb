{
 "cells": [
  {
   "cell_type": "code",
   "execution_count": null,
   "metadata": {},
   "outputs": [],
   "source": [
    "import json\n",
    "\n",
    "# 파일 경로를 지정하여 JSON 파일을 엽니다.\n",
    "file_path = 'naver_api_response.json'\n",
    "\n",
    "# JSON 파일을 로드하는 방법\n",
    "with open(file_path, 'r', encoding='utf-8') as f:\n",
    "    data = json.load(f)\n",
    "\n",
    "# 로드한 데이터를 출력\n",
    "print(data)"
   ]
  },
  {
   "cell_type": "code",
   "execution_count": null,
   "metadata": {},
   "outputs": [],
   "source": [
    "link = data[\"items\"][1][\"link\"]\n",
    "link"
   ]
  },
  {
   "cell_type": "code",
   "execution_count": null,
   "metadata": {},
   "outputs": [],
   "source": [
    "link = data[\"items\"][1][\"link\"]\n",
    "\"smartstore\" in link"
   ]
  },
  {
   "cell_type": "code",
   "execution_count": 5,
   "metadata": {},
   "outputs": [],
   "source": [
    "from selenium import webdriver\n",
    "from selenium.webdriver.chrome.service import Service\n",
    "from selenium.webdriver.common.by import By\n",
    "from selenium.webdriver.chrome.options import Options\n",
    "import time\n",
    "\n",
    "# 페이지 로드에 약 7~8초 걸림\n",
    "\n",
    "driver = webdriver.Chrome()\n",
    "url = link\n",
    "driver.get(url)\n",
    "driver.implicitly_wait(3)\n",
    "\n",
    "# # og:description 메타태그 content 추출\n",
    "# try:\n",
    "#     meta_description = driver.find_element(By.XPATH, \"//meta[@property='og:description']\")\n",
    "#     description_content = meta_description.get_attribute(\"content\")\n",
    "#     print(description_content)\n",
    "# except Exception as e:\n",
    "#     print(\"og:description 메타태그를 찾을 수 없습니다.\", e)\n",
    "\n",
    "# # 드라이버 종료\n",
    "# driver.quit()\n"
   ]
  },
  {
   "cell_type": "code",
   "execution_count": 7,
   "metadata": {},
   "outputs": [],
   "source": [
    "# # Y 좌표 2000px 위치로 스크롤\n",
    "# driver.execute_script(\"window.scrollTo(0, 2000);\")"
   ]
  },
  {
   "cell_type": "code",
   "execution_count": null,
   "metadata": {},
   "outputs": [],
   "source": [
    "# 버튼을 XPath로 찾아 클릭하기\n",
    "try:\n",
    "    button = driver.find_element(By.XPATH, '//*[@id=\"container\"]/div[2]/div[1]/div[3]/a')  # XPath로 버튼 요소 선택\n",
    "    button.click()  # 버튼 클릭\n",
    "    print(\"버튼을 클릭했습니다.\")\n",
    "except Exception as e:\n",
    "    print(\"버튼을 찾을 수 없거나 클릭할 수 없습니다.\", e)"
   ]
  },
  {
   "cell_type": "code",
   "execution_count": null,
   "metadata": {},
   "outputs": [],
   "source": [
    "meta_description = driver.find_element(By.XPATH, '//*[@id=\"section_spec\"]/div[2]/table[1]/tbody/tr')\n",
    "description_content = meta_description.text\n",
    "description_content"
   ]
  },
  {
   "cell_type": "code",
   "execution_count": null,
   "metadata": {},
   "outputs": [],
   "source": [
    "meta_description = driver.find_element(By.XPATH, '//*[@id=\"section_spec\"]/div[2]/table[2]/tbody')\n",
    "description_content = meta_description.text\n",
    "description_content"
   ]
  },
  {
   "cell_type": "code",
   "execution_count": null,
   "metadata": {},
   "outputs": [],
   "source": [
    "meta_description = driver.find_element(By.XPATH, '//*[@id=\"section_spec\"]/div[2]/table[3]/tbody/tr')\n",
    "description_content = meta_description.text\n",
    "description_content"
   ]
  },
  {
   "cell_type": "code",
   "execution_count": null,
   "metadata": {},
   "outputs": [],
   "source": [
    "meta_description = driver.find_element(By.XPATH, '//*[@id=\"section_spec\"]/div[2]/table[4]/tbody/tr')\n",
    "description_content = meta_description.text\n",
    "description_content"
   ]
  },
  {
   "cell_type": "code",
   "execution_count": null,
   "metadata": {},
   "outputs": [],
   "source": [
    "meta_description = driver.find_element(By.XPATH, '//*[@id=\"section_spec\"]/div[2]/table[5]/tbody/tr')\n",
    "description_content = meta_description.text\n",
    "description_content"
   ]
  },
  {
   "cell_type": "code",
   "execution_count": null,
   "metadata": {},
   "outputs": [],
   "source": [
    "meta_description = driver.find_element(By.XPATH, '//*[@id=\"section_spec\"]/div[2]/table[6]/tbody/tr')\n",
    "description_content = meta_description.text\n",
    "description_content"
   ]
  },
  {
   "cell_type": "code",
   "execution_count": null,
   "metadata": {},
   "outputs": [],
   "source": [
    "meta_description = driver.find_element(By.XPATH, '//*[@id=\"section_spec\"]/div[2]/table[7]/tbody/tr')\n",
    "description_content = meta_description.text\n",
    "description_content"
   ]
  },
  {
   "cell_type": "code",
   "execution_count": null,
   "metadata": {},
   "outputs": [],
   "source": [
    "meta_description = driver.find_element(By.XPATH, '//*[@id=\"section_spec\"]/div[2]/table[8]/tbody/tr')\n",
    "description_content = meta_description.text\n",
    "description_content"
   ]
  },
  {
   "cell_type": "code",
   "execution_count": null,
   "metadata": {},
   "outputs": [],
   "source": [
    "meta_description = driver.find_element(By.XPATH, '//*[@id=\"section_spec\"]/div[2]/table[9]/tbody/tr')\n",
    "description_content = meta_description.text\n",
    "description_content"
   ]
  },
  {
   "cell_type": "code",
   "execution_count": null,
   "metadata": {},
   "outputs": [],
   "source": [
    "meta_description = driver.find_element(By.XPATH, '//*[@id=\"section_spec\"]/div[2]/table[10]/tbody/tr')\n",
    "description_content = meta_description.text\n",
    "description_content"
   ]
  },
  {
   "cell_type": "code",
   "execution_count": 37,
   "metadata": {},
   "outputs": [],
   "source": [
    "# # 현재 스크롤 위치 가져오기\n",
    "# current_scroll_position = driver.execute_script(\"return window.pageYOffset;\")\n",
    "\n",
    "# # 현재 위치에서 y 좌표 200px 만큼 아래로 스크롤하기\n",
    "# scroll_distance = 200  # 이동할 거리\n",
    "# new_scroll_position = current_scroll_position + scroll_distance\n",
    "# driver.execute_script(f\"window.scrollTo(0, {new_scroll_position});\")\n"
   ]
  },
  {
   "cell_type": "code",
   "execution_count": 4,
   "metadata": {},
   "outputs": [],
   "source": [
    "from selenium import webdriver\n",
    "from selenium.webdriver.chrome.service import Service\n",
    "from selenium.webdriver.chrome.options import Options\n",
    "from selenium.webdriver.common.by import By\n",
    "from selenium.webdriver.support.ui import WebDriverWait\n",
    "from selenium.webdriver.support import expected_conditions as EC\n",
    "import time\n",
    "import json\n",
    "\n",
    "def get_link(count:int):\n",
    "    # 파일 경로를 지정하여 JSON 파일을 엽니다.\n",
    "    file_path = 'naver_data_products/naver_api_response_laptop.json'\n",
    "\n",
    "    # JSON 파일을 로드하는 방법\n",
    "    with open(file_path, 'r', encoding='utf-8') as f:\n",
    "        data = json.load(f)\n",
    "    \n",
    "    # 리턴할 링크 넘기기\n",
    "    link = data[count][\"link\"]\n",
    "    print(link)\n",
    "    return link\n",
    "\n",
    "def set_selenium_options():\n",
    "    # 셀레니움 옵션 설정 (예: headless 모드 사용)\n",
    "    options = Options()\n",
    "    options.add_argument(\"--headless\")  # 브라우저 창을 띄우지 않고 실행\n",
    "    options.add_argument(\"--no-sandbox\")\n",
    "    options.add_argument(\"--disable-dev-shm-usage\")\n",
    "    options.add_argument(\"user-agent=Mozilla/5.0 (Windows NT 10.0; Win64; x64) AppleWebKit/537.36 (KHTML, like Gecko) Chrome/87.0.4280.88 Safari/537.36\")\n",
    "    return options\n",
    "\n",
    "def load_page(link, options=None):\n",
    "    # 페이지 로드에 약 7~8초 걸림\n",
    "    driver = webdriver.Chrome(options = options)\n",
    "    url = link\n",
    "    driver.get(url)\n",
    "    driver.implicitly_wait(8)\n",
    "    driver.refresh()\n",
    "    driver.implicitly_wait(8)\n",
    "    return driver\n",
    "\n",
    "# 페이지 로드 대기\n",
    "# time.sleep(5)\n",
    "\n",
    "def click_butten(driver, xpath='//*[@id=\"container\"]/div[2]/div[1]/div[3]/a'):\n",
    "    # 버튼을 XPath로 찾아 클릭하기\n",
    "    try:\n",
    "        button = driver.find_element(By.XPATH, xpath)  # XPath로 버튼 요소 선택\n",
    "        button.click()  # 버튼 클릭\n",
    "        print(\"버튼을 클릭했습니다.\")\n",
    "    except Exception as e:\n",
    "        raise print(\"버튼을 찾을 수 없거나 클릭할 수 없습니다.\")\n",
    "\n",
    "def get_data(driver):\n",
    "    description_content=[]\n",
    "    for j in range(1, 4):\n",
    "        # 반복문 내에서 요소를 찾는 코드에 응답 대기 시간 적용\n",
    "        try:\n",
    "            for i in range(1, 12):\n",
    "                # 최대 10초까지 대기\n",
    "                row = WebDriverWait(driver, 1).until(\n",
    "                    EC.presence_of_element_located((By.XPATH, f'//*[@id=\"section_spec\"]/div[{j}]/table[{i}]/tbody/tr'))\n",
    "                )\n",
    "                # description_content.append(meta_description.text.split())\n",
    "                # tr 안의 th 요소 가져오기\n",
    "                th_element = row.find_element(By.TAG_NAME, 'th')\n",
    "                th_text = th_element.text\n",
    "\n",
    "                # tr 안의 td 요소 가져오기\n",
    "                td_element = row.find_element(By.TAG_NAME, 'td')\n",
    "                td_text = td_element.text\n",
    "\n",
    "                # th, td 각각 저장\n",
    "                description_content.append({'header': th_text, 'value': td_text})\n",
    "        except:\n",
    "            pass\n",
    "        if description_content:\n",
    "            return description_content\n",
    "\n",
    "def quit_driver(driver):\n",
    "    # 드라이버 종료\n",
    "    driver.quit()\n",
    "\n",
    "def scroll_page(driver):\n",
    "    # 현재 스크롤 위치 가져오기\n",
    "    current_scroll_position = driver.execute_script(\"return window.pageYOffset;\")\n",
    "\n",
    "    # 현재 위치에서 y 좌표 200px 만큼 아래로 스크롤하기\n",
    "    scroll_distance = 7000  # 이동할 거리\n",
    "    new_scroll_position = current_scroll_position + scroll_distance\n",
    "    driver.execute_script(f\"window.scrollTo(0, {new_scroll_position});\")\n",
    "\n",
    "def click_butten_smartstore(driver, xpath='//*[@id=\"_productFloatingTab\"]/div/div[3]/ul/li[1]/a'):\n",
    "    # 버튼을 XPath로 찾아 클릭하기\n",
    "    try:\n",
    "        button = driver.find_element(By.XPATH, xpath)  # XPath로 버튼 요소 선택\n",
    "        button.click()  # 버튼 클릭\n",
    "        print(\"버튼을 클릭했습니다.\")\n",
    "    except Exception as e:\n",
    "        print(\"버튼을 찾을 수 없거나 클릭할 수 없습니다.\")\n",
    "    time.sleep(1)\n",
    "\n",
    "def get_data_smartstore(driver):\n",
    "    for j in range(3, 6):\n",
    "        description_content=[]\n",
    "        # 반복문 내에서 요소를 찾는 코드에 응답 대기 시간 적용\n",
    "        try:\n",
    "            # 최대 1초까지 대기\n",
    "            for i in range(1, 12):\n",
    "                row = WebDriverWait(driver, 1).until(\n",
    "                    EC.presence_of_element_located((By.XPATH, f'//*[@id=\"INTRODUCE\"]/div/div[{j}]/div/div[2]/div/table/tbody/tr[{i}]'))\n",
    "                )\n",
    "                # description_content.append(meta_description.text)\n",
    "                # tr 안의 th 요소 가져오기\n",
    "                th_element = row.find_element(By.TAG_NAME, 'th')\n",
    "                th_text = th_element.text\n",
    "\n",
    "                # tr 안의 td 요소 가져오기\n",
    "                td_element = row.find_element(By.TAG_NAME, 'td')\n",
    "                td_text = td_element.text\n",
    "\n",
    "                # th, td 각각 저장\n",
    "                description_content.append({'header': th_text, 'value': td_text})\n",
    "        except:\n",
    "            pass\n",
    "        if description_content:\n",
    "            return description_content"
   ]
  },
  {
   "cell_type": "code",
   "execution_count": 5,
   "metadata": {},
   "outputs": [],
   "source": [
    "def set_json_file():\n",
    "    import json\n",
    "    # 파일 경로를 지정하여 JSON 파일을 엽니다.\n",
    "    file_path = 'naver_data_products/naver_api_response_laptop.json'\n",
    "    # JSON 파일을 로드하는 방법\n",
    "    with open(file_path, 'r', encoding='utf-8') as f:\n",
    "        data = json.load(f)\n",
    "    return data\n",
    "\n",
    "def get_title(data, count):\n",
    "    title = data[count][\"title\"].split()[:6]\n",
    "    return \" \".join(title)"
   ]
  },
  {
   "cell_type": "code",
   "execution_count": 9,
   "metadata": {},
   "outputs": [
    {
     "name": "stdout",
     "output_type": "stream",
     "text": [
      "https://smartstore.naver.com/main/products/9530632513\n",
      "True\n",
      "버튼을 클릭했습니다.\n"
     ]
    },
    {
     "ename": "AttributeError",
     "evalue": "'NoneType' object has no attribute 'insert'",
     "output_type": "error",
     "traceback": [
      "\u001b[1;31m---------------------------------------------------------------------------\u001b[0m",
      "\u001b[1;31mAttributeError\u001b[0m                            Traceback (most recent call last)",
      "Cell \u001b[1;32mIn[9], line 15\u001b[0m\n\u001b[0;32m     13\u001b[0m     click_butten_smartstore(driver)\n\u001b[0;32m     14\u001b[0m     description_content \u001b[38;5;241m=\u001b[39m get_data_smartstore(driver)\n\u001b[1;32m---> 15\u001b[0m     \u001b[43mdescription_content\u001b[49m\u001b[38;5;241;43m.\u001b[39;49m\u001b[43minsert\u001b[49m(\u001b[38;5;241m0\u001b[39m, {\u001b[38;5;124m'\u001b[39m\u001b[38;5;124mtitle\u001b[39m\u001b[38;5;124m'\u001b[39m : title})\n\u001b[0;32m     16\u001b[0m \u001b[38;5;28;01melse\u001b[39;00m:\n\u001b[0;32m     17\u001b[0m     \u001b[38;5;28;01mpass\u001b[39;00m\n",
      "\u001b[1;31mAttributeError\u001b[0m: 'NoneType' object has no attribute 'insert'"
     ]
    }
   ],
   "source": [
    "count = 19\n",
    "link = get_link(count)\n",
    "print(\"smartstore\" in link)\n",
    "driver = load_page(link)\n",
    "data = set_json_file()\n",
    "title = get_title(data, count)\n",
    "if not \"smartstore\" in link:\n",
    "    click_butten(driver=driver)\n",
    "    description_content = get_data(driver)\n",
    "    description_content.insert(0, {'title' : title})\n",
    "elif \"smartstore\" in link:\n",
    "    scroll_page(driver)\n",
    "    click_butten_smartstore(driver)\n",
    "    description_content = get_data_smartstore(driver)\n",
    "    description_content.insert(0, {'title' : title})\n",
    "else:\n",
    "    pass\n",
    "print(description_content)\n",
    "quit_driver(driver)"
   ]
  },
  {
   "cell_type": "code",
   "execution_count": 26,
   "metadata": {},
   "outputs": [
    {
     "name": "stdout",
     "output_type": "stream",
     "text": [
      "CPU 라이젠3-7330U\n",
      "CPU속도(기본클럭) 2.3GHz\n",
      "RAM 8GB\n",
      "화면크기 39.6cm(15.6인치)\n",
      "패널 IPS패널(광시야각)\n",
      "디스플레이 종류 LCD\n",
      "AMD GPU 라데온 Graphics\n",
      "SSD 인터페이스 M.2\n"
     ]
    }
   ],
   "source": [
    "for i in range(1, len(description_content)):\n",
    "    print(description_content[i]['header'], description_content[i]['value'],)"
   ]
  },
  {
   "cell_type": "code",
   "execution_count": 24,
   "metadata": {},
   "outputs": [
    {
     "data": {
      "text/plain": [
       "[{'title': 'LG전자 울트라PC 15인치 사무용 인강용 업무용'},\n",
       " {'header': 'CPU', 'value': '라이젠3-7330U'},\n",
       " {'header': 'CPU속도(기본클럭)', 'value': '2.3GHz'},\n",
       " {'header': 'RAM', 'value': '8GB'},\n",
       " {'header': '화면크기', 'value': '39.6cm(15.6인치)'},\n",
       " {'header': '패널', 'value': 'IPS패널(광시야각)'},\n",
       " {'header': '디스플레이 종류', 'value': 'LCD'},\n",
       " {'header': 'AMD GPU', 'value': '라데온 Graphics'},\n",
       " {'header': 'SSD 인터페이스', 'value': 'M.2'}]"
      ]
     },
     "execution_count": 24,
     "metadata": {},
     "output_type": "execute_result"
    }
   ],
   "source": [
    "test = description_content\n",
    "test"
   ]
  },
  {
   "cell_type": "code",
   "execution_count": 25,
   "metadata": {},
   "outputs": [
    {
     "name": "stdout",
     "output_type": "stream",
     "text": [
      "CPU\n",
      "CPU속도(기본클럭)\n",
      "RAM\n",
      "화면크기\n",
      "패널\n",
      "디스플레이 종류\n",
      "AMD GPU\n",
      "SSD 인터페이스\n"
     ]
    }
   ],
   "source": [
    "for i in range(1, len(test)):\n",
    "    if test[i]['header'] == '램'or'렘':\n",
    "        test[i]['header'] = 'RAM'\n",
    "    print(test[i]['header'])"
   ]
  },
  {
   "cell_type": "code",
   "execution_count": null,
   "metadata": {},
   "outputs": [],
   "source": [
    "# CPU, RAM, Storage, Display, Battery, price"
   ]
  }
 ],
 "metadata": {
  "kernelspec": {
   "display_name": ".venv",
   "language": "python",
   "name": "python3"
  },
  "language_info": {
   "codemirror_mode": {
    "name": "ipython",
    "version": 3
   },
   "file_extension": ".py",
   "mimetype": "text/x-python",
   "name": "python",
   "nbconvert_exporter": "python",
   "pygments_lexer": "ipython3",
   "version": "3.12.4"
  }
 },
 "nbformat": 4,
 "nbformat_minor": 2
}
