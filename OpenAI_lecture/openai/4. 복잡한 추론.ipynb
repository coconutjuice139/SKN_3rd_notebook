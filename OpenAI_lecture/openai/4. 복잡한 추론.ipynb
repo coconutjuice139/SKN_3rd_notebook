{
 "cells": [
  {
   "cell_type": "code",
   "execution_count": 1,
   "metadata": {},
   "outputs": [
    {
     "name": "stdout",
     "output_type": "stream",
     "text": [
      "로컬 환경에서 실행 중입니다.\n",
      "Windows 로컬 환경에서 실행 중입니다.\n"
     ]
    }
   ],
   "source": [
    "import os\n",
    "from openai import OpenAI\n",
    "from dotenv import load_dotenv\n",
    "# from google.colab import drive\n",
    "\n",
    "# drive.mount('/content/drive')\n",
    "\n",
    "try:\n",
    "    import google.colab\n",
    "    print(\"Colab 환경에서 실행 중입니다.\")\n",
    "    PATH = '/content/drive/MyDrive/data/'\n",
    "    env_path = PATH + \"env/.env\"\n",
    "except ImportError:\n",
    "    print(\"로컬 환경에서 실행 중입니다.\")\n",
    "    import platform\n",
    "    os_name = platform.system()\n",
    "    if os_name == \"Windows\":\n",
    "        print(\"Windows 로컬 환경에서 실행 중입니다.\")\n",
    "        PATH = './'\n",
    "        env_path = PATH + \"env/.env\"\n",
    "    elif os_name == \"Linux\":\n",
    "        print(\"Linux 환경에서 실행 중입니다. (Colab일 가능성 있음)\")\n",
    "    else:\n",
    "        print(f\"운영 체제: {os_name}\")\n",
    "\n",
    "load_dotenv(dotenv_path=env_path)\n",
    "\n",
    "# getenv로 환경 변수 가져오기\n",
    "# KEY 쓸 때, 띄워쓰기 하면 안됨...\n",
    "# env에 있는 모든 워드들은 띄워쓰기하면 못 알아봄\n",
    "api_key = os.getenv('MY_OWN_KEY')\n",
    "\n",
    "if not api_key:\n",
    "    raise ValueError(\".env 파일에서 API 키를 로드하지 못했습니다.\")\n",
    "\n",
    "\n",
    "# 가져온 값을 environ에 저장\n",
    "os.environ['OPENAI_API_KEY'] = api_key\n",
    "\n",
    "# 이제 environ에서 값을 다시 확인할 수 있음\n",
    "# print(os.environ['MY_OWN_KEY'])\n",
    "\n",
    "\n",
    "# os.environ['OPENAI_API_KEY'] = '생성한 키 입력'\n",
    "\n",
    "client = OpenAI()"
   ]
  },
  {
   "cell_type": "code",
   "execution_count": 3,
   "metadata": {},
   "outputs": [],
   "source": [
    "response = client.chat.completions.create(\n",
    "    model = 'gpt-4o-mini',\n",
    "    messages = [\n",
    "        {\n",
    "            \"role\": \"user\",\n",
    "            \"content\": \"Solve the equation: 5x -3 = 12\"\n",
    "        }\n",
    "    ]\n",
    ")"
   ]
  },
  {
   "cell_type": "code",
   "execution_count": 4,
   "metadata": {},
   "outputs": [
    {
     "name": "stdout",
     "output_type": "stream",
     "text": [
      "To solve the equation \\( 5x - 3 = 12 \\), follow these steps:\n",
      "\n",
      "1. Add 3 to both sides of the equation:\n",
      "   \\[\n",
      "   5x - 3 + 3 = 12 + 3\n",
      "   \\]\n",
      "   This simplifies to:\n",
      "   \\[\n",
      "   5x = 15\n",
      "   \\]\n",
      "\n",
      "2. Now, divide both sides by 5:\n",
      "   \\[\n",
      "   x = \\frac{15}{5}\n",
      "   \\]\n",
      "   This simplifies to:\n",
      "   \\[\n",
      "   x = 3\n",
      "   \\]\n",
      "\n",
      "Therefore, the solution is \\( x = 3 \\).\n"
     ]
    }
   ],
   "source": [
    "print(response.choices[0].message.content)"
   ]
  },
  {
   "cell_type": "markdown",
   "metadata": {},
   "source": [
    "# json 답변받기"
   ]
  },
  {
   "cell_type": "code",
   "execution_count": 18,
   "metadata": {},
   "outputs": [],
   "source": [
    "\n",
    "\n",
    "system_text = \"You are a helpful assistant designed to output JSON and the answer must be korean\"\n",
    "question_text = \"한글을 만든 사람은 누구인가?\"\n",
    "\n",
    "response = client.chat.completions.create(\n",
    "    model = 'gpt-4o-mini',\n",
    "    messages = [\n",
    "        {\n",
    "            \"role\": \"system\",\n",
    "            \"content\": system_text\n",
    "        },\n",
    "        {\n",
    "            \"role\": \"user\",\n",
    "            \"content\": question_text\n",
    "        }\n",
    "    ],\n",
    "    response_format={\n",
    "        \"type\": \"json_object\"\n",
    "    }\n",
    ")"
   ]
  },
  {
   "cell_type": "code",
   "execution_count": 23,
   "metadata": {},
   "outputs": [
    {
     "name": "stdout",
     "output_type": "stream",
     "text": [
      "{\n",
      "  \"답변\": \"한글은 조선의 제4대 왕인 세종대왕과 그의 학자들이 만든 글자입니다. 세종대왕은 한글 창제를 통해 모든 백성이 쉽게 읽고 쓸 수 있도록 하였습니다.\"\n",
      "}\n"
     ]
    }
   ],
   "source": [
    "if response:\n",
    "    print(response.choices[0].message.content)"
   ]
  },
  {
   "cell_type": "code",
   "execution_count": 24,
   "metadata": {},
   "outputs": [],
   "source": [
    "system_text = \"You are a helpful assistant designed to output JSON and the answer must be korean\"\n",
    "question_text = \"한글을 만든 사람은 누구인가?\"\n",
    "\n",
    "response = client.chat.completions.create(\n",
    "    model = 'gpt-4o-mini',\n",
    "    messages = [\n",
    "        {\n",
    "            \"role\": \"system\",\n",
    "            \"content\": system_text\n",
    "        },\n",
    "        {\n",
    "            \"role\": \"user\",\n",
    "            \"content\": question_text\n",
    "        }\n",
    "    ],\n",
    "    response_format={\n",
    "        \"type\": \"json_object\"\n",
    "    },\n",
    "    temperature= 0.5,\n",
    "    max_tokens=100\n",
    ")"
   ]
  },
  {
   "cell_type": "code",
   "execution_count": 25,
   "metadata": {},
   "outputs": [
    {
     "name": "stdout",
     "output_type": "stream",
     "text": [
      "{\n",
      "  \"한글_제작자\": \"세종대왕\",\n",
      "  \"설명\": \"한글은 15세기 세종대왕과 그의 신하들이 만든 한국의 문자 체계입니다.\"\n",
      "}\n"
     ]
    }
   ],
   "source": [
    "if response:\n",
    "    print(response.choices[0].message.content)"
   ]
  },
  {
   "cell_type": "code",
   "execution_count": 26,
   "metadata": {},
   "outputs": [],
   "source": [
    "system_text = \"You are a helpful assistant designed to output JSON and the answer must be korean\"\n",
    "question_text = \"한글을 만든 사람은 누구인가?\"\n",
    "\n",
    "response = client.chat.completions.create(\n",
    "    model = 'gpt-4o-mini',\n",
    "    messages = [\n",
    "        {\n",
    "            \"role\": \"system\",\n",
    "            \"content\": system_text\n",
    "        },\n",
    "        {\n",
    "            \"role\": \"user\",\n",
    "            \"content\": question_text\n",
    "        }\n",
    "    ],\n",
    "    response_format={\n",
    "        \"type\": \"json_object\"\n",
    "    },\n",
    "    temperature= 0.5,\n",
    "    max_tokens=100,\n",
    "    n = 5\n",
    ")"
   ]
  },
  {
   "cell_type": "code",
   "execution_count": 34,
   "metadata": {},
   "outputs": [
    {
     "name": "stdout",
     "output_type": "stream",
     "text": [
      "{\n",
      "  \"한글_제작자\": \"세종대왕\",\n",
      "  \"설명\": \"한글은 조선의 제4대 왕인 세종대왕이 1443년에 창제하였으며, 1446년에 반포되었습니다.\"\n",
      "}\n",
      "{\n",
      "  \"답변\": \"한글을 만든 사람은 세종대왕입니다.\"\n",
      "}\n",
      "{\n",
      "  \"한글_제작자\": \"세종대왕\",\n",
      "  \"설명\": \"세종대왕은 15세기 조선의 왕으로, 한글을 창제하여 백성들이 쉽게 읽고 쓸 수 있도록 하였습니다.\"\n",
      "}\n",
      "{\n",
      "  \"한글_제작자\": \"세종대왕\",\n",
      "  \"설명\": \"한글은 조선의 제4대 왕인 세종대왕과 그의 신하들이 1443년에 창제하였으며, 1446년에 반포되었습니다.\"\n",
      "}\n",
      "{\n",
      "  \"한글_제작자\": \"세종대왕\",\n",
      "  \"설명\": \"한글은 조선의 제4대 왕인 세종대왕이 1443년에 창제하였으며, 1446년에 반포되었습니다.\"\n",
      "}\n"
     ]
    }
   ],
   "source": [
    "for res in response.choices:\n",
    "    print(res.message.content)"
   ]
  },
  {
   "cell_type": "code",
   "execution_count": null,
   "metadata": {},
   "outputs": [],
   "source": []
  }
 ],
 "metadata": {
  "kernelspec": {
   "display_name": ".venv",
   "language": "python",
   "name": "python3"
  },
  "language_info": {
   "codemirror_mode": {
    "name": "ipython",
    "version": 3
   },
   "file_extension": ".py",
   "mimetype": "text/x-python",
   "name": "python",
   "nbconvert_exporter": "python",
   "pygments_lexer": "ipython3",
   "version": "3.12.4"
  }
 },
 "nbformat": 4,
 "nbformat_minor": 2
}
