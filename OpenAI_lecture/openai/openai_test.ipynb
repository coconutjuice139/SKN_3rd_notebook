{
 "cells": [
  {
   "cell_type": "code",
   "execution_count": 2,
   "metadata": {},
   "outputs": [
    {
     "name": "stdout",
     "output_type": "stream",
     "text": [
      "로컬 환경에서 실행 중입니다.\n",
      "Windows 로컬 환경에서 실행 중입니다.\n"
     ]
    }
   ],
   "source": [
    "import os\n",
    "from dotenv import load_dotenv\n",
    "# from google.colab import drive\n",
    "\n",
    "# drive.mount('/content/drive')\n",
    "\n",
    "try:\n",
    "    import google.colab\n",
    "    print(\"Colab 환경에서 실행 중입니다.\")\n",
    "    PATH = '/content/drive/MyDrive/data/'\n",
    "    env_path = PATH + \"env/.env\"\n",
    "except ImportError:\n",
    "    print(\"로컬 환경에서 실행 중입니다.\")\n",
    "    import platform\n",
    "    os_name = platform.system()\n",
    "    if os_name == \"Windows\":\n",
    "        print(\"Windows 로컬 환경에서 실행 중입니다.\")\n",
    "        PATH = './'\n",
    "        env_path = PATH + \"env/.env\"\n",
    "    elif os_name == \"Linux\":\n",
    "        print(\"Linux 환경에서 실행 중입니다. (Colab일 가능성 있음)\")\n",
    "    else:\n",
    "        print(f\"운영 체제: {os_name}\")\n",
    "\n",
    "load_dotenv(dotenv_path=env_path)\n",
    "\n",
    "# getenv로 환경 변수 가져오기\n",
    "# KEY 쓸 때, 띄워쓰기 하면 안됨...\n",
    "# env에 있는 모든 워드들은 띄워쓰기하면 못 알아봄\n",
    "api_key = os.getenv('MY_OWN_KEY')\n",
    "\n",
    "if not api_key:\n",
    "    raise ValueError(\".env 파일에서 API 키를 로드하지 못했습니다.\")\n",
    "\n",
    "\n",
    "# 가져온 값을 environ에 저장\n",
    "os.environ['OPENAI_API_KEY'] = api_key\n",
    "\n",
    "# 이제 environ에서 값을 다시 확인할 수 있음\n",
    "# print(os.environ['MY_OWN_KEY'])\n",
    "\n",
    "\n",
    "# os.environ['OPENAI_API_KEY'] = '생성한 키 입력'\n"
   ]
  }
 ],
 "metadata": {
  "kernelspec": {
   "display_name": ".venv",
   "language": "python",
   "name": "python3"
  },
  "language_info": {
   "codemirror_mode": {
    "name": "ipython",
    "version": 3
   },
   "file_extension": ".py",
   "mimetype": "text/x-python",
   "name": "python",
   "nbconvert_exporter": "python",
   "pygments_lexer": "ipython3",
   "version": "3.12.4"
  }
 },
 "nbformat": 4,
 "nbformat_minor": 2
}
