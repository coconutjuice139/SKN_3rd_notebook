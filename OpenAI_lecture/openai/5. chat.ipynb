{
 "cells": [
  {
   "cell_type": "code",
   "execution_count": 1,
   "metadata": {},
   "outputs": [
    {
     "name": "stdout",
     "output_type": "stream",
     "text": [
      "로컬 환경에서 실행 중입니다.\n",
      "Windows 로컬 환경에서 실행 중입니다.\n"
     ]
    }
   ],
   "source": [
    "import os\n",
    "from openai import OpenAI\n",
    "from dotenv import load_dotenv\n",
    "# from google.colab import drive\n",
    "\n",
    "# drive.mount('/content/drive')\n",
    "\n",
    "try:\n",
    "    import google.colab\n",
    "    print(\"Colab 환경에서 실행 중입니다.\")\n",
    "    PATH = '/content/drive/MyDrive/data/'\n",
    "    env_path = PATH + \"env/.env\"\n",
    "except ImportError:\n",
    "    print(\"로컬 환경에서 실행 중입니다.\")\n",
    "    import platform\n",
    "    os_name = platform.system()\n",
    "    if os_name == \"Windows\":\n",
    "        print(\"Windows 로컬 환경에서 실행 중입니다.\")\n",
    "        PATH = './'\n",
    "        env_path = PATH + \"env/.env\"\n",
    "    elif os_name == \"Linux\":\n",
    "        print(\"Linux 환경에서 실행 중입니다. (Colab일 가능성 있음)\")\n",
    "    else:\n",
    "        print(f\"운영 체제: {os_name}\")\n",
    "\n",
    "load_dotenv(dotenv_path=env_path)\n",
    "\n",
    "# getenv로 환경 변수 가져오기\n",
    "# KEY 쓸 때, 띄워쓰기 하면 안됨...\n",
    "# env에 있는 모든 워드들은 띄워쓰기하면 못 알아봄\n",
    "api_key = os.getenv('MY_OWN_KEY')\n",
    "\n",
    "if not api_key:\n",
    "    raise ValueError(\".env 파일에서 API 키를 로드하지 못했습니다.\")\n",
    "\n",
    "\n",
    "# 가져온 값을 environ에 저장\n",
    "os.environ['OPENAI_API_KEY'] = api_key\n",
    "\n",
    "# 이제 environ에서 값을 다시 확인할 수 있음\n",
    "# print(os.environ['MY_OWN_KEY'])\n",
    "\n",
    "\n",
    "# os.environ['OPENAI_API_KEY'] = '생성한 키 입력'\n",
    "\n",
    "client = OpenAI()"
   ]
  },
  {
   "cell_type": "markdown",
   "metadata": {},
   "source": [
    "# 챗봇 만들기"
   ]
  },
  {
   "cell_type": "code",
   "execution_count": 2,
   "metadata": {},
   "outputs": [],
   "source": [
    "model_id = \"gpt-4o-mini\""
   ]
  },
  {
   "cell_type": "markdown",
   "metadata": {},
   "source": [
    "### message\n",
    "> 리스트 형태의 딕셔너리 객체 정의\n",
    "\n",
    "- role: \n",
    "    - `system` : 챗봇(LLM)에게 역할을 부여\n",
    "    - `user` : 챗봇(LLM)에 부여할 요청 내용\n",
    "\n"
   ]
  },
  {
   "cell_type": "code",
   "execution_count": 4,
   "metadata": {},
   "outputs": [],
   "source": [
    "messages = [\n",
    "    {\n",
    "        \"role\": \"system\",\n",
    "        \"content\": \"당신은 파이썬 프로그래머입니다.\"\n",
    "    },\n",
    "    {\n",
    "        \"role\": \"user\",\n",
    "        \"content\": \"피보나치 수열을 생성하는 파이썬 프로그램을 작성해주세요.\"\n",
    "    }\n",
    "]"
   ]
  },
  {
   "cell_type": "code",
   "execution_count": 5,
   "metadata": {},
   "outputs": [],
   "source": [
    "responses = client.chat.completions.create(\n",
    "    model=model_id,\n",
    "    messages=messages,\n",
    "    max_tokens= 50,\n",
    ")"
   ]
  },
  {
   "cell_type": "code",
   "execution_count": 8,
   "metadata": {},
   "outputs": [
    {
     "data": {
      "text/plain": [
       "'피보나치 수열을 생성하는 간단한 파이썬 프로그램을 아래에 작성해 보았습니다. 이 프로그램은 사용자가 원하는 피보나치 수열의 항 개수를 입력하면 해당 개수만큼의 피'"
      ]
     },
     "execution_count": 8,
     "metadata": {},
     "output_type": "execute_result"
    }
   ],
   "source": [
    "responses.choices[0].message.content"
   ]
  }
 ],
 "metadata": {
  "kernelspec": {
   "display_name": ".venv",
   "language": "python",
   "name": "python3"
  },
  "language_info": {
   "codemirror_mode": {
    "name": "ipython",
    "version": 3
   },
   "file_extension": ".py",
   "mimetype": "text/x-python",
   "name": "python",
   "nbconvert_exporter": "python",
   "pygments_lexer": "ipython3",
   "version": "3.12.4"
  }
 },
 "nbformat": 4,
 "nbformat_minor": 2
}
