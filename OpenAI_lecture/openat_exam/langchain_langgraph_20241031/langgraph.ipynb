{
 "cells": [
  {
   "cell_type": "code",
   "execution_count": 1,
   "metadata": {},
   "outputs": [
    {
     "name": "stdout",
     "output_type": "stream",
     "text": [
      "로컬 환경에서 실행 중입니다.\n",
      "Windows 로컬 환경에서 실행 중입니다.\n"
     ]
    }
   ],
   "source": [
    "import os\n",
    "from dotenv import load_dotenv\n",
    "# from google.colab import drive\n",
    "\n",
    "# drive.mount('/content/drive')\n",
    "\n",
    "try:\n",
    "    import google.colab\n",
    "    print(\"Colab 환경에서 실행 중입니다.\")\n",
    "    PATH = '/content/drive/MyDrive/data/'\n",
    "    env_path = PATH + \"env/.env\"\n",
    "except ImportError:\n",
    "    print(\"로컬 환경에서 실행 중입니다.\")\n",
    "    import platform\n",
    "    os_name = platform.system()\n",
    "    if os_name == \"Windows\":\n",
    "        print(\"Windows 로컬 환경에서 실행 중입니다.\")\n",
    "        PATH = './'\n",
    "        env_path = PATH + \"env/.env\"\n",
    "    elif os_name == \"Linux\":\n",
    "        print(\"Linux 환경에서 실행 중입니다. (Colab일 가능성 있음)\")\n",
    "    else:\n",
    "        print(f\"운영 체제: {os_name}\")\n",
    "\n",
    "load_dotenv(dotenv_path=env_path)\n",
    "\n",
    "# getenv로 환경 변수 가져오기\n",
    "# KEY 쓸 때, 띄워쓰기 하면 안됨...\n",
    "# env에 있는 모든 워드들은 띄워쓰기하면 못 알아봄\n",
    "api_key = os.getenv('MY_OWN_KEY')\n",
    "\n",
    "if not api_key:\n",
    "    raise ValueError(\".env 파일에서 API 키를 로드하지 못했습니다.\")\n",
    "\n",
    "\n",
    "# 가져온 값을 environ에 저장\n",
    "os.environ['OPENAI_API_KEY'] = api_key"
   ]
  },
  {
   "cell_type": "markdown",
   "metadata": {},
   "source": [
    "# Graph v1"
   ]
  },
  {
   "cell_type": "markdown",
   "metadata": {},
   "source": [
    "## State\n",
    "\n",
    "- add_messages : 기존 메세지가 있으면 update, 없으면 add하는 기능\n",
    "    - 저장 형식\n",
    "    ``` python\n",
    "    {\n",
    "        \"messages\": [\n",
    "            {\"role\": \"user\", \"content\": \"안녕하세요\"},\n",
    "            {\"role\": \"assistant\", \"content\": \"안녕하세요! 무엇을 도와드릴까요?\"},\n",
    "            # ... 추가 메시지들\n",
    "        ]\n",
    "    }\n",
    "    ```"
   ]
  },
  {
   "cell_type": "code",
   "execution_count": 2,
   "metadata": {},
   "outputs": [],
   "source": [
    "# state를 만들거임\n",
    "# 각 노드간 데이터를 전달하는 box 역할\n",
    "from typing import Annotated\n",
    "from typing_extensions import TypedDict\n",
    "from langgraph.graph.message import add_messages\n",
    "\n",
    "class State(TypedDict):\n",
    "    messages: Annotated[list, add_messages]"
   ]
  },
  {
   "cell_type": "markdown",
   "metadata": {},
   "source": [
    "## Node\n",
    "\n",
    "- 노드는 그래프 구조의 기본 구성 요소 중 하나로, **특정 작업을 수행하는 단위**를 나타냅니다.\n",
    "- LangGraph에서 노드는 언어 모델 호출, 데이터 처리, 입력을 구성하는 등 **하나의 독립된 작업**을 맡고 있습니다.\n",
    "- 예를 들어, 언어 모델이 특정 질문에 대한 답변을 생성하는 기능을 담당하는 노드를 생성할 수 있습니다.\n",
    "- 노드의 종류: LLM(언어 모델) 노드, 메모리 노드, 도구 노드 등 다양한 작업별 노드로 나뉘며, 필요에 따라 여러 노드를 서로 연결하여 워크플로우를 구성할 수 있습니다."
   ]
  },
  {
   "cell_type": "code",
   "execution_count": 3,
   "metadata": {},
   "outputs": [],
   "source": [
    "# node 만들거임\n",
    "# \n",
    "\n",
    "from langchain_openai import ChatOpenAI\n",
    "\n",
    "llm = ChatOpenAI(model=\"gpt-4o-mini\")"
   ]
  },
  {
   "cell_type": "code",
   "execution_count": 4,
   "metadata": {},
   "outputs": [],
   "source": [
    "def chatbot(state:State) -> State:\n",
    "    return {\n",
    "        \"messages\":[\n",
    "            llm.invoke(\n",
    "                state[\"messages\"]\n",
    "            )\n",
    "        ]\n",
    "    }"
   ]
  },
  {
   "cell_type": "markdown",
   "metadata": {},
   "source": [
    "## Create Graph"
   ]
  },
  {
   "cell_type": "code",
   "execution_count": 5,
   "metadata": {},
   "outputs": [],
   "source": [
    "# Graph 객체 선언\n",
    "# simple_graph 상 데이터 전달에 사용할 객체 = State 클래스\n",
    "from langgraph.graph import StateGraph\n",
    "\n",
    "simple_graph = StateGraph(State)"
   ]
  },
  {
   "cell_type": "markdown",
   "metadata": {},
   "source": [
    "## Add node"
   ]
  },
  {
   "cell_type": "code",
   "execution_count": 6,
   "metadata": {},
   "outputs": [
    {
     "data": {
      "text/plain": [
       "<langgraph.graph.state.StateGraph at 0x2159acbe540>"
      ]
     },
     "execution_count": 6,
     "metadata": {},
     "output_type": "execute_result"
    }
   ],
   "source": [
    "# node를 LangGraph에 추가하기\n",
    "# add_node(\"식별명\", 생성한 node 명)\n",
    "# 나중에 egde들이 node를 구별해야 하므로 이를 명시하고 연결시키기 위해 \"식별명\"이 필수적으로 들어가야 한다.\n",
    "\n",
    "simple_graph.add_node(\n",
    "    \"simple_chatbot\", chatbot\n",
    ")"
   ]
  },
  {
   "cell_type": "markdown",
   "metadata": {},
   "source": [
    "## Start node & End node"
   ]
  },
  {
   "cell_type": "code",
   "execution_count": 7,
   "metadata": {},
   "outputs": [
    {
     "data": {
      "text/plain": [
       "<langgraph.graph.state.StateGraph at 0x2159acbe540>"
      ]
     },
     "execution_count": 7,
     "metadata": {},
     "output_type": "execute_result"
    }
   ],
   "source": [
    "# 모든 Graph에는 Start와 end node가 필수적으로 필요하다.\n",
    "\n",
    "# start node\n",
    "# LangGraph에 추가된 노드들 중에서 맨 처음으로 사용되는 노드 정의\n",
    "# 해당 예제에선 simple_chatbot이라는 노드, 하나뿐임으로 해당 노드가 start node가 된다.\n",
    "simple_graph.set_entry_point(\n",
    "    \"simple_chatbot\"\n",
    ")"
   ]
  },
  {
   "cell_type": "code",
   "execution_count": 8,
   "metadata": {},
   "outputs": [
    {
     "data": {
      "text/plain": [
       "<langgraph.graph.state.StateGraph at 0x2159acbe540>"
      ]
     },
     "execution_count": 8,
     "metadata": {},
     "output_type": "execute_result"
    }
   ],
   "source": [
    "# end node\n",
    "# LangGraph에 추가된 노드들 중에서 맨 마지막으로 사용되는 노드 정의\n",
    "# 해당 예제에선 simple_chatbot이라는 노드, 하나 뿐이므로 해당 노드가 end node가 된다.\n",
    "simple_graph.set_finish_point(\n",
    "    \"simple_chatbot\"\n",
    ")"
   ]
  },
  {
   "cell_type": "markdown",
   "metadata": {},
   "source": [
    "## Compile Graph"
   ]
  },
  {
   "cell_type": "code",
   "execution_count": 9,
   "metadata": {},
   "outputs": [],
   "source": [
    "# complie() 함수를 통해서 객체화(메모리에 올리감)\n",
    "# 이 이전의 과정은 단순 빌드 과정\n",
    "# 다르게 말하면 이전 과정들은 프로그램을 실행하기 전에 코드를 짜는 과정\n",
    "# simple_graph에 추가한(add_node, StateGraph) 것들을 모두 실행하기 위해 메모리에 올리는 과정\n",
    "compiled_graph = simple_graph.compile()"
   ]
  },
  {
   "cell_type": "markdown",
   "metadata": {},
   "source": [
    "## Display Graph"
   ]
  },
  {
   "cell_type": "code",
   "execution_count": 10,
   "metadata": {},
   "outputs": [
    {
     "data": {
      "image/jpeg": "[encoded data removed]",
      "text/plain": [
       "<IPython.core.display.Image object>"
      ]
     },
     "metadata": {},
     "output_type": "display_data"
    }
   ],
   "source": [
    "# 현재 확장자가 ipynb이므로 Ipython을 사용한 거임\n",
    "from IPython.display import Image, display\n",
    "\n",
    "try:\n",
    "    display(\n",
    "        Image(\n",
    "            compiled_graph.get_graph().draw_mermaid_png()\n",
    "        )\n",
    "    )\n",
    "except:\n",
    "    pass"
   ]
  },
  {
   "cell_type": "markdown",
   "metadata": {},
   "source": [
    "## Run Graph\n",
    "- CallbackHandler\n",
    "    - LangSmith를 통해 Graph 로깅을 도와주는 객체"
   ]
  },
  {
   "cell_type": "code",
   "execution_count": 11,
   "metadata": {},
   "outputs": [
    {
     "name": "stderr",
     "output_type": "stream",
     "text": [
      "Langfuse client is disabled since no public_key was provided as a parameter or environment variable 'LANGFUSE_PUBLIC_KEY'. See our docs: https://langfuse.com/docs/sdk/python/low-level-sdk#initialize-client\n"
     ]
    },
    {
     "name": "stdout",
     "output_type": "stream",
     "text": [
      "{'simple_chatbot': {'messages': [AIMessage(content='대한민국의 수도는 서울입니다.', additional_kwargs={'refusal': None}, response_metadata={'token_usage': {'completion_tokens': 8, 'prompt_tokens': 13, 'total_tokens': 21, 'completion_tokens_details': {'audio_tokens': None, 'reasoning_tokens': 0}, 'prompt_tokens_details': {'audio_tokens': None, 'cached_tokens': 0}}, 'model_name': 'gpt-4o-mini-2024-07-18', 'system_fingerprint': 'fp_0ba0d124f1', 'finish_reason': 'stop', 'logprobs': None}, id='run-032d1638-45f3-4595-b818-ec0e060b46d2-0', usage_metadata={'input_tokens': 13, 'output_tokens': 8, 'total_tokens': 21, 'input_token_details': {'cache_read': 0}, 'output_token_details': {'reasoning': 0}})]}}\n"
     ]
    }
   ],
   "source": [
    "from langfuse.callback import CallbackHandler\n",
    "from langchain_core.messages import HumanMessage\n",
    "import time\n",
    "# LangGraph와 LangSmith를 연결하기 위한 객체\n",
    "langfuse_handler = CallbackHandler()\n",
    "\n",
    "for chunk in compiled_graph.stream(\n",
    "    # start node에게 전달할 input data\n",
    "            {\n",
    "                \"messages\":[\n",
    "                    HumanMessage(content=\"대한민국의 수도는?\")\n",
    "                ]\n",
    "            },\n",
    "            # 로깅 설정 = LangGraph 기록을 LangSmith한테 전달\n",
    "            config = {\n",
    "                \"callbacks\":[langfuse_handler]\n",
    "            }\n",
    "        ):\n",
    "    print(chunk)\n",
    "    time.sleep(0.05)"
   ]
  },
  {
   "cell_type": "markdown",
   "metadata": {},
   "source": [
    "# Graph v2.1 -> State를 리스트로 선언\n",
    "- 기본 코드 셋으로는 indexing에 유의가 필요함\n",
    "- 최신 자료는 [-1]과 같은 indexing을 이용해서 해결"
   ]
  },
  {
   "cell_type": "markdown",
   "metadata": {},
   "source": [
    "## State"
   ]
  },
  {
   "cell_type": "code",
   "execution_count": 12,
   "metadata": {},
   "outputs": [],
   "source": [
    "# state를 만들거임\n",
    "# 각 노드간 데이터를 전달하는 box 역할\n",
    "from typing import Annotated\n",
    "from typing_extensions import TypedDict\n",
    "from langgraph.graph.message import add_messages\n",
    "\n",
    "class State(TypedDict):\n",
    "    messages: Annotated[list, add_messages]"
   ]
  },
  {
   "cell_type": "markdown",
   "metadata": {},
   "source": [
    "## Node"
   ]
  },
  {
   "cell_type": "code",
   "execution_count": 13,
   "metadata": {},
   "outputs": [],
   "source": [
    "def len_str(state:State) -> State:\n",
    "    input_data = state[\"messages\"][-1].content\n",
    "    print(input_data)\n",
    "    result = len(input_data)\n",
    "    return {\n",
    "        \"messages\": [\n",
    "            HumanMessage(content=str(result))  # 정수를 문자열로 변환하여 메시지 객체로 반환\n",
    "        ]\n",
    "    }"
   ]
  },
  {
   "cell_type": "code",
   "execution_count": 14,
   "metadata": {},
   "outputs": [],
   "source": [
    "def add_one(state:State) -> State:\n",
    "    input_data = state[\"messages\"][-1].content\n",
    "    print(input_data)\n",
    "    result = int(input_data) + 1\n",
    "    return {\n",
    "        \"messages\": [\n",
    "            HumanMessage(content=str(result))  # 정수를 문자열로 변환하여 메시지 객체로 반환\n",
    "        ]\n",
    "    }"
   ]
  },
  {
   "cell_type": "code",
   "execution_count": 15,
   "metadata": {},
   "outputs": [],
   "source": [
    "# def dis_one(state:State) -> State:\n",
    "#     input_data = state[\"messages\"][0].content\n",
    "#     result = int(input_data) - 1\n",
    "#     return{\n",
    "#         \"messages\":[result]\n",
    "#     }"
   ]
  },
  {
   "cell_type": "markdown",
   "metadata": {},
   "source": [
    "## Create Graph"
   ]
  },
  {
   "cell_type": "code",
   "execution_count": 16,
   "metadata": {},
   "outputs": [],
   "source": [
    "from langgraph.graph import StateGraph\n",
    "\n",
    "simple_graph = StateGraph(State)"
   ]
  },
  {
   "cell_type": "markdown",
   "metadata": {},
   "source": [
    "## Add node"
   ]
  },
  {
   "cell_type": "code",
   "execution_count": 17,
   "metadata": {},
   "outputs": [
    {
     "data": {
      "text/plain": [
       "<langgraph.graph.state.StateGraph at 0x215bc160ec0>"
      ]
     },
     "execution_count": 17,
     "metadata": {},
     "output_type": "execute_result"
    }
   ],
   "source": [
    "simple_graph.add_node(\n",
    "    \"len_str\", len_str\n",
    ")\n",
    "\n",
    "simple_graph.add_node(\n",
    "    \"add_one\", add_one\n",
    ")\n",
    "# # 사용 안하는 노드 들어가면 에러 뜸\n",
    "# simple_graph.add_node(\n",
    "#     \"dis_one\", dis_one\n",
    "# )"
   ]
  },
  {
   "cell_type": "markdown",
   "metadata": {},
   "source": [
    "## Add Edge"
   ]
  },
  {
   "cell_type": "code",
   "execution_count": 18,
   "metadata": {},
   "outputs": [],
   "source": [
    "from langgraph.graph import START, END"
   ]
  },
  {
   "cell_type": "markdown",
   "metadata": {},
   "source": [
    "### Start node & end node"
   ]
  },
  {
   "cell_type": "code",
   "execution_count": 19,
   "metadata": {},
   "outputs": [
    {
     "data": {
      "text/plain": [
       "<langgraph.graph.state.StateGraph at 0x215bc160ec0>"
      ]
     },
     "execution_count": 19,
     "metadata": {},
     "output_type": "execute_result"
    }
   ],
   "source": [
    "# Edge를 이용해서 Start node를 선정할 수 있다.\n",
    "# 또한 간편하게 START로 선언함\n",
    "# __stert__ -> len_str\n",
    "simple_graph.add_edge(\n",
    "    START,\"len_str\"\n",
    ")\n",
    "# \"add_one\" -> __end__\n",
    "simple_graph.add_edge(\n",
    "    \"add_one\", END\n",
    ")"
   ]
  },
  {
   "cell_type": "markdown",
   "metadata": {},
   "source": [
    "### Combine nodes"
   ]
  },
  {
   "cell_type": "code",
   "execution_count": 20,
   "metadata": {},
   "outputs": [
    {
     "data": {
      "text/plain": [
       "<langgraph.graph.state.StateGraph at 0x215bc160ec0>"
      ]
     },
     "execution_count": 20,
     "metadata": {},
     "output_type": "execute_result"
    }
   ],
   "source": [
    "# node끼리 연결해보기\n",
    "# len_str -> add_one\n",
    "simple_graph.add_edge(\n",
    "    \"len_str\", \"add_one\"\n",
    ")"
   ]
  },
  {
   "cell_type": "markdown",
   "metadata": {},
   "source": [
    "## Compile graph"
   ]
  },
  {
   "cell_type": "code",
   "execution_count": 21,
   "metadata": {},
   "outputs": [],
   "source": [
    "compiled_graph = simple_graph.compile()"
   ]
  },
  {
   "cell_type": "markdown",
   "metadata": {},
   "source": [
    "## Display graph"
   ]
  },
  {
   "cell_type": "code",
   "execution_count": 22,
   "metadata": {},
   "outputs": [
    {
     "data": {
      "image/jpeg": "[encoded data removed]",
      "text/plain": [
       "<IPython.core.display.Image object>"
      ]
     },
     "metadata": {},
     "output_type": "display_data"
    }
   ],
   "source": [
    "# 현재 확장자가 ipynb이므로 Ipython을 사용한 거임\n",
    "from IPython.display import Image, display\n",
    "\n",
    "try:\n",
    "    display(\n",
    "        Image(\n",
    "            compiled_graph.get_graph().draw_mermaid_png()\n",
    "        )\n",
    "    )\n",
    "except:\n",
    "    pass"
   ]
  },
  {
   "cell_type": "markdown",
   "metadata": {},
   "source": [
    "## Run Graph"
   ]
  },
  {
   "cell_type": "code",
   "execution_count": 23,
   "metadata": {},
   "outputs": [
    {
     "name": "stderr",
     "output_type": "stream",
     "text": [
      "Langfuse client is disabled since no public_key was provided as a parameter or environment variable 'LANGFUSE_PUBLIC_KEY'. See our docs: https://langfuse.com/docs/sdk/python/low-level-sdk#initialize-client\n"
     ]
    },
    {
     "name": "stdout",
     "output_type": "stream",
     "text": [
      "Hellow world! my life for own life\n",
      "{'len_str': {'messages': [HumanMessage(content='34', additional_kwargs={}, response_metadata={}, id='4016be41-8ffb-4dfb-937c-d013998befe2')]}}\n",
      "34\n",
      "{'add_one': {'messages': [HumanMessage(content='35', additional_kwargs={}, response_metadata={}, id='964f11c8-6908-4857-b42d-28e0d487e32e')]}}\n"
     ]
    }
   ],
   "source": [
    "\n",
    "# LangGraph와 LangSmith를 연결하기 위한 객체\n",
    "langfuse_handler = CallbackHandler()\n",
    "\n",
    "for chunk in compiled_graph.stream(\n",
    "    # start node에게 전달할 input data\n",
    "            {\n",
    "                \"messages\":[\n",
    "                    HumanMessage(content=\"Hellow world! my life for own life\")\n",
    "                ]\n",
    "            },\n",
    "            # # 로깅 설정 = LangGraph 기록을 LangSmith한테 전달\n",
    "            # config = {\n",
    "            #     \"callbacks\":[langfuse_handler]\n",
    "            # }\n",
    "        ):\n",
    "    print(chunk)"
   ]
  },
  {
   "cell_type": "markdown",
   "metadata": {},
   "source": [
    "# Graph v2.2 -> State 일반 자료형 선언\n",
    "- 과거 데이터를 버리고 계속해서 자료를 갱신함\n",
    "- 단, 과거 데이터를 버리기 때문에 기억할 공간을 새로 만들 필요가 있음"
   ]
  },
  {
   "cell_type": "markdown",
   "metadata": {},
   "source": [
    "## State"
   ]
  },
  {
   "cell_type": "code",
   "execution_count": 24,
   "metadata": {},
   "outputs": [],
   "source": [
    "# state를 만들거임\n",
    "# 각 노드간 데이터를 전달하는 box 역할\n",
    "from typing import Annotated\n",
    "from typing_extensions import TypedDict\n",
    "from langgraph.graph.message import add_messages\n",
    "\n",
    "class State(TypedDict):\n",
    "    input: str\n",
    "    result: int"
   ]
  },
  {
   "cell_type": "markdown",
   "metadata": {},
   "source": [
    "## Node"
   ]
  },
  {
   "cell_type": "code",
   "execution_count": 25,
   "metadata": {},
   "outputs": [],
   "source": [
    "def len_str(state:State) -> State:\n",
    "    input_data = state[\"input\"]\n",
    "    result = len(input_data)\n",
    "    return {\n",
    "        \"input\": input_data,  # 원래 입력값 유지\n",
    "        \"result\": result  # 단순 정수값 반환\n",
    "    }\n",
    "\n",
    "# 이전 결과물 \n",
    "# {'len_str': {'result': 33}}"
   ]
  },
  {
   "cell_type": "code",
   "execution_count": 26,
   "metadata": {},
   "outputs": [],
   "source": [
    "def add_one(state:State) -> State:\n",
    "    input_data = state[\"result\"]\n",
    "    result = int(input_data) + 1\n",
    "    return {\n",
    "        \"input\": state[\"input\"],  # 원래 입력값 유지\n",
    "        \"result\": result  # 단순 정수값 반환\n",
    "    }\n",
    "\n",
    "# 이전 결과물\n",
    "# {'add_one': {'result': 34}}"
   ]
  },
  {
   "cell_type": "code",
   "execution_count": 27,
   "metadata": {},
   "outputs": [],
   "source": [
    "# def dis_one(state:State) -> State:\n",
    "#     input_data = state[\"messages\"][0].content\n",
    "#     result = int(input_data) - 1\n",
    "#     return{\n",
    "#         \"messages\":[result]\n",
    "#     }"
   ]
  },
  {
   "cell_type": "markdown",
   "metadata": {},
   "source": [
    "## Create Graph"
   ]
  },
  {
   "cell_type": "code",
   "execution_count": 28,
   "metadata": {},
   "outputs": [],
   "source": [
    "from langgraph.graph import StateGraph\n",
    "\n",
    "simple_graph = StateGraph(State)"
   ]
  },
  {
   "cell_type": "markdown",
   "metadata": {},
   "source": [
    "## Add node"
   ]
  },
  {
   "cell_type": "code",
   "execution_count": 29,
   "metadata": {},
   "outputs": [
    {
     "data": {
      "text/plain": [
       "<langgraph.graph.state.StateGraph at 0x215bc112cf0>"
      ]
     },
     "execution_count": 29,
     "metadata": {},
     "output_type": "execute_result"
    }
   ],
   "source": [
    "simple_graph.add_node(\n",
    "    \"len_str\", len_str\n",
    ")\n",
    "\n",
    "simple_graph.add_node(\n",
    "    \"add_one\", add_one\n",
    ")\n",
    "# # 쓸데 없는 노드 들어가면 에러 뜸뜸\n",
    "# simple_graph.add_node(\n",
    "#     \"dis_one\", dis_one\n",
    "# )"
   ]
  },
  {
   "cell_type": "markdown",
   "metadata": {},
   "source": [
    "## Add Edge"
   ]
  },
  {
   "cell_type": "code",
   "execution_count": 30,
   "metadata": {},
   "outputs": [],
   "source": [
    "from langgraph.graph import START, END"
   ]
  },
  {
   "cell_type": "markdown",
   "metadata": {},
   "source": [
    "### Start node & end node"
   ]
  },
  {
   "cell_type": "code",
   "execution_count": 31,
   "metadata": {},
   "outputs": [
    {
     "data": {
      "text/plain": [
       "<langgraph.graph.state.StateGraph at 0x215bc112cf0>"
      ]
     },
     "execution_count": 31,
     "metadata": {},
     "output_type": "execute_result"
    }
   ],
   "source": [
    "# Edge를 이용해서 Start node를 선정할 수 있다.\n",
    "# 또한 간편하게 START로 선언함\n",
    "# __stert__ -> len_str\n",
    "simple_graph.add_edge(\n",
    "    START,\"len_str\"\n",
    ")\n",
    "# \"add_one\" -> __end__\n",
    "simple_graph.add_edge(\n",
    "    \"add_one\", END\n",
    ")"
   ]
  },
  {
   "cell_type": "markdown",
   "metadata": {},
   "source": [
    "### Combine nodes"
   ]
  },
  {
   "cell_type": "code",
   "execution_count": 32,
   "metadata": {},
   "outputs": [
    {
     "data": {
      "text/plain": [
       "<langgraph.graph.state.StateGraph at 0x215bc112cf0>"
      ]
     },
     "execution_count": 32,
     "metadata": {},
     "output_type": "execute_result"
    }
   ],
   "source": [
    "# node끼리 연결해보기\n",
    "# len_str -> add_one\n",
    "simple_graph.add_edge(\n",
    "    \"len_str\", \"add_one\"\n",
    ")"
   ]
  },
  {
   "cell_type": "markdown",
   "metadata": {},
   "source": [
    "## Compile graph"
   ]
  },
  {
   "cell_type": "code",
   "execution_count": 33,
   "metadata": {},
   "outputs": [],
   "source": [
    "compiled_graph = simple_graph.compile()"
   ]
  },
  {
   "cell_type": "markdown",
   "metadata": {},
   "source": [
    "## Display graph"
   ]
  },
  {
   "cell_type": "code",
   "execution_count": 34,
   "metadata": {},
   "outputs": [
    {
     "data": {
      "image/jpeg": "[encoded data removed]",
      "text/plain": [
       "<IPython.core.display.Image object>"
      ]
     },
     "metadata": {},
     "output_type": "display_data"
    }
   ],
   "source": [
    "# 현재 확장자가 ipynb이므로 Ipython을 사용한 거임\n",
    "from IPython.display import Image, display\n",
    "\n",
    "try:\n",
    "    display(\n",
    "        Image(\n",
    "            compiled_graph.get_graph().draw_mermaid_png()\n",
    "        )\n",
    "    )\n",
    "except:\n",
    "    pass"
   ]
  },
  {
   "cell_type": "markdown",
   "metadata": {},
   "source": [
    "## Run Graph"
   ]
  },
  {
   "cell_type": "code",
   "execution_count": 35,
   "metadata": {},
   "outputs": [
    {
     "name": "stderr",
     "output_type": "stream",
     "text": [
      "Langfuse client is disabled since no public_key was provided as a parameter or environment variable 'LANGFUSE_PUBLIC_KEY'. See our docs: https://langfuse.com/docs/sdk/python/low-level-sdk#initialize-client\n"
     ]
    },
    {
     "name": "stdout",
     "output_type": "stream",
     "text": [
      "{'len_str': {'input': 'Hello world! my life for own life', 'result': 33}}\n",
      "{'add_one': {'input': 'Hello world! my life for own life', 'result': 34}}\n"
     ]
    }
   ],
   "source": [
    "\n",
    "# LangGraph와 LangSmith를 연결하기 위한 객체\n",
    "langfuse_handler = CallbackHandler()\n",
    "\n",
    "for chunk in compiled_graph.stream(\n",
    "    # start node에게 전달할 input data\n",
    "            {\n",
    "            \"input\": \"Hello world! my life for own life\",\n",
    "            \"result\": 0  # 초기값 설정\n",
    "            },\n",
    "            # # 로깅 설정 = LangGraph 기록을 LangSmith한테 전달\n",
    "            # config = {\n",
    "            #     \"callbacks\":[langfuse_handler]\n",
    "            # }\n",
    "        ):\n",
    "    print(chunk)"
   ]
  },
  {
   "cell_type": "markdown",
   "metadata": {},
   "source": [
    "# Graph v2 예제"
   ]
  },
  {
   "cell_type": "markdown",
   "metadata": {},
   "source": [
    "## State"
   ]
  },
  {
   "cell_type": "code",
   "execution_count": 36,
   "metadata": {},
   "outputs": [],
   "source": [
    "# state를 만들거임\n",
    "# 각 노드간 데이터를 전달하는 box 역할\n",
    "from typing import Annotated\n",
    "from typing_extensions import TypedDict\n",
    "from langgraph.graph.message import add_messages\n",
    "\n",
    "class State(TypedDict):\n",
    "    messages: Annotated[list, add_messages]"
   ]
  },
  {
   "cell_type": "markdown",
   "metadata": {},
   "source": [
    "## Node"
   ]
  },
  {
   "cell_type": "code",
   "execution_count": 37,
   "metadata": {},
   "outputs": [],
   "source": [
    "def len_str(state:State) -> State:\n",
    "    input_data = state[\"messages\"][-1].content\n",
    "    result = len(input_data)\n",
    "    return {\n",
    "        \"messages\": [\n",
    "            HumanMessage(content=str(result))  # 정수를 문자열로 변환하여 메시지 객체로 반환\n",
    "        ]\n",
    "    }"
   ]
  },
  {
   "cell_type": "code",
   "execution_count": 38,
   "metadata": {},
   "outputs": [],
   "source": [
    "def add_one(state:State) -> State:\n",
    "    input_data = state[\"messages\"][-1].content\n",
    "    result = int(input_data) + 1\n",
    "    return {\n",
    "        \"messages\": [\n",
    "            HumanMessage(content=str(result))  # 정수를 문자열로 변환하여 메시지 객체로 반환\n",
    "        ]\n",
    "    }"
   ]
  },
  {
   "cell_type": "code",
   "execution_count": 39,
   "metadata": {},
   "outputs": [],
   "source": [
    "def dis_one(state:State) -> State:\n",
    "    input_data = state[\"messages\"][-1].content\n",
    "    result = int(input_data) - 1\n",
    "    return{\n",
    "        \"messages\": HumanMessage(content=str(result))\n",
    "    }"
   ]
  },
  {
   "cell_type": "code",
   "execution_count": 40,
   "metadata": {},
   "outputs": [],
   "source": [
    "def cross_two(state:State) -> State:\n",
    "    input_data = state[\"messages\"][-1].content\n",
    "    result = int(input_data) * 2\n",
    "    return {\n",
    "        \"messages\": HumanMessage(content=str(result))\n",
    "    }"
   ]
  },
  {
   "cell_type": "markdown",
   "metadata": {},
   "source": [
    "## Create Graph"
   ]
  },
  {
   "cell_type": "code",
   "execution_count": 41,
   "metadata": {},
   "outputs": [],
   "source": [
    "from langgraph.graph import StateGraph\n",
    "\n",
    "simple_graph = StateGraph(State)"
   ]
  },
  {
   "cell_type": "markdown",
   "metadata": {},
   "source": [
    "## Add node"
   ]
  },
  {
   "cell_type": "code",
   "execution_count": 42,
   "metadata": {},
   "outputs": [
    {
     "data": {
      "text/plain": [
       "<langgraph.graph.state.StateGraph at 0x2159d48c5c0>"
      ]
     },
     "execution_count": 42,
     "metadata": {},
     "output_type": "execute_result"
    }
   ],
   "source": [
    "simple_graph.add_node(\n",
    "    \"len_str\", len_str\n",
    ")\n",
    "\n",
    "simple_graph.add_node(\n",
    "    \"add_one\", add_one\n",
    ")\n",
    "# 사용 안하는 노드 들어가면 에러 뜸\n",
    "simple_graph.add_node(\n",
    "    \"dis_one\", dis_one\n",
    ")\n",
    "\n",
    "simple_graph.add_node(\n",
    "    \"cross_two\", cross_two\n",
    ")"
   ]
  },
  {
   "cell_type": "markdown",
   "metadata": {},
   "source": [
    "## Add Edge"
   ]
  },
  {
   "cell_type": "code",
   "execution_count": 43,
   "metadata": {},
   "outputs": [],
   "source": [
    "from langgraph.graph import START, END"
   ]
  },
  {
   "cell_type": "markdown",
   "metadata": {},
   "source": [
    "### Start node & end node"
   ]
  },
  {
   "cell_type": "code",
   "execution_count": 44,
   "metadata": {},
   "outputs": [
    {
     "data": {
      "text/plain": [
       "<langgraph.graph.state.StateGraph at 0x2159d48c5c0>"
      ]
     },
     "execution_count": 44,
     "metadata": {},
     "output_type": "execute_result"
    }
   ],
   "source": [
    "# Edge를 이용해서 Start node를 선정할 수 있다.\n",
    "# 또한 간편하게 START로 선언함\n",
    "# __stert__ -> len_str\n",
    "simple_graph.add_edge(\n",
    "    START,\"len_str\"\n",
    ")\n",
    "# \"add_one\" -> __end__\n",
    "simple_graph.add_edge(\n",
    "    \"cross_two\", END\n",
    ")"
   ]
  },
  {
   "cell_type": "markdown",
   "metadata": {},
   "source": [
    "### Combine nodes"
   ]
  },
  {
   "cell_type": "code",
   "execution_count": 45,
   "metadata": {},
   "outputs": [
    {
     "data": {
      "text/plain": [
       "<langgraph.graph.state.StateGraph at 0x2159d48c5c0>"
      ]
     },
     "execution_count": 45,
     "metadata": {},
     "output_type": "execute_result"
    }
   ],
   "source": [
    "# node끼리 연결해보기\n",
    "# len_str -> add_one\n",
    "simple_graph.add_edge(\n",
    "    \"len_str\", \"add_one\"\n",
    ")\n",
    "simple_graph.add_edge(\n",
    "    \"add_one\", \"dis_one\"\n",
    ")\n",
    "simple_graph.add_edge(\n",
    "    \"dis_one\", \"cross_two\"\n",
    ")"
   ]
  },
  {
   "cell_type": "markdown",
   "metadata": {},
   "source": [
    "## Compile graph"
   ]
  },
  {
   "cell_type": "code",
   "execution_count": 46,
   "metadata": {},
   "outputs": [],
   "source": [
    "compiled_graph = simple_graph.compile()"
   ]
  },
  {
   "cell_type": "markdown",
   "metadata": {},
   "source": [
    "## Display graph"
   ]
  },
  {
   "cell_type": "code",
   "execution_count": 47,
   "metadata": {},
   "outputs": [
    {
     "data": {
      "image/jpeg": "[encoded data removed]",
      "text/plain": [
       "<IPython.core.display.Image object>"
      ]
     },
     "metadata": {},
     "output_type": "display_data"
    }
   ],
   "source": [
    "# 현재 확장자가 ipynb이므로 Ipython을 사용한 거임\n",
    "from IPython.display import Image, display\n",
    "\n",
    "try:\n",
    "    display(\n",
    "        Image(\n",
    "            compiled_graph.get_graph().draw_mermaid_png()\n",
    "        )\n",
    "    )\n",
    "except:\n",
    "    pass"
   ]
  },
  {
   "cell_type": "markdown",
   "metadata": {},
   "source": [
    "## Run Graph"
   ]
  },
  {
   "cell_type": "code",
   "execution_count": 48,
   "metadata": {},
   "outputs": [
    {
     "name": "stderr",
     "output_type": "stream",
     "text": [
      "Langfuse client is disabled since no public_key was provided as a parameter or environment variable 'LANGFUSE_PUBLIC_KEY'. See our docs: https://langfuse.com/docs/sdk/python/low-level-sdk#initialize-client\n"
     ]
    },
    {
     "name": "stdout",
     "output_type": "stream",
     "text": [
      "{'len_str': {'messages': [HumanMessage(content='34', additional_kwargs={}, response_metadata={}, id='b4b25be8-7814-4e8b-9143-ace06f25732e')]}}\n",
      "{'add_one': {'messages': [HumanMessage(content='35', additional_kwargs={}, response_metadata={}, id='9a530edf-af2c-437f-b553-f29c6bd900e9')]}}\n",
      "{'dis_one': {'messages': HumanMessage(content='34', additional_kwargs={}, response_metadata={}, id='0d54cd26-bb46-41ab-9b6a-2fa55dff8455')}}\n",
      "{'cross_two': {'messages': HumanMessage(content='68', additional_kwargs={}, response_metadata={}, id='eb348db4-594a-48a7-9600-01fa95709fe7')}}\n"
     ]
    }
   ],
   "source": [
    "\n",
    "# LangGraph와 LangSmith를 연결하기 위한 객체\n",
    "langfuse_handler = CallbackHandler()\n",
    "\n",
    "for chunk in compiled_graph.stream(\n",
    "    # start node에게 전달할 input data\n",
    "            {\n",
    "                \"messages\":[\n",
    "                    HumanMessage(content=\"Hellow world! my life for own life\")\n",
    "                ]\n",
    "            },\n",
    "            # # 로깅 설정 = LangGraph 기록을 LangSmith한테 전달\n",
    "            # config = {\n",
    "            #     \"callbacks\":[langfuse_handler]\n",
    "            # }\n",
    "        ):\n",
    "    print(chunk)"
   ]
  },
  {
   "cell_type": "markdown",
   "metadata": {},
   "source": []
  },
  {
   "cell_type": "markdown",
   "metadata": {},
   "source": []
  },
  {
   "cell_type": "markdown",
   "metadata": {},
   "source": [
    "# Graph v3 - if문으로 분기 만들기"
   ]
  },
  {
   "cell_type": "markdown",
   "metadata": {},
   "source": [
    "## State"
   ]
  },
  {
   "cell_type": "code",
   "execution_count": 49,
   "metadata": {},
   "outputs": [],
   "source": [
    "# state를 만들거임\n",
    "# 각 노드간 데이터를 전달하는 box 역할\n",
    "from typing import Annotated\n",
    "from typing_extensions import TypedDict, Optional\n",
    "from langgraph.graph.message import add_messages\n",
    "\n",
    "class State(TypedDict):\n",
    "    input: Optional[str] = None\n",
    "    node_output: Optional[int] = None\n",
    "    is_stop: Optional[bool] = False"
   ]
  },
  {
   "cell_type": "markdown",
   "metadata": {},
   "source": [
    "## Node"
   ]
  },
  {
   "cell_type": "code",
   "execution_count": 50,
   "metadata": {},
   "outputs": [],
   "source": [
    "def len_str(state:State) -> State:\n",
    "    input = state[\"input\"]\n",
    "    result = len(input)\n",
    "    return {\n",
    "        **state, # 기존의 state의 모든 값을 호출 -> 호출한 input에 변경된 node_output을 갱신할려면 이렇게 리턴해야 함 아니면 변경된 node_output만 리턴함\n",
    "        \"node_output\":result,\n",
    "        \"is_stop\": False\n",
    "    }\n",
    "\n",
    "def add_one(state:State) -> State:\n",
    "    input = state[\"node_output\"]\n",
    "    is_stop = state['is_stop']\n",
    "    result = input + 1\n",
    "    if result > 10:\n",
    "        is_stop = True\n",
    "    return {\n",
    "        **state,\n",
    "        \"node_output\":result,\n",
    "        \"is_stop\": is_stop\n",
    "    }\n",
    "\n",
    "def add_two(state:State) -> State:\n",
    "    input = state[\"node_output\"]\n",
    "    is_stop = state['is_stop']\n",
    "    result = input + 2\n",
    "    if result > 10:\n",
    "        is_stop = True\n",
    "    return {\n",
    "        **state,\n",
    "        \"node_output\":result,\n",
    "        \"is_stop\": is_stop\n",
    "    }"
   ]
  },
  {
   "cell_type": "markdown",
   "metadata": {},
   "source": [
    "## Create Graph"
   ]
  },
  {
   "cell_type": "code",
   "execution_count": 51,
   "metadata": {},
   "outputs": [],
   "source": [
    "simple_graph = StateGraph(State)"
   ]
  },
  {
   "cell_type": "markdown",
   "metadata": {},
   "source": [
    "## Add node"
   ]
  },
  {
   "cell_type": "code",
   "execution_count": 52,
   "metadata": {},
   "outputs": [
    {
     "data": {
      "text/plain": [
       "<langgraph.graph.state.StateGraph at 0x215bc027c80>"
      ]
     },
     "execution_count": 52,
     "metadata": {},
     "output_type": "execute_result"
    }
   ],
   "source": [
    "simple_graph.add_node(\n",
    "    \"len_str\", len_str\n",
    ")\n",
    "simple_graph.add_node(\n",
    "    \"add_one\", add_one\n",
    ")\n",
    "simple_graph.add_node(\n",
    "    \"add_two\", add_two\n",
    ")"
   ]
  },
  {
   "cell_type": "markdown",
   "metadata": {},
   "source": [
    "## Create Edge (add conditional edge)"
   ]
  },
  {
   "cell_type": "code",
   "execution_count": 53,
   "metadata": {},
   "outputs": [],
   "source": [
    "# 분기가 되는 노드를 생성\n",
    "def is_stop(state:State) -> str:\n",
    "    is_stop = state['is_stop']\n",
    "    if is_stop:\n",
    "        return \"go_to_stop\"\n",
    "    else:\n",
    "        return \"go_to_add_two_func\""
   ]
  },
  {
   "cell_type": "code",
   "execution_count": 54,
   "metadata": {},
   "outputs": [
    {
     "data": {
      "text/plain": [
       "<langgraph.graph.state.StateGraph at 0x215bc027c80>"
      ]
     },
     "execution_count": 54,
     "metadata": {},
     "output_type": "execute_result"
    }
   ],
   "source": [
    "simple_graph.add_edge(\n",
    "    START,\"len_str\"\n",
    ")\n",
    "simple_graph.add_edge(\n",
    "    \"len_str\", \"add_one\"\n",
    ")\n",
    "# simple_graph.add_edge(\n",
    "#     \"add_one\", \"stop_state\"\n",
    "# )\n",
    "simple_graph.add_edge(\n",
    "    \"add_two\", \"add_one\"\n",
    ")\n",
    "simple_graph.add_conditional_edges(\n",
    "    \"add_one\", # 시작 노드명 호출 -> 위에서 add node로 했던 것\n",
    "    is_stop, # 조건 def 함수\n",
    "    # 변수의 결과에 따라 어떻게 되는지 아래의 룰을 따름\n",
    "    {\n",
    "        \"go_to_add_two_func\":\"add_two\",\n",
    "        \"go_to_stop\":END\n",
    "    }\n",
    ")\n",
    "simple_graph.add_edge(\n",
    "    \"add_two\", \"add_one\"\n",
    ")"
   ]
  },
  {
   "cell_type": "markdown",
   "metadata": {},
   "source": [
    "## Compile Graph"
   ]
  },
  {
   "cell_type": "code",
   "execution_count": 55,
   "metadata": {},
   "outputs": [],
   "source": [
    "compiled_graph = simple_graph.compile()"
   ]
  },
  {
   "cell_type": "markdown",
   "metadata": {},
   "source": [
    "## Display graph"
   ]
  },
  {
   "cell_type": "code",
   "execution_count": 56,
   "metadata": {},
   "outputs": [
    {
     "data": {
      "image/jpeg": "[encoded data removed]",
      "text/plain": [
       "<IPython.core.display.Image object>"
      ]
     },
     "metadata": {},
     "output_type": "display_data"
    }
   ],
   "source": [
    "# 현재 확장자가 ipynb이므로 Ipython을 사용한 거임\n",
    "from IPython.display import Image, display\n",
    "\n",
    "try:\n",
    "    display(\n",
    "        Image(\n",
    "            compiled_graph.get_graph().draw_mermaid_png()\n",
    "        )\n",
    "    )\n",
    "except:\n",
    "    pass"
   ]
  },
  {
   "cell_type": "markdown",
   "metadata": {},
   "source": [
    "## Run Graph"
   ]
  },
  {
   "cell_type": "code",
   "execution_count": 58,
   "metadata": {},
   "outputs": [
    {
     "name": "stderr",
     "output_type": "stream",
     "text": [
      "Langfuse client is disabled since no public_key was provided as a parameter or environment variable 'LANGFUSE_PUBLIC_KEY'. See our docs: https://langfuse.com/docs/sdk/python/low-level-sdk#initialize-client\n"
     ]
    },
    {
     "name": "stdout",
     "output_type": "stream",
     "text": [
      "{'len_str': {'input': 'Hello', 'node_output': 5, 'is_stop': False}}\n",
      "{'add_one': {'input': 'Hello', 'node_output': 6, 'is_stop': False}}\n",
      "{'add_two': {'input': 'Hello', 'node_output': 8, 'is_stop': False}}\n",
      "{'add_one': {'input': 'Hello', 'node_output': 9, 'is_stop': False}}\n",
      "{'add_two': {'input': 'Hello', 'node_output': 11, 'is_stop': True}}\n",
      "{'add_one': {'input': 'Hello', 'node_output': 12, 'is_stop': True}}\n"
     ]
    }
   ],
   "source": [
    "# LangGraph와 LangSmith를 연결하기 위한 객체\n",
    "langfuse_handler = CallbackHandler()\n",
    "\n",
    "for chunk in compiled_graph.stream(\n",
    "            # State 클래스 형식에 맞게 입력 데이터 구성\n",
    "            {\n",
    "                \"input\": \"Hello\"\n",
    "            },\n",
    "            # # 로깅 설정 = LangGraph 기록을 LangSmith한테 전달\n",
    "            # config = {\n",
    "            #     \"callbacks\":[langfuse_handler]\n",
    "            # }\n",
    "        ):\n",
    "    print(chunk)"
   ]
  },
  {
   "cell_type": "code",
   "execution_count": null,
   "metadata": {},
   "outputs": [],
   "source": []
  },
  {
   "cell_type": "code",
   "execution_count": null,
   "metadata": {},
   "outputs": [],
   "source": []
  },
  {
   "cell_type": "code",
   "execution_count": null,
   "metadata": {},
   "outputs": [],
   "source": []
  }
 ],
 "metadata": {
  "kernelspec": {
   "display_name": ".venv",
   "language": "python",
   "name": "python3"
  },
  "language_info": {
   "codemirror_mode": {
    "name": "ipython",
    "version": 3
   },
   "file_extension": ".py",
   "mimetype": "text/x-python",
   "name": "python",
   "nbconvert_exporter": "python",
   "pygments_lexer": "ipython3",
   "version": "3.12.4"
  }
 },
 "nbformat": 4,
 "nbformat_minor": 2
}
