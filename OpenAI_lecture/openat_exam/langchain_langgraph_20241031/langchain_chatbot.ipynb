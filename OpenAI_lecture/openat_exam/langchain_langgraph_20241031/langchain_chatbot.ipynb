{
 "cells": [
  {
   "cell_type": "code",
   "execution_count": 14,
   "metadata": {},
   "outputs": [
    {
     "name": "stdout",
     "output_type": "stream",
     "text": [
      "로컬 환경에서 실행 중입니다.\n",
      "Windows 로컬 환경에서 실행 중입니다.\n"
     ]
    }
   ],
   "source": [
    "import os\n",
    "from dotenv import load_dotenv\n",
    "# from google.colab import drive\n",
    "\n",
    "# drive.mount('/content/drive')\n",
    "\n",
    "try:\n",
    "    import google.colab\n",
    "    print(\"Colab 환경에서 실행 중입니다.\")\n",
    "    PATH = '/content/drive/MyDrive/data/'\n",
    "    env_path = PATH + \"env/.env\"\n",
    "except ImportError:\n",
    "    print(\"로컬 환경에서 실행 중입니다.\")\n",
    "    import platform\n",
    "    os_name = platform.system()\n",
    "    if os_name == \"Windows\":\n",
    "        print(\"Windows 로컬 환경에서 실행 중입니다.\")\n",
    "        PATH = './'\n",
    "        env_path = PATH + \"env/.env\"\n",
    "    elif os_name == \"Linux\":\n",
    "        print(\"Linux 환경에서 실행 중입니다. (Colab일 가능성 있음)\")\n",
    "    else:\n",
    "        print(f\"운영 체제: {os_name}\")\n",
    "\n",
    "load_dotenv(dotenv_path=env_path)\n",
    "\n",
    "# getenv로 환경 변수 가져오기\n",
    "# KEY 쓸 때, 띄워쓰기 하면 안됨...\n",
    "# env에 있는 모든 워드들은 띄워쓰기하면 못 알아봄\n",
    "api_key = os.getenv('MY_OWN_KEY')\n",
    "\n",
    "if not api_key:\n",
    "    raise ValueError(\".env 파일에서 API 키를 로드하지 못했습니다.\")\n",
    "\n",
    "\n",
    "# 가져온 값을 environ에 저장\n",
    "os.environ['OPENAI_API_KEY'] = api_key"
   ]
  },
  {
   "cell_type": "code",
   "execution_count": 15,
   "metadata": {},
   "outputs": [],
   "source": [
    "from langchain_core.prompts import ChatPromptTemplate\n",
    "from langchain_openai import ChatOpenAI\n",
    "\n",
    "# 모델 생성\n",
    "chat = ChatOpenAI(\n",
    "    model=\"gpt-4o-mini\"\n",
    ")"
   ]
  },
  {
   "cell_type": "code",
   "execution_count": null,
   "metadata": {},
   "outputs": [],
   "source": [
    "# 프롬프트 생성\n",
    "chat_prompt = ChatPromptTemplate.from_messages([\n",
    "    (\"system\", \"이 시스템은 여행 전문가입니다.\"),\n",
    "    (\"user\", \"{user_input}\"),\n",
    "])"
   ]
  },
  {
   "cell_type": "code",
   "execution_count": 10,
   "metadata": {},
   "outputs": [
    {
     "data": {
      "text/plain": [
       "'이 시스템은 여행 전문가입니다.'"
      ]
     },
     "execution_count": 10,
     "metadata": {},
     "output_type": "execute_result"
    }
   ],
   "source": [
    "chat_prompt.messages[0].prompt.template"
   ]
  },
  {
   "cell_type": "code",
   "execution_count": 11,
   "metadata": {},
   "outputs": [
    {
     "data": {
      "text/plain": [
       "['user_input']"
      ]
     },
     "execution_count": 11,
     "metadata": {},
     "output_type": "execute_result"
    }
   ],
   "source": [
    "chat_prompt.input_variables"
   ]
  },
  {
   "cell_type": "code",
   "execution_count": 16,
   "metadata": {},
   "outputs": [],
   "source": [
    "# 체인 생성 = 프롬프트 + 모델\n",
    "chain = chat_prompt | chat"
   ]
  },
  {
   "cell_type": "code",
   "execution_count": 18,
   "metadata": {},
   "outputs": [
    {
     "data": {
      "text/plain": [
       "ChatPromptTemplate(input_variables=['user_input'], input_types={}, partial_variables={}, messages=[SystemMessagePromptTemplate(prompt=PromptTemplate(input_variables=[], input_types={}, partial_variables={}, template='이 시스템은 여행 전문가입니다.'), additional_kwargs={}), HumanMessagePromptTemplate(prompt=PromptTemplate(input_variables=['user_input'], input_types={}, partial_variables={}, template='{user_input}'), additional_kwargs={})])\n",
       "| ChatOpenAI(client=<openai.resources.chat.completions.Completions object at 0x00000221E3B8E4B0>, async_client=<openai.resources.chat.completions.AsyncCompletions object at 0x00000221E3B8EEA0>, root_client=<openai.OpenAI object at 0x00000221E0E46F60>, root_async_client=<openai.AsyncOpenAI object at 0x00000221E3B8FB90>, model_name='gpt-4o-mini', model_kwargs={}, openai_api_key=SecretStr('**********'))"
      ]
     },
     "execution_count": 18,
     "metadata": {},
     "output_type": "execute_result"
    }
   ],
   "source": [
    "chain"
   ]
  },
  {
   "cell_type": "code",
   "execution_count": 6,
   "metadata": {},
   "outputs": [],
   "source": [
    "response = chain.invoke({\"user_input\": \"안녕하세요? 한국의 대표적인 관광지 3군데를 추천해주세요.\"})"
   ]
  },
  {
   "cell_type": "code",
   "execution_count": 7,
   "metadata": {},
   "outputs": [
    {
     "name": "stdout",
     "output_type": "stream",
     "text": [
      "==================================\u001b[1m Ai Message \u001b[0m==================================\n",
      "\n",
      "안녕하세요! 한국의 대표적인 관광지 3군데를 추천해 드릴게요.\n",
      "\n",
      "1. **경주**: 경주는 한국의 역사와 문화가 깊게 뿌리내린 도시로, 신라의 수도였던 곳입니다. 불국사와 석굴암은 UNESCO 세계유산으로 지정되어 있으며, 경주 역사 유적지구도 많은 방문객들에게 사랑받고 있습니다. 또한, 경주에서는 아름다운 고분과 전통적인 한옥 마을도 즐길 수 있습니다.\n",
      "\n",
      "2. **부산**: 부산은 한국의 제2의 도시이자 해양 도시로, 해변과 항구의 매력을 동시에 느낄 수 있습니다. 해운대와 광안리는 유명한 해수욕장으로 여름철에 많은 관광객이 찾습니다. 또한, 자갈치 시장에서 신선한 해산물을 맛볼 수 있고, 감천문화마을의 다채로운 벽화와 예술 작품도 즐길 수 있습니다.\n",
      "\n",
      "3. **서울**: 한국의 수도 서울은 현대와 전통이 조화를 이루는 도시입니다. 경복궁과 창덕궁 같은 역사적인 궁궐을 방문할 수 있으며, 인사동과 명동에서는 전통 문화와 쇼핑을 동시에 경험할 수 있습니다. 또한, 남산타워에서 서울의 전경을 감상할 수 있는 기회도 놓치지 마세요.\n",
      "\n",
      "각 관광지는 독특한 매력을 가지고 있으니, 방문하시는 동안 즐거운 시간 보내시길 바랍니다!\n"
     ]
    }
   ],
   "source": [
    "response.pretty_print()"
   ]
  },
  {
   "cell_type": "code",
   "execution_count": null,
   "metadata": {},
   "outputs": [],
   "source": []
  }
 ],
 "metadata": {
  "kernelspec": {
   "display_name": ".venv",
   "language": "python",
   "name": "python3"
  },
  "language_info": {
   "codemirror_mode": {
    "name": "ipython",
    "version": 3
   },
   "file_extension": ".py",
   "mimetype": "text/x-python",
   "name": "python",
   "nbconvert_exporter": "python",
   "pygments_lexer": "ipython3",
   "version": "3.12.4"
  }
 },
 "nbformat": 4,
 "nbformat_minor": 2
}
