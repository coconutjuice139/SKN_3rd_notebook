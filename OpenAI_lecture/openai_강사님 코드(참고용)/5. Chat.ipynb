{
 "cells": [
  {
   "cell_type": "code",
   "execution_count": 1,
   "metadata": {},
   "outputs": [],
   "source": []
  },
  {
   "cell_type": "code",
   "execution_count": 2,
   "metadata": {},
   "outputs": [],
   "source": [
    "from openai import OpenAI # API 통신용 모듈 \n",
    "\n",
    "client = OpenAI()"
   ]
  },
  {
   "cell_type": "markdown",
   "metadata": {},
   "source": [
    "# 쳇봇 만들기"
   ]
  },
  {
   "cell_type": "markdown",
   "metadata": {},
   "source": [
    "### LLM 모델 정의"
   ]
  },
  {
   "cell_type": "code",
   "execution_count": 3,
   "metadata": {},
   "outputs": [],
   "source": [
    "model_id = \"gpt-4o-mini\""
   ]
  },
  {
   "cell_type": "markdown",
   "metadata": {},
   "source": [
    "### messages\n",
    "> 리스트 형테의 딕셔너리 객체 정의\n",
    "\n",
    "- `system`: 쳇봇(LLM)에게 역할을 부여 \n",
    "- `user`: 챗봇(LLM)에게 부여할 요청 내용"
   ]
  },
  {
   "cell_type": "code",
   "execution_count": 5,
   "metadata": {},
   "outputs": [],
   "source": [
    "messages = [\n",
    "    {\n",
    "        \"role\":\"system\",\n",
    "        \"content\":\"\"\"\n",
    "            1. 당신은 파이썬 프로그래머입니다.\n",
    "            2. 당신은 어시스턴트입니다.\n",
    "        \"\"\"\n",
    "    },\n",
    "    {\n",
    "        \"role\":\"user\",\n",
    "        \"content\":\"지렁이 게임을 생성하는 파이썬 프로그램을 작성해주세요.\"\n",
    "    }\n",
    "]"
   ]
  },
  {
   "cell_type": "code",
   "execution_count": 6,
   "metadata": {},
   "outputs": [],
   "source": [
    "responses = client.chat.completions.create(\n",
    "    model=model_id,\n",
    "    messages=messages\n",
    ")"
   ]
  },
  {
   "cell_type": "code",
   "execution_count": 7,
   "metadata": {},
   "outputs": [
    {
     "data": {
      "text/plain": [
       "1"
      ]
     },
     "execution_count": 7,
     "metadata": {},
     "output_type": "execute_result"
    }
   ],
   "source": [
    "len(list(responses.choices))"
   ]
  },
  {
   "cell_type": "code",
   "execution_count": 10,
   "metadata": {},
   "outputs": [
    {
     "name": "stdout",
     "output_type": "stream",
     "text": [
      "지렁이 게임은 여러 가지 라이브러리를 사용하여 생성할 수 있는데, 여기서는 `pygame` 라이브러리를 이용하여 간단한 지렁이 게임을 만들어 보겠습니다. 아래 코드를 사용하면 기본적인 지렁이 게임을 구현할 수 있습니다.\n",
      "\n",
      "먼저, `pygame` 라이브러리가 설치되어 있어야 합니다. 설치되지 않았다면, 아래 명령어로 설치할 수 있습니다.\n",
      "\n",
      "```bash\n",
      "pip install pygame\n",
      "```\n",
      "\n",
      "이제 지렁이 게임의 코드를 작성해 보겠습니다.\n",
      "\n",
      "```python\n",
      "import pygame\n",
      "import time\n",
      "import random\n",
      "\n",
      "# 게임 색상 정의\n",
      "WHITE = (255, 255, 255)\n",
      "YELLOW = (255, 255, 102)\n",
      "BLACK = (0, 0, 0)\n",
      "RED = (213, 50, 80)\n",
      "GREEN = (0, 255, 0)\n",
      "BLUE = (50, 153, 213)\n",
      "\n",
      "# 게임 화면 크기\n",
      "WIDTH = 600\n",
      "HEIGHT = 400\n",
      "\n",
      "# 지렁이 초기화\n",
      "def our_snake(snake_block, snake_list):\n",
      "    for x in snake_list:\n",
      "        pygame.draw.rect(game_window, BLACK, [x[0], x[1], snake_block, snake_block])\n",
      "\n",
      "# 점수 표시\n",
      "def your_score(score):\n",
      "    value = score_font.render(\"Score: \" + str(score), True, BLACK)\n",
      "    game_window.blit(value, [0, 0])\n",
      "\n",
      "# 게임 루프\n",
      "def gameLoop():\n",
      "    game_over = False\n",
      "    game_close = False\n",
      "\n",
      "    x1 = WIDTH / 2\n",
      "    y1 = HEIGHT / 2\n",
      "\n",
      "    x1_change = 0\n",
      "    y1_change = 0\n",
      "\n",
      "    snake_block = 10\n",
      "    snake_speed = 15\n",
      "\n",
      "    snake_list = []\n",
      "    length_of_snake = 1\n",
      "\n",
      "    foodx = round(random.randrange(0, WIDTH - snake_block) / 10.0) * 10.0\n",
      "    foody = round(random.randrange(0, HEIGHT - snake_block) / 10.0) * 10.0\n",
      "\n",
      "    while not game_over:\n",
      "\n",
      "        while game_close == True:\n",
      "            game_window.fill(WHITE)\n",
      "            message = score_font.render(\"You Lost! Press C-Play Again or Q-Quit\", True, RED)\n",
      "            game_window.blit(message, [WIDTH / 6, HEIGHT / 3])\n",
      "            your_score(length_of_snake - 1)\n",
      "            pygame.display.update()\n",
      "\n",
      "            for event in pygame.event.get():\n",
      "                if event.type == pygame.KEYDOWN:\n",
      "                    if event.key == pygame.K_q:\n",
      "                        game_over = True\n",
      "                        game_close = False\n",
      "                    if event.key == pygame.K_c:\n",
      "                        gameLoop()\n",
      "\n",
      "        for event in pygame.event.get():\n",
      "            if event.type == pygame.QUIT:\n",
      "                game_over = True\n",
      "            if event.type == pygame.KEYDOWN:\n",
      "                if event.key == pygame.K_LEFT:\n",
      "                    x1_change = -snake_block\n",
      "                    y1_change = 0\n",
      "                elif event.key == pygame.K_RIGHT:\n",
      "                    x1_change = snake_block\n",
      "                    y1_change = 0\n",
      "                elif event.key == pygame.K_UP:\n",
      "                    y1_change = -snake_block\n",
      "                    x1_change = 0\n",
      "                elif event.key == pygame.K_DOWN:\n",
      "                    y1_change = snake_block\n",
      "                    x1_change = 0\n",
      "\n",
      "        if x1 >= WIDTH or x1 < 0 or y1 >= HEIGHT or y1 < 0:\n",
      "            game_close = True\n",
      "\n",
      "        x1 += x1_change\n",
      "        y1 += y1_change\n",
      "        game_window.fill(WHITE)\n",
      "\n",
      "        pygame.draw.rect(game_window, GREEN, [foodx, foody, snake_block, snake_block])\n",
      "        snake_head = []\n",
      "        snake_head.append(x1)\n",
      "        snake_head.append(y1)\n",
      "        snake_list.append(snake_head)\n",
      "        if len(snake_list) > length_of_snake:\n",
      "            del snake_list[0]\n",
      "\n",
      "        for x in snake_list[:-1]:\n",
      "            if x == snake_head:\n",
      "                game_close = True\n",
      "\n",
      "        our_snake(snake_block, snake_list)\n",
      "        your_score(length_of_snake - 1)\n",
      "\n",
      "        pygame.display.update()\n",
      "\n",
      "        if x1 == foodx and y1 == foody:\n",
      "            foodx = round(random.randrange(0, WIDTH - snake_block) / 10.0) * 10.0\n",
      "            foody = round(random.randrange(0, HEIGHT - snake_block) / 10.0) * 10.0\n",
      "            length_of_snake += 1\n",
      "\n",
      "        clock.tick(snake_speed)\n",
      "\n",
      "    pygame.quit()\n",
      "    quit()\n",
      "\n",
      "# Pygame 초기화\n",
      "pygame.init()\n",
      "game_window = pygame.display.set_mode((WIDTH, HEIGHT))\n",
      "pygame.display.set_caption('지렁이 게임')\n",
      "clock = pygame.time.Clock()\n",
      "score_font = pygame.font.SysFont(\"comicsansms\", 35)\n",
      "\n",
      "gameLoop()\n",
      "```\n",
      "\n",
      "이 코드를 실행하면 간단한 지렁이 게임이 실행됩니다. 방향키를 사용하여 지렁이를 조종하고, 음식을 먹으면서 점수를 얻습니다. 화면 경계에 부딪히거나 자신과 충돌하면 게임이 종료되고, 'C'를 눌러서 게임을 다시 시작하거나 'Q'를 눌러서 종료할 수 있습니다. \n",
      "\n",
      "즐겁게 게임하세요!\n"
     ]
    }
   ],
   "source": [
    "print(responses.choices[0].message.content)"
   ]
  },
  {
   "cell_type": "code",
   "execution_count": null,
   "metadata": {},
   "outputs": [],
   "source": []
  }
 ],
 "metadata": {
  "kernelspec": {
   "display_name": ".venv",
   "language": "python",
   "name": "python3"
  },
  "language_info": {
   "codemirror_mode": {
    "name": "ipython",
    "version": 3
   },
   "file_extension": ".py",
   "mimetype": "text/x-python",
   "name": "python",
   "nbconvert_exporter": "python",
   "pygments_lexer": "ipython3",
   "version": "3.12.4"
  }
 },
 "nbformat": 4,
 "nbformat_minor": 2
}
