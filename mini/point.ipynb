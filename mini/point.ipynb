{
 "cells": [
  {
   "cell_type": "code",
   "execution_count": 12,
   "metadata": {},
   "outputs": [],
   "source": [
    "import pandas as pd\n",
    "\n",
    "# CSV 파일 불러오기\n",
    "df1 = pd.read_csv(\"KC_ODSN_CLTUR_FCLTY_LIST_2023_문화시설.csv\")\n",
    "df2 = pd.read_csv(\"KC_ODSN_CNTEDU_FCLTY_LIST_2023문화시설_교육_시니어.csv\")\n",
    "df3 = pd.read_csv(\"KC_ODSN_WALK_RECOMEND_LIST_2023_자연공원_쇼핑시설.csv\")\n",
    "\n",
    "# \"서울\"이 포함된 행을 필터링하고 NaN 값을 제거\n",
    "seoul_df1 = df1[df1['CTPRVN_NM'].str.contains('서울', regex=True, na=False)].dropna(subset=['CTPRVN_NM'])\n",
    "seoul_df2 = df2[df2['CTPRVN_NM'].str.contains('서울', regex=True, na=False)].dropna(subset=['CTPRVN_NM'])\n",
    "seoul_df3 = df3[df3['CTPRVN_NM'].str.contains('서울', regex=True, na=False)].dropna(subset=['CTPRVN_NM'])\n",
    "\n",
    "# MLSFC_NM 열과 CTPRVN_NM 열을 기준으로 내림차순 정렬\n",
    "seoul_df1_sorted = seoul_df1.sort_values(by=['MLSFC_NM', 'CTPRVN_NM'], ascending=[False, False])\n",
    "seoul_df2_sorted = seoul_df2.sort_values(by=['MLSFC_NM', 'CTPRVN_NM'], ascending=[False, False])\n",
    "seoul_df3_sorted = seoul_df3.sort_values(by=['MLSFC_NM', 'CTPRVN_NM'], ascending=[False, False])\n",
    "\n",
    "# 특정 열만 선택 (예: MLSFC_NM 및 CTPRVN_NM 열만 남기기)\n",
    "seoul_df1_sorted = seoul_df1_sorted[['ESNTL_ID', 'MLSFC_NM', 'FCLTY_NM', 'CTPRVN_NM', 'SIGNGU_NM','FCLTY_ROAD_NM_ADDR', 'LNM_ADDR', 'ADIT_DC']]\n",
    "seoul_df2_sorted = seoul_df2_sorted[['ESNTL_ID', 'MLSFC_NM', 'FCLTY_NM', 'CTPRVN_NM', 'SIGNGU_NM','FCLTY_ROAD_NM_ADDR', 'LNM_ADDR']]\n",
    "seoul_df3_sorted = seoul_df3_sorted[['ESNTL_ID', 'MLSFC_NM', 'FCLTY_NM', 'CTPRVN_NM', 'SIGNGU_NM','FCLTY_ROAD_NM_ADDR', 'LNM_ADDR']]\n",
    "\n",
    "\n",
    "# 정렬된 결과를 CSV 파일로 저장\n",
    "seoul_df1_sorted.to_csv(\"2023_문화시설_sorted.csv\", index=False)\n",
    "seoul_df2_sorted.to_csv(\"2023_문화시설_교육_시니어_sorted.csv\", index=False)\n",
    "seoul_df3_sorted.to_csv(\"2023_자연공원_쇼핑시설_sorted.csv\", index=False)\n"
   ]
  }
 ],
 "metadata": {
  "kernelspec": {
   "display_name": ".venv",
   "language": "python",
   "name": "python3"
  },
  "language_info": {
   "codemirror_mode": {
    "name": "ipython",
    "version": 3
   },
   "file_extension": ".py",
   "mimetype": "text/x-python",
   "name": "python",
   "nbconvert_exporter": "python",
   "pygments_lexer": "ipython3",
   "version": "3.12.4"
  }
 },
 "nbformat": 4,
 "nbformat_minor": 2
}
