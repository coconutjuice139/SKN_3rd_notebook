{
 "cells": [
  {
   "cell_type": "markdown",
   "metadata": {},
   "source": [
    "# import"
   ]
  },
  {
   "cell_type": "code",
   "execution_count": 2,
   "metadata": {},
   "outputs": [],
   "source": [
    "import pandas as pd\n",
    "import numpy as np\n",
    "import matplotlib.pyplot as plt\n",
    "from sklearn.metrics import confusion_matrix, accuracy_score, precision_score, recall_score, f1_score\n",
    "from sklearn.model_selection import train_test_split\n",
    "from sklearn.preprocessing import StandardScaler, MinMaxScaler, MaxAbsScaler, RobustScaler, QuantileTransformer, PowerTransformer, Normalizer\n",
    "from sklearn.linear_model import LogisticRegression, RidgeClassifier, SGDClassifier, PassiveAggressiveClassifier, ElasticNet, Lasso, Ridge, LassoCV, RidgeCV, LogisticRegressionCV\n",
    "from sklearn.ensemble import RandomForestClassifier, GradientBoostingClassifier, AdaBoostClassifier, VotingClassifier, StackingClassifier, BaggingClassifier, ExtraTreesClassifier, IsolationForest\n",
    "from sklearn.svm import SVC, LinearSVC, NuSVC, OneClassSVM, SVR\n",
    "from sklearn.neighbors import KNeighborsClassifier, NearestCentroid, RadiusNeighborsClassifier, NeighborhoodComponentsAnalysis, LocalOutlierFactor\n",
    "from sklearn.tree import DecisionTreeClassifier, ExtraTreeClassifier\n",
    "from sklearn.naive_bayes import GaussianNB, MultinomialNB, BernoulliNB\n",
    "from sklearn.neural_network import MLPClassifier, MLPRegressor\n",
    "from sklearn.gaussian_process import GaussianProcessClassifier, GaussianProcessRegressor\n",
    "from sklearn.cluster import KMeans, DBSCAN, AgglomerativeClustering\n",
    "from sklearn.model_selection import train_test_split\n",
    "from sklearn.metrics import accuracy_score, precision_score, recall_score, f1_score\n",
    "from sklearn.metrics import confusion_matrix\n",
    "\n",
    "# XGBoost\n",
    "from xgboost import XGBClassifier, XGBRegressor\n",
    "\n",
    "# LightGBM\n",
    "from lightgbm import LGBMClassifier, LGBMRegressor\n",
    "\n",
    "# CatBoost\n",
    "from catboost import CatBoostClassifier, CatBoostRegressor\n",
    "\n",
    "# 시계열 모델\n",
    "from statsmodels.tsa.arima.model import ARIMA\n",
    "from prophet import Prophet\n",
    "\n",
    "# 시각화\n",
    "import seaborn as sns\n",
    "\n",
    "# 차원 축소\n",
    "from sklearn.decomposition import PCA\n",
    "from sklearn.manifold import TSNE\n",
    "\n",
    "# 특성 선택\n",
    "from sklearn.feature_selection import SelectKBest, f_classif\n",
    "\n",
    "# 불균형 데이터 처리\n",
    "from imblearn.over_sampling import SMOTE\n",
    "\n",
    "# 딥러닝 (필요에 따라 주석 해제)\n",
    "# import tensorflow as tf\n",
    "# import torch"
   ]
  },
  {
   "cell_type": "markdown",
   "metadata": {},
   "source": [
    "# def function"
   ]
  },
  {
   "cell_type": "code",
   "execution_count": null,
   "metadata": {},
   "outputs": [],
   "source": [
    "def get_graph_columns(df, columns):\n",
    "    plt.title('gender proportion')\n",
    "    plt.xlabel('gender')\n",
    "    plt.ylabel('proportion')\n",
    "    plt.xticks(rotation=0)\n",
    "\n",
    "# 각 막대 위에 값 표시\n",
    "    for bar in bars.patches:\n",
    "        plt.text(\n",
    "            bar.get_x() + bar.get_width() / 2,  # 막대의 중앙에 위치하게 x 좌표 계산\n",
    "            bar.get_height(),  # 막대의 높이 위에 값을 표시\n",
    "            f'{bar.get_height():d}',  # 표시할 값 (소수점 2자리로 표현)\n",
    "            ha='center',  # 가로 정렬: 중앙\n",
    "            va='bottom'  # 세로 정렬: 막대 위에 표시\n",
    "        )\n",
    "\n",
    "    plt.show()\n"
   ]
  },
  {
   "cell_type": "code",
   "execution_count": null,
   "metadata": {},
   "outputs": [],
   "source": [
    "def get_clf_eval(y_test, pred):\n",
    "    confusion = confusion_matrix(y_test, pred)\n",
    "    accuracy = accuracy_score(y_test, pred)\n",
    "    precision = precision_score(y_test, pred)\n",
    "    recall = recall_score(y_test, pred)\n",
    "    f1 = f1_score(y_test, pred)\n",
    "    print('오차 행렬')\n",
    "    print(confusion)\n",
    "    print('정확도: {0:.4f}, 정밀도: {1:.4f}, 재현율: {2:.4f}, F1:{3:.4f}'.format(accuracy, precision, recall, f1))\n",
    "    "
   ]
  },
  {
   "cell_type": "markdown",
   "metadata": {},
   "source": [
    "# Data load"
   ]
  },
  {
   "cell_type": "code",
   "execution_count": null,
   "metadata": {},
   "outputs": [],
   "source": [
    "# import pygwalker as pyg"
   ]
  },
  {
   "cell_type": "code",
   "execution_count": null,
   "metadata": {},
   "outputs": [],
   "source": [
    "import pandas as pd\n",
    "import numpy as np\n",
    "import matplotlib.pyplot as plt\n",
    "# import seaborn as sns"
   ]
  },
  {
   "cell_type": "code",
   "execution_count": null,
   "metadata": {},
   "outputs": [],
   "source": [
    "df = pd.read_csv('data/WA_Fn-UseC_-Telco-Customer-Churn.csv')"
   ]
  },
  {
   "cell_type": "code",
   "execution_count": null,
   "metadata": {},
   "outputs": [],
   "source": [
    "print(df.head())\n",
    "df.info()"
   ]
  },
  {
   "cell_type": "code",
   "execution_count": null,
   "metadata": {},
   "outputs": [],
   "source": [
    "# args = {\n",
    "#     'random_state': 42,\n",
    "#     'test_size': 0.2,\n",
    "#     'n_estimators': 100\n",
    "# }"
   ]
  },
  {
   "cell_type": "code",
   "execution_count": null,
   "metadata": {},
   "outputs": [],
   "source": [
    "# from easydict import EasyDict as edict\n",
    "\n",
    "# args = edict({\n",
    "#     'random_state': 42,\n",
    "#     'test_size': 0.2,\n",
    "#     'n_estimators': 100\n",
    "# })"
   ]
  },
  {
   "cell_type": "markdown",
   "metadata": {},
   "source": [
    "# Data review"
   ]
  },
  {
   "cell_type": "code",
   "execution_count": null,
   "metadata": {},
   "outputs": [],
   "source": [
    "df.columns"
   ]
  },
  {
   "cell_type": "code",
   "execution_count": null,
   "metadata": {},
   "outputs": [],
   "source": [
    "df['customerID'].describe() # unique"
   ]
  },
  {
   "cell_type": "code",
   "execution_count": null,
   "metadata": {},
   "outputs": [],
   "source": [
    "df['gender'].describe() # sym"
   ]
  },
  {
   "cell_type": "code",
   "execution_count": null,
   "metadata": {},
   "outputs": [],
   "source": [
    "df['SeniorCitizen'].describe() # 고령자"
   ]
  },
  {
   "cell_type": "code",
   "execution_count": null,
   "metadata": {},
   "outputs": [],
   "source": [
    "df['Partner'].describe() # 결혼 했는가?"
   ]
  },
  {
   "cell_type": "code",
   "execution_count": null,
   "metadata": {},
   "outputs": [],
   "source": [
    "df['Dependents'].describe() # 부양 가족(자녀)이 있는가?"
   ]
  },
  {
   "cell_type": "code",
   "execution_count": null,
   "metadata": {},
   "outputs": [],
   "source": [
    "df['tenure'].describe() # 구독 기간(개월)"
   ]
  },
  {
   "cell_type": "code",
   "execution_count": null,
   "metadata": {},
   "outputs": [],
   "source": [
    "df['PhoneService'].describe() # category, Yes에 편향향"
   ]
  },
  {
   "cell_type": "code",
   "execution_count": null,
   "metadata": {},
   "outputs": [],
   "source": [
    "df['MultipleLines'].describe(), df['MultipleLines'].unique() # Yes/No/ NaN"
   ]
  },
  {
   "cell_type": "code",
   "execution_count": null,
   "metadata": {},
   "outputs": [],
   "source": [
    "df['InternetService'].describe(), df['InternetService'].unique()"
   ]
  },
  {
   "cell_type": "code",
   "execution_count": null,
   "metadata": {},
   "outputs": [],
   "source": [
    "df['OnlineSecurity'].describe(), df['OnlineSecurity'].unique()"
   ]
  },
  {
   "cell_type": "code",
   "execution_count": null,
   "metadata": {},
   "outputs": [],
   "source": [
    "df['OnlineBackup'].describe(), df['OnlineBackup'].unique()"
   ]
  },
  {
   "cell_type": "code",
   "execution_count": null,
   "metadata": {},
   "outputs": [],
   "source": [
    "df['DeviceProtection'].describe(), df['DeviceProtection'].unique()"
   ]
  },
  {
   "cell_type": "code",
   "execution_count": null,
   "metadata": {},
   "outputs": [],
   "source": [
    "df['TechSupport'].describe(), df['TechSupport'].unique()"
   ]
  },
  {
   "cell_type": "code",
   "execution_count": null,
   "metadata": {},
   "outputs": [],
   "source": [
    "df['StreamingTV'].describe(), df['StreamingTV'].unique()"
   ]
  },
  {
   "cell_type": "code",
   "execution_count": null,
   "metadata": {},
   "outputs": [],
   "source": [
    "df['StreamingMovies'].describe(), df['StreamingMovies'].unique()"
   ]
  },
  {
   "cell_type": "code",
   "execution_count": null,
   "metadata": {},
   "outputs": [],
   "source": [
    "df['Contract'].describe(), df['Contract'].unique() # 단위 계약 m2m = 월단위 구독, 1y = 연간 구독, 2y = 2년 구독"
   ]
  },
  {
   "cell_type": "code",
   "execution_count": null,
   "metadata": {},
   "outputs": [],
   "source": [
    "df['PaperlessBilling'].describe(), df['PaperlessBilling'].unique() # 전자 청구서 유무 yes = 전자 청구서/ No = 종이 청구서"
   ]
  },
  {
   "cell_type": "code",
   "execution_count": null,
   "metadata": {},
   "outputs": [],
   "source": [
    "df['PaymentMethod'].describe(), df['PaymentMethod'].unique() \n",
    "# 결제 방법 \n",
    "# 'Electronic check' - 전자 수표, \n",
    "# 'Mailed check' - offline 수표, \n",
    "# 'Bank transfer (automatic)' - 은행 송금(자동),\n",
    "# 'Credit card (automatic)' - 신용카드 (자동)"
   ]
  },
  {
   "cell_type": "code",
   "execution_count": null,
   "metadata": {},
   "outputs": [],
   "source": [
    "df['MonthlyCharges'].describe() # 월간 지불액"
   ]
  },
  {
   "cell_type": "code",
   "execution_count": null,
   "metadata": {},
   "outputs": [],
   "source": [
    "df['TotalCharges'].describe() # 사용 기간동안 지불했던 총 금액"
   ]
  },
  {
   "cell_type": "code",
   "execution_count": null,
   "metadata": {},
   "outputs": [],
   "source": [
    "df['Churn'].describe(), df['Churn'].unique() # target // yes = 이탈한 사람"
   ]
  },
  {
   "cell_type": "code",
   "execution_count": null,
   "metadata": {},
   "outputs": [],
   "source": [
    "df.info()"
   ]
  },
  {
   "cell_type": "code",
   "execution_count": null,
   "metadata": {},
   "outputs": [],
   "source": [
    "# df['TotalCharges'].astype(float)"
   ]
  },
  {
   "cell_type": "code",
   "execution_count": null,
   "metadata": {},
   "outputs": [],
   "source": [
    "# to_numeric -> 문자열 숫자 -> 숫자로 변경 / error 발생시 NaN으로 강제 변경\n",
    "# fillna(0) -> NaN값을 0으로 변경\n",
    "df['TotalCharges'] = pd.to_numeric(df['TotalCharges'], errors='coerce').fillna(0)"
   ]
  },
  {
   "cell_type": "code",
   "execution_count": null,
   "metadata": {},
   "outputs": [],
   "source": [
    "df['TotalCharges'].astype(float)"
   ]
  },
  {
   "cell_type": "code",
   "execution_count": null,
   "metadata": {},
   "outputs": [],
   "source": [
    "df['TotalCharges'].describe()"
   ]
  },
  {
   "cell_type": "code",
   "execution_count": null,
   "metadata": {},
   "outputs": [],
   "source": [
    "df.columns"
   ]
  },
  {
   "cell_type": "markdown",
   "metadata": {},
   "source": [
    "# graph columns"
   ]
  },
  {
   "cell_type": "code",
   "execution_count": null,
   "metadata": {},
   "outputs": [],
   "source": [
    "gender_count = df['gender'].value_counts()\n",
    "\n",
    "plt.figure(figsize=(6,4))\n",
    "bars = gender_count.plot(kind='bar', color=['blue', 'red'])\n",
    "\n",
    "plt.title('gender proportion')\n",
    "plt.xlabel('gender')\n",
    "plt.ylabel('proportion')\n",
    "plt.xticks(rotation=0)\n",
    "\n",
    "# 각 막대 위에 값 표시\n",
    "for bar in bars.patches:\n",
    "    plt.text(\n",
    "        bar.get_x() + bar.get_width() / 2,  # 막대의 중앙에 위치하게 x 좌표 계산\n",
    "        bar.get_height(),  # 막대의 높이 위에 값을 표시\n",
    "        f'{bar.get_height():d}',  # 표시할 값 (소수점 2자리로 표현)\n",
    "        ha='center',  # 가로 정렬: 중앙\n",
    "        va='bottom'  # 세로 정렬: 막대 위에 표시\n",
    "    )\n",
    "\n",
    "plt.show()"
   ]
  },
  {
   "cell_type": "code",
   "execution_count": null,
   "metadata": {},
   "outputs": [],
   "source": [
    "gender_count = df['SeniorCitizen'].value_counts()\n",
    "\n",
    "plt.figure(figsize=(6,4))\n",
    "bars = gender_count.plot(kind='bar', color=['blue', 'red'])\n",
    "\n",
    "plt.title('SeniorCitizen proportion')\n",
    "plt.xlabel('SeniorCitizen')\n",
    "plt.ylabel('proportion')\n",
    "plt.xticks(rotation=0)\n",
    "\n",
    "# 각 막대 위에 값 표시\n",
    "for bar in bars.patches:\n",
    "    plt.text(\n",
    "        bar.get_x() + bar.get_width() / 2,  # 막대의 중앙에 위치하게 x 좌표 계산\n",
    "        bar.get_height(),  # 막대의 높이 위에 값을 표시\n",
    "        f'{bar.get_height():d}',  # 표시할 값 (소수점 2자리로 표현)\n",
    "        ha='center',  # 가로 정렬: 중앙\n",
    "        va='bottom'  # 세로 정렬: 막대 위에 표시\n",
    "    )\n",
    "\n",
    "plt.show()"
   ]
  },
  {
   "cell_type": "code",
   "execution_count": null,
   "metadata": {},
   "outputs": [],
   "source": [
    "gender_count = df['Partner'].value_counts()\n",
    "\n",
    "plt.figure(figsize=(6,4))\n",
    "bars = gender_count.plot(kind='bar', color=['blue', 'red'])\n",
    "\n",
    "plt.title('Partner proportion')\n",
    "plt.xlabel('Partner')\n",
    "plt.ylabel('proportion')\n",
    "plt.xticks(rotation=0)\n",
    "\n",
    "# 각 막대 위에 값 표시\n",
    "for bar in bars.patches:\n",
    "    plt.text(\n",
    "        bar.get_x() + bar.get_width() / 2,  # 막대의 중앙에 위치하게 x 좌표 계산\n",
    "        bar.get_height(),  # 막대의 높이 위에 값을 표시\n",
    "        f'{bar.get_height():d}',  # 표시할 값 (소수점 2자리로 표현)\n",
    "        ha='center',  # 가로 정렬: 중앙\n",
    "        va='bottom'  # 세로 정렬: 막대 위에 표시\n",
    "    )\n",
    "\n",
    "plt.show()"
   ]
  },
  {
   "cell_type": "code",
   "execution_count": null,
   "metadata": {},
   "outputs": [],
   "source": [
    "gender_count = df['Dependents'].value_counts()\n",
    "\n",
    "plt.figure(figsize=(6,4))\n",
    "bars = gender_count.plot(kind='bar', color=['blue', 'red'])\n",
    "\n",
    "plt.title('Dependents proportion')\n",
    "plt.xlabel('Dependents')\n",
    "plt.ylabel('proportion')\n",
    "plt.xticks(rotation=0)\n",
    "\n",
    "# 각 막대 위에 값 표시\n",
    "for bar in bars.patches:\n",
    "    plt.text(\n",
    "        bar.get_x() + bar.get_width() / 2,  # 막대의 중앙에 위치하게 x 좌표 계산\n",
    "        bar.get_height(),  # 막대의 높이 위에 값을 표시\n",
    "        f'{bar.get_height():d}',  # 표시할 값 (소수점 2자리로 표현)\n",
    "        ha='center',  # 가로 정렬: 중앙\n",
    "        va='bottom'  # 세로 정렬: 막대 위에 표시\n",
    "    )\n",
    "\n",
    "plt.show()"
   ]
  },
  {
   "cell_type": "code",
   "execution_count": null,
   "metadata": {},
   "outputs": [],
   "source": [
    "gender_count = df['tenure'].value_counts()\n",
    "\n",
    "\n",
    "\n",
    "# gender의 순서를 유지하기 위해 x축의 값을 기준으로 정렬하여 막대 그래프를 그리기\n",
    "gender_counts_sorted = gender_count.sort_index()  # gender 값을 기준으로 정렬\n",
    "\n",
    "plt.figure(figsize=(20,4))\n",
    "bars = gender_counts_sorted.plot(kind='bar', color=['blue', 'red'])\n",
    "\n",
    "\n",
    "\n",
    "plt.title('tenure proportion')\n",
    "plt.xlabel('tenure')\n",
    "plt.ylabel('proportion')\n",
    "plt.xticks(rotation=0)\n",
    "\n",
    "# 각 막대 위에 값 표시\n",
    "for bar in bars.patches:\n",
    "    plt.text(\n",
    "        bar.get_x() + bar.get_width() / 2,  # 막대의 중앙에 위치하게 x 좌표 계산\n",
    "        bar.get_height(),  # 막대의 높이 위에 값을 표시\n",
    "        f'{bar.get_height():d}',  # 표시할 값 (소수점 2자리로 표현)\n",
    "        ha='center',  # 가로 정렬: 중앙\n",
    "        va='bottom'  # 세로 정렬: 막대 위에 표시\n",
    "    )\n",
    "\n",
    "plt.show()"
   ]
  },
  {
   "cell_type": "code",
   "execution_count": null,
   "metadata": {},
   "outputs": [],
   "source": [
    "import matplotlib.pyplot as plt\n",
    "import numpy as np\n",
    "\n",
    "df['bins_tenure'] = pd.cut(df['tenure'], bins=[0, 1, 5, 10, 20, 30, 40, 50, 60, 70, 80], labels=[1, 5, 10, 20, 30, 40, 50, 60, 70, 80])\n",
    "tenure_counts = df['bins_tenure'].value_counts().sort_index()\n",
    "\n",
    "plt.figure(figsize=(12, 6))\n",
    "\n",
    "bars = plt.bar(tenure_counts.index, tenure_counts.values, edgecolor='black')\n",
    "plt.title('Tenure Distribution', fontsize=16)\n",
    "plt.xlabel('Tenure (months)', fontsize=14)\n",
    "plt.ylabel('Frequency', fontsize=14)\n",
    "\n",
    "# 각 막대 위에 빈도수 표시\n",
    "for bar in bars:\n",
    "    height = bar.get_height()\n",
    "    plt.text(bar.get_x() + bar.get_width()/2., height,\n",
    "             f'{height}',\n",
    "             ha='center', va='bottom')\n",
    "\n",
    "plt.xticks(rotation=0)\n",
    "plt.tight_layout()\n",
    "plt.show()"
   ]
  },
  {
   "cell_type": "code",
   "execution_count": null,
   "metadata": {},
   "outputs": [],
   "source": [
    "gender_count = df['PhoneService'].value_counts()\n",
    "\n",
    "plt.figure(figsize=(6,4))\n",
    "bars = gender_count.plot(kind='bar', color=['blue', 'red'])\n",
    "\n",
    "plt.title('PhoneService proportion')\n",
    "plt.xlabel('PhoneService')\n",
    "plt.ylabel('proportion')\n",
    "plt.xticks(rotation=0)\n",
    "\n",
    "# 각 막대 위에 값 표시\n",
    "for bar in bars.patches:\n",
    "    plt.text(\n",
    "        bar.get_x() + bar.get_width() / 2,  # 막대의 중앙에 위치하게 x 좌표 계산\n",
    "        bar.get_height(),  # 막대의 높이 위에 값을 표시\n",
    "        f'{bar.get_height():d}',  # 표시할 값 (소수점 2자리로 표현)\n",
    "        ha='center',  # 가로 정렬: 중앙\n",
    "        va='bottom'  # 세로 정렬: 막대 위에 표시\n",
    "    )\n",
    "\n",
    "plt.show()"
   ]
  },
  {
   "cell_type": "code",
   "execution_count": null,
   "metadata": {},
   "outputs": [],
   "source": [
    "gender_count = df['MultipleLines'].value_counts()\n",
    "\n",
    "plt.figure(figsize=(6,4))\n",
    "bars = gender_count.plot(kind='bar', color=['blue', 'red'])\n",
    "\n",
    "plt.title('MultipleLines proportion')\n",
    "plt.xlabel('MultipleLines')\n",
    "plt.ylabel('proportion')\n",
    "plt.xticks(rotation=0)\n",
    "\n",
    "# 각 막대 위에 값 표시\n",
    "for bar in bars.patches:\n",
    "    plt.text(\n",
    "        bar.get_x() + bar.get_width() / 2,  # 막대의 중앙에 위치하게 x 좌표 계산\n",
    "        bar.get_height(),  # 막대의 높이 위에 값을 표시\n",
    "        f'{bar.get_height():d}',  # 표시할 값 (소수점 2자리로 표현)\n",
    "        ha='center',  # 가로 정렬: 중앙\n",
    "        va='bottom'  # 세로 정렬: 막대 위에 표시\n",
    "    )\n",
    "\n",
    "plt.show()"
   ]
  },
  {
   "cell_type": "code",
   "execution_count": null,
   "metadata": {},
   "outputs": [],
   "source": [
    "gender_count = df['InternetService'].value_counts()\n",
    "\n",
    "plt.figure(figsize=(6,4))\n",
    "bars = gender_count.plot(kind='bar', color=['blue', 'red'])\n",
    "\n",
    "plt.title('InternetService proportion')\n",
    "plt.xlabel('InternetService')\n",
    "plt.ylabel('proportion')\n",
    "plt.xticks(rotation=0)\n",
    "\n",
    "# 각 막대 위에 값 표시\n",
    "for bar in bars.patches:\n",
    "    plt.text(\n",
    "        bar.get_x() + bar.get_width() / 2,  # 막대의 중앙에 위치하게 x 좌표 계산\n",
    "        bar.get_height(),  # 막대의 높이 위에 값을 표시\n",
    "        f'{bar.get_height():d}',  # 표시할 값 (소수점 2자리로 표현)\n",
    "        ha='center',  # 가로 정렬: 중앙\n",
    "        va='bottom'  # 세로 정렬: 막대 위에 표시\n",
    "    )\n",
    "\n",
    "plt.show()"
   ]
  },
  {
   "cell_type": "code",
   "execution_count": null,
   "metadata": {},
   "outputs": [],
   "source": [
    "gender_count = df['OnlineSecurity'].value_counts()\n",
    "\n",
    "plt.figure(figsize=(6,4))\n",
    "bars = gender_count.plot(kind='bar', color=['blue', 'red'])\n",
    "\n",
    "plt.title('OnlineSecurity proportion')\n",
    "plt.xlabel('OnlineSecurity')\n",
    "plt.ylabel('proportion')\n",
    "plt.xticks(rotation=0)\n",
    "\n",
    "# 각 막대 위에 값 표시\n",
    "for bar in bars.patches:\n",
    "    plt.text(\n",
    "        bar.get_x() + bar.get_width() / 2,  # 막대의 중앙에 위치하게 x 좌표 계산\n",
    "        bar.get_height(),  # 막대의 높이 위에 값을 표시\n",
    "        f'{bar.get_height():d}',  # 표시할 값 (소수점 2자리로 표현)\n",
    "        ha='center',  # 가로 정렬: 중앙\n",
    "        va='bottom'  # 세로 정렬: 막대 위에 표시\n",
    "    )\n",
    "\n",
    "plt.show()"
   ]
  },
  {
   "cell_type": "code",
   "execution_count": null,
   "metadata": {},
   "outputs": [],
   "source": [
    "gender_count = df['OnlineBackup'].value_counts()\n",
    "\n",
    "plt.figure(figsize=(6,4))\n",
    "bars = gender_count.plot(kind='bar', color=['blue', 'red'])\n",
    "\n",
    "plt.title('OnlineBackup proportion')\n",
    "plt.xlabel('OnlineBackup')\n",
    "plt.ylabel('proportion')\n",
    "plt.xticks(rotation=0)\n",
    "\n",
    "# 각 막대 위에 값 표시\n",
    "for bar in bars.patches:\n",
    "    plt.text(\n",
    "        bar.get_x() + bar.get_width() / 2,  # 막대의 중앙에 위치하게 x 좌표 계산\n",
    "        bar.get_height(),  # 막대의 높이 위에 값을 표시\n",
    "        f'{bar.get_height():d}',  # 표시할 값 (소수점 2자리로 표현)\n",
    "        ha='center',  # 가로 정렬: 중앙\n",
    "        va='bottom'  # 세로 정렬: 막대 위에 표시\n",
    "    )\n",
    "\n",
    "plt.show()"
   ]
  },
  {
   "cell_type": "code",
   "execution_count": null,
   "metadata": {},
   "outputs": [],
   "source": [
    "gender_count = df['DeviceProtection'].value_counts()\n",
    "\n",
    "plt.figure(figsize=(6,4))\n",
    "bars = gender_count.plot(kind='bar', color=['blue', 'red'])\n",
    "\n",
    "plt.title('DeviceProtection proportion')\n",
    "plt.xlabel('DeviceProtection')\n",
    "plt.ylabel('proportion')\n",
    "plt.xticks(rotation=0)\n",
    "\n",
    "# 각 막대 위에 값 표시\n",
    "for bar in bars.patches:\n",
    "    plt.text(\n",
    "        bar.get_x() + bar.get_width() / 2,  # 막대의 중앙에 위치하게 x 좌표 계산\n",
    "        bar.get_height(),  # 막대의 높이 위에 값을 표시\n",
    "        f'{bar.get_height():d}',  # 표시할 값 (소수점 2자리로 표현)\n",
    "        ha='center',  # 가로 정렬: 중앙\n",
    "        va='bottom'  # 세로 정렬: 막대 위에 표시\n",
    "    )\n",
    "\n",
    "plt.show()"
   ]
  },
  {
   "cell_type": "code",
   "execution_count": null,
   "metadata": {},
   "outputs": [],
   "source": [
    "gender_count = df['TechSupport'].value_counts()\n",
    "\n",
    "plt.figure(figsize=(6,4))\n",
    "bars = gender_count.plot(kind='bar', color=['blue', 'red'])\n",
    "\n",
    "plt.title('TechSupport proportion')\n",
    "plt.xlabel('TechSupport')\n",
    "plt.ylabel('proportion')\n",
    "plt.xticks(rotation=0)\n",
    "\n",
    "# 각 막대 위에 값 표시\n",
    "for bar in bars.patches:\n",
    "    plt.text(\n",
    "        bar.get_x() + bar.get_width() / 2,  # 막대의 중앙에 위치하게 x 좌표 계산\n",
    "        bar.get_height(),  # 막대의 높이 위에 값을 표시\n",
    "        f'{bar.get_height():d}',  # 표시할 값 (소수점 2자리로 표현)\n",
    "        ha='center',  # 가로 정렬: 중앙\n",
    "        va='bottom'  # 세로 정렬: 막대 위에 표시\n",
    "    )\n",
    "\n",
    "plt.show()"
   ]
  },
  {
   "cell_type": "code",
   "execution_count": null,
   "metadata": {},
   "outputs": [],
   "source": [
    "gender_count = df['StreamingTV'].value_counts()\n",
    "\n",
    "plt.figure(figsize=(6,4))\n",
    "bars = gender_count.plot(kind='bar', color=['blue', 'red'])\n",
    "\n",
    "plt.title('StreamingTV proportion')\n",
    "plt.xlabel('StreamingTV')\n",
    "plt.ylabel('proportion')\n",
    "plt.xticks(rotation=0)\n",
    "\n",
    "# 각 막대 위에 값 표시\n",
    "for bar in bars.patches:\n",
    "    plt.text(\n",
    "        bar.get_x() + bar.get_width() / 2,  # 막대의 중앙에 위치하게 x 좌표 계산\n",
    "        bar.get_height(),  # 막대의 높이 위에 값을 표시\n",
    "        f'{bar.get_height():d}',  # 표시할 값 (소수점 2자리로 표현)\n",
    "        ha='center',  # 가로 정렬: 중앙\n",
    "        va='bottom'  # 세로 정렬: 막대 위에 표시\n",
    "    )\n",
    "\n",
    "plt.show()"
   ]
  },
  {
   "cell_type": "code",
   "execution_count": null,
   "metadata": {},
   "outputs": [],
   "source": [
    "gender_count = df['StreamingMovies'].value_counts()\n",
    "\n",
    "plt.figure(figsize=(6,4))\n",
    "bars = gender_count.plot(kind='bar', color=['blue', 'red'])\n",
    "\n",
    "plt.title('StreamingMovies proportion')\n",
    "plt.xlabel('StreamingMovies')\n",
    "plt.ylabel('proportion')\n",
    "plt.xticks(rotation=0)\n",
    "\n",
    "# 각 막대 위에 값 표시\n",
    "for bar in bars.patches:\n",
    "    plt.text(\n",
    "        bar.get_x() + bar.get_width() / 2,  # 막대의 중앙에 위치하게 x 좌표 계산\n",
    "        bar.get_height(),  # 막대의 높이 위에 값을 표시\n",
    "        f'{bar.get_height():d}',  # 표시할 값 (소수점 2자리로 표현)\n",
    "        ha='center',  # 가로 정렬: 중앙\n",
    "        va='bottom'  # 세로 정렬: 막대 위에 표시\n",
    "    )\n",
    "\n",
    "plt.show()"
   ]
  },
  {
   "cell_type": "code",
   "execution_count": null,
   "metadata": {},
   "outputs": [],
   "source": [
    "gender_count = df['Contract'].value_counts()\n",
    "\n",
    "plt.figure(figsize=(6,4))\n",
    "bars = gender_count.plot(kind='bar', color=['blue', 'red'])\n",
    "\n",
    "plt.title('Contract proportion')\n",
    "plt.xlabel('Contract')\n",
    "plt.ylabel('proportion')\n",
    "plt.xticks(rotation=0)\n",
    "\n",
    "# 각 막대 위에 값 표시\n",
    "for bar in bars.patches:\n",
    "    plt.text(\n",
    "        bar.get_x() + bar.get_width() / 2,  # 막대의 중앙에 위치하게 x 좌표 계산\n",
    "        bar.get_height(),  # 막대의 높이 위에 값을 표시\n",
    "        f'{bar.get_height():d}',  # 표시할 값 (소수점 2자리로 표현)\n",
    "        ha='center',  # 가로 정렬: 중앙\n",
    "        va='bottom'  # 세로 정렬: 막대 위에 표시\n",
    "    )\n",
    "\n",
    "plt.show()"
   ]
  },
  {
   "cell_type": "code",
   "execution_count": null,
   "metadata": {},
   "outputs": [],
   "source": [
    "gender_count = df['PaperlessBilling'].value_counts()\n",
    "\n",
    "plt.figure(figsize=(6,4))\n",
    "bars = gender_count.plot(kind='bar', color=['blue', 'red'])\n",
    "\n",
    "plt.title('PaperlessBilling proportion')\n",
    "plt.xlabel('PaperlessBilling')\n",
    "plt.ylabel('proportion')\n",
    "plt.xticks(rotation=0)\n",
    "\n",
    "# 각 막대 위에 값 표시\n",
    "for bar in bars.patches:\n",
    "    plt.text(\n",
    "        bar.get_x() + bar.get_width() / 2,  # 막대의 중앙에 위치하게 x 좌표 계산\n",
    "        bar.get_height(),  # 막대의 높이 위에 값을 표시\n",
    "        f'{bar.get_height():d}',  # 표시할 값 (소수점 2자리로 표현)\n",
    "        ha='center',  # 가로 정렬: 중앙\n",
    "        va='bottom'  # 세로 정렬: 막대 위에 표시\n",
    "    )\n",
    "\n",
    "plt.show()"
   ]
  },
  {
   "cell_type": "code",
   "execution_count": null,
   "metadata": {},
   "outputs": [],
   "source": [
    "gender_count = df['PaymentMethod'].value_counts()\n",
    "\n",
    "plt.figure(figsize=(6,4))\n",
    "bars = gender_count.plot(kind='bar', color=['blue', 'red'])\n",
    "\n",
    "plt.title('PaymentMethod proportion')\n",
    "plt.xlabel('PaymentMethod')\n",
    "plt.ylabel('proportion')\n",
    "plt.xticks(rotation=45)\n",
    "\n",
    "# 각 막대 위에 값 표시\n",
    "for bar in bars.patches:\n",
    "    plt.text(\n",
    "        bar.get_x() + bar.get_width() / 2,  # 막대의 중앙에 위치하게 x 좌표 계산\n",
    "        bar.get_height(),  # 막대의 높이 위에 값을 표시\n",
    "        f'{bar.get_height():d}',  # 표시할 값 (소수점 2자리로 표현)\n",
    "        ha='center',  # 가로 정렬: 중앙\n",
    "        va='bottom'  # 세로 정렬: 막대 위에 표시\n",
    "    )\n",
    "\n",
    "plt.show()"
   ]
  },
  {
   "cell_type": "code",
   "execution_count": null,
   "metadata": {},
   "outputs": [],
   "source": [
    "df.columns\n",
    "df['Churn'].value_counts()"
   ]
  },
  {
   "cell_type": "markdown",
   "metadata": {},
   "source": [
    "# data encoding"
   ]
  },
  {
   "cell_type": "code",
   "execution_count": null,
   "metadata": {},
   "outputs": [],
   "source": [
    "# encoding\n",
    "df.drop(columns=['customerID'], inplace=True)\n",
    "df['Churn'].replace({'No': 0, 'Yes': 1}, inplace=True)\n",
    "df['gender'].replace({'Female': 0, 'Male': 1}, inplace=True)\n",
    "df['Partner'].replace({'No': 0, 'Yes': 1}, inplace=True)\n",
    "df['Dependents'].replace({'No': 0, 'Yes': 1}, inplace=True)\n",
    "df['PhoneService'].replace({'No': 0, 'Yes': 1}, inplace=True)\n",
    "df['MultipleLines'].replace({'No phone service': 2, 'No': 0, 'Yes': 1}, inplace=True)\n",
    "df['InternetService'].replace({'No': 0, 'DSL': 1, 'Fiber optic': 2}, inplace=True)\n",
    "df['OnlineSecurity'].replace({'No': 0, 'No internet service': 2, 'Yes': 1}, inplace=True)\n",
    "df['OnlineBackup'].replace({'No': 0, 'No internet service': 2, 'Yes': 1}, inplace=True)\n",
    "df['DeviceProtection'].replace({'No': 0, 'No internet service': 2, 'Yes': 1}, inplace=True)\n",
    "df['TechSupport'].replace({'No': 0, 'No internet service': 2, 'Yes': 1}, inplace=True)\n",
    "df['StreamingTV'].replace({'No': 0, 'No internet service': 2, 'Yes': 1}, inplace=True)\n",
    "df['StreamingMovies'].replace({'No': 0, 'No internet service': 2, 'Yes': 1}, inplace=True)\n",
    "df['Contract'].replace({'Month-to-month': 0, 'One year': 1, 'Two year': 2}, inplace=True)\n",
    "df['PaperlessBilling'].replace({'No': 0, 'Yes': 1}, inplace=True)\n",
    "df['PaymentMethod'].replace({'Electronic check': 0, 'Mailed check': 1, 'Bank transfer (automatic)': 2, 'Credit card (automatic)': 3}, inplace=True)\n",
    "df['bins_tenure'] = pd.cut(df['tenure'], bins=[0, 1, 5, 10, 20, 30, 40, 50, 60, 70, 80], labels=[1, 5, 10, 20, 30, 40, 50, 60, 70, 80])\n",
    "# df['MonthlyCharges_Binned'].replace({'20': 0, '21': 1, '30': 2, '45': 3, '50': 4, '60': 5, '70': 6, '75': 7, '80': 8, '85': 9, '90': 10, '95': 11, '100': 12, '105': 13, '110': 14, '120': 15, '130': 16}, inplace=True)\n",
    "# df['TotalCharges_Binned'].replace({'50': 0, '100': 1, '200': 2, '300': 3, '500': 4, '750': 5, '1000': 6, '1200': 7, '1500': 8, '2000': 9, '3000': 10, '4000': 11, '5000': 12, '6000': 13, '7000': 14, '8000': 15, '9000': 16}, inplace=True)\n",
    "df.columns"
   ]
  },
  {
   "cell_type": "code",
   "execution_count": null,
   "metadata": {},
   "outputs": [],
   "source": [
    "# df['Charges_Binned'].value_counts()\n",
    "# df.drop(columns=['Charges_Binned'], inplace=True)\n",
    "\n",
    "df['TotalCharges'] = df['TotalCharges'].replace(' ', 0)\n",
    "df['TotalCharges'] = df['TotalCharges'].astype(float)\n",
    "df['TotalCharges'].value_counts()\n",
    "df['bins_tenure'] = pd.to_numeric(df['TotalCharges'], errors='coerce').fillna(0)\n",
    "df.info()\n",
    "df.drop(columns=['tenure'], inplace=True)"
   ]
  },
  {
   "cell_type": "code",
   "execution_count": null,
   "metadata": {},
   "outputs": [],
   "source": [
    "# transform & scale"
   ]
  },
  {
   "cell_type": "code",
   "execution_count": null,
   "metadata": {},
   "outputs": [],
   "source": [
    "# df.drop(columns=['MonthlyCharges'], inplace=True)\n",
    "# df.drop(columns=['TotalCharges'], inplace=True)"
   ]
  },
  {
   "cell_type": "markdown",
   "metadata": {},
   "source": [
    "# train test split"
   ]
  },
  {
   "cell_type": "code",
   "execution_count": null,
   "metadata": {},
   "outputs": [],
   "source": [
    "from sklearn.model_selection import train_test_split\n",
    "from sklearn.ensemble import RandomForestClassifier\n",
    "from sklearn.metrics import accuracy_score, f1_score\n",
    "\n",
    "SEED = 42\n",
    "\n",
    "y = df['Churn']\n",
    "X = df.drop(columns='Churn', inplace= False)"
   ]
  },
  {
   "cell_type": "code",
   "execution_count": null,
   "metadata": {},
   "outputs": [],
   "source": [
    "X.shape, y.shape"
   ]
  },
  {
   "cell_type": "code",
   "execution_count": null,
   "metadata": {},
   "outputs": [],
   "source": [
    "X_train, X_test, y_train, y_test = train_test_split(X, y, test_size = 0.2, random_state=SEED, stratify = y)\n",
    "\n",
    "X_train.head()"
   ]
  },
  {
   "cell_type": "markdown",
   "metadata": {},
   "source": [
    "# Normalizer (scale)"
   ]
  },
  {
   "cell_type": "code",
   "execution_count": null,
   "metadata": {},
   "outputs": [],
   "source": [
    "# from sklearn.preprocessing import Normalizer\n",
    "\n",
    "# scaler = Normalizer()\n",
    "\n",
    "# X_scaled = scaler.fit_transform(X_train['MonthlyCharges'])\n",
    "# #해당 fit으로 test데이터도 transform 해줍니다\n",
    "# X_test_scaled = scaler.transform(X_test['MonthlyCharges'])\n",
    "\n",
    "# fig, ax = plt.subplot(1,2, figsize = [15,5])\n",
    "\n",
    "# # 첫번째 row 왼쪽\n",
    "# ax[0].scatter()"
   ]
  },
  {
   "cell_type": "code",
   "execution_count": null,
   "metadata": {},
   "outputs": [],
   "source": [
    "X_train.info()"
   ]
  },
  {
   "cell_type": "code",
   "execution_count": null,
   "metadata": {},
   "outputs": [],
   "source": [
    "# import matplotlib.pyplot as plt\n",
    "# import seaborn as sns\n",
    "# from sklearn.preprocessing import MinMaxScaler, StandardScaler\n",
    "# import pandas as pd\n",
    "\n",
    "# # MinMaxScaler를 사용하여 데이터 정규화\n",
    "# minmax_scaler = MinMaxScaler()\n",
    "\n",
    "# # 훈련 데이터의 'MonthlyCharges' 열을 2D 배열로 변환\n",
    "# X_train_monthly = X_train[['MonthlyCharges']]\n",
    "# X_test_monthly = X_test[['MonthlyCharges']]\n",
    "\n",
    "# # MinMaxScaler를 훈련 데이터에 맞추고 변환\n",
    "# X_train_normalized = minmax_scaler.fit_transform(X_train_monthly)\n",
    "# X_test_normalized = minmax_scaler.transform(X_test_monthly)\n",
    "\n",
    "# # StandardScaler를 사용하여 정규화된 데이터 스케일링\n",
    "# standard_scaler = StandardScaler()\n",
    "\n",
    "# # StandardScaler를 정규화된 훈련 데이터에 맞추고 변환\n",
    "# X_train_scaled = standard_scaler.fit_transform(X_train_normalized)\n",
    "# X_test_scaled = standard_scaler.transform(X_test_normalized)\n",
    "\n",
    "# # 그래프 그리기\n",
    "# fig, (ax1, ax2, ax3) = plt.subplots(1, 3, figsize=(20, 5))\n",
    "\n",
    "# # 원본 데이터 히스토그램\n",
    "# sns.histplot(X_train_monthly['MonthlyCharges'], kde=True, ax=ax1)\n",
    "# ax1.set_title('원본 MonthlyCharges 분포')\n",
    "# ax1.set_xlabel('MonthlyCharges')\n",
    "\n",
    "# # 정규화된 데이터 히스토그램\n",
    "# sns.histplot(X_train_normalized, kde=True, ax=ax2)\n",
    "# ax2.set_title('정규화된 MonthlyCharges 분포')\n",
    "# ax2.set_xlabel('Normalized MonthlyCharges')\n",
    "\n",
    "# # 스케일링된 데이터 히스토그램\n",
    "# sns.histplot(X_train_scaled, kde=True, ax=ax3)\n",
    "# ax3.set_title('스케일링된 MonthlyCharges 분포')\n",
    "# ax3.set_xlabel('Scaled MonthlyCharges')\n",
    "\n",
    "# plt.tight_layout()\n",
    "# plt.show()\n",
    "\n",
    "# # 기술 통계량 출력\n",
    "# print(\"원본 데이터 통계:\")\n",
    "# print(X_train_monthly['MonthlyCharges'].describe())\n",
    "# print(\"\\n정규화된 데이터 통계:\")\n",
    "# print(pd.DataFrame(X_train_normalized, columns=['Normalized_MonthlyCharges']).describe())\n",
    "# print(\"\\n스케일링된 데이터 통계:\")\n",
    "# print(pd.DataFrame(X_train_scaled, columns=['Scaled_MonthlyCharges']).describe())"
   ]
  },
  {
   "cell_type": "code",
   "execution_count": null,
   "metadata": {},
   "outputs": [],
   "source": []
  },
  {
   "cell_type": "markdown",
   "metadata": {},
   "source": [
    "# find best logistic regression\n"
   ]
  },
  {
   "cell_type": "code",
   "execution_count": null,
   "metadata": {},
   "outputs": [],
   "source": [
    "from sklearn.linear_model import LogisticRegression\n",
    "from sklearn.model_selection import cross_val_score\n",
    "import numpy as np\n",
    "\n",
    "def find_best_logistic_model(X, y, c_values=None, cv=5, random_state=42):\n",
    "    if c_values is None:\n",
    "        c_values = np.logspace(-4, 4, 20)\n",
    "    \n",
    "    best_score = 0\n",
    "    best_c = 0\n",
    "\n",
    "    for c in c_values:\n",
    "        model = LogisticRegression(C=c, random_state=random_state)\n",
    "        scores = cross_val_score(model, X, y, cv=cv, scoring='accuracy')\n",
    "        mean_score = np.mean(scores)\n",
    "        \n",
    "        if mean_score > best_score:\n",
    "            best_score = mean_score\n",
    "            best_c = c\n",
    "\n",
    "    best_model = LogisticRegression(C=best_c, random_state=random_state)\n",
    "    best_model.fit(X, y)\n",
    "\n",
    "    return best_model, best_score, best_c\n",
    "\n",
    "# 사용 예:\n",
    "# best_model, best_score, best_c = find_best_logistic_model(X_train, y_train)\n",
    "# print(f\"Best C: {best_c}, Best Score: {best_score}\")\n",
    "# y_pred = best_model.predict(X_test)"
   ]
  },
  {
   "cell_type": "markdown",
   "metadata": {},
   "source": [
    "# get clf eval"
   ]
  },
  {
   "cell_type": "code",
   "execution_count": null,
   "metadata": {},
   "outputs": [],
   "source": [
    "from sklearn.metrics import confusion_matrix, accuracy_score, precision_score, recall_score, f1_score\n",
    "import seaborn as sns\n",
    "\n",
    "def get_clf_eval(y_test, pred):\n",
    "    confusion = confusion_matrix(y_test, pred)\n",
    "    accuracy = accuracy_score(y_test, pred)\n",
    "    precision = precision_score(y_test, pred)\n",
    "    recall = recall_score(y_test, pred)\n",
    "    f1 = f1_score(y_test, pred)\n",
    "    \n",
    "    print('오차 행렬')\n",
    "    print(confusion)\n",
    "    \n",
    "    # 혼동 행렬 시각화\n",
    "    plt.figure(figsize=(8, 6))\n",
    "    sns.heatmap(confusion, annot=True, fmt='d', cmap='RdYlGn')\n",
    "    plt.title('Confusion Matrix')\n",
    "    plt.xlabel('Predicted')\n",
    "    plt.ylabel('Actual')\n",
    "    plt.show()\n",
    "    \n",
    "    # 확률로 표시하고 싶다면 아래 코드를 사용하세요\n",
    "    # sns.heatmap(confusion / np.sum(confusion), annot=True, fmt='.2%', cmap='Blues')\n",
    "    \n",
    "    print('정확도: {0:.4f}, 정밀도: {1:.4f}, 재현율: {2:.4f}, F1:{3:.4f}'.format(accuracy, precision, recall, f1))"
   ]
  },
  {
   "cell_type": "markdown",
   "metadata": {},
   "source": [
    "# optimize logistic regression"
   ]
  },
  {
   "cell_type": "code",
   "execution_count": null,
   "metadata": {},
   "outputs": [],
   "source": [
    "from sklearn.model_selection import RandomizedSearchCV\n",
    "from sklearn.linear_model import LogisticRegression\n",
    "from sklearn.metrics import confusion_matrix, accuracy_score, precision_score, recall_score, f1_score\n",
    "import matplotlib.pyplot as plt\n",
    "import seaborn as sns\n",
    "\n",
    "def optimize_logistic_regression(X_train, y_train, X_test, y_test, param_grid=None, n_iter=100, cv=5, random_state=42):\n",
    "    if param_grid is None:\n",
    "        param_grid = {\n",
    "            'C': [0.009, 0.01, 0.011, 0.012, 0.013, 0.014, 0.015, 0.016, 0.017, 0.018, 0.019, 0.02],\n",
    "            'penalty': ['l2'],\n",
    "            'solver': ['liblinear'],\n",
    "            'max_iter': [298, 299, 300, 301, 302, 303],\n",
    "            'class_weight': [None, 'balanced'],\n",
    "            'tol': [0.00007, 0.00008, 0.00009, 0.0001, 0.0011],\n",
    "            'fit_intercept': [True, False]\n",
    "        }\n",
    "    \n",
    "    random_search = RandomizedSearchCV(\n",
    "        LogisticRegression(random_state=random_state),\n",
    "        param_grid,\n",
    "        cv=cv,\n",
    "        scoring='accuracy',\n",
    "        n_iter=n_iter,\n",
    "        n_jobs=-1,\n",
    "        verbose=2,\n",
    "        random_state=random_state\n",
    "    )\n",
    "    \n",
    "    random_search.fit(X_train, y_train)\n",
    "    \n",
    "    print(\"최적 파라미터:\", random_search.best_params_)\n",
    "    print(\"최고 정확도:\", random_search.best_score_)\n",
    "    \n",
    "    best_model = random_search.best_estimator_\n",
    "    best_params = random_search.best_params_\n",
    "    return best_model, best_params\n",
    "\n",
    "# 사용 예시:\n",
    "# best_model, accuracy, precision, recall, f1 = optimize_logistic_regression(X_train, y_train, X_test, y_test)"
   ]
  },
  {
   "cell_type": "markdown",
   "metadata": {},
   "source": [
    "# plot correlation matrix"
   ]
  },
  {
   "cell_type": "code",
   "execution_count": null,
   "metadata": {},
   "outputs": [],
   "source": [
    "import pandas as pd\n",
    "import seaborn as sns\n",
    "import matplotlib.pyplot as plt\n",
    "\n",
    "def plot_correlation_matrix(df, figsize=(12, 8), cmap=\"coolwarm\", fmt=\".2f\"):\n",
    "    \"\"\"\n",
    "    데이터프레임의 상관관계 행렬을 계산하고 히트맵으로 시각화합니다.\n",
    "    \n",
    "    매개변수:\n",
    "    df (pandas.DataFrame): 상관관계를 계산할 데이터프레임\n",
    "    figsize (tuple): 그래프 크기 (기본값: (12, 8))\n",
    "    cmap (str): 히트맵 색상 맵 (기본값: \"coolwarm\")\n",
    "    fmt (str): 히트맵 셀 내 숫자 형식 (기본값: \".2f\")\n",
    "    \n",
    "    반환값:\n",
    "    None\n",
    "    \"\"\"\n",
    "    # 상관관계 행렬 계산\n",
    "    correlation_matrix = df.corr()\n",
    "    \n",
    "    # 상관관계 히트맵 그리기\n",
    "    plt.figure(figsize=figsize)\n",
    "    sns.heatmap(correlation_matrix, annot=True, cmap=cmap, fmt=fmt, linewidths=0.5)\n",
    "    plt.title('상관관계 행렬')\n",
    "    plt.show()\n",
    "\n",
    "# 함수 사용 예시:\n",
    "# plot_correlation_matrix(df)"
   ]
  },
  {
   "cell_type": "markdown",
   "metadata": {},
   "source": [
    "# roc curve plot"
   ]
  },
  {
   "cell_type": "code",
   "execution_count": null,
   "metadata": {},
   "outputs": [],
   "source": [
    "import seaborn as sns\n",
    "import matplotlib.pyplot as plt\n",
    "from sklearn.metrics import roc_curve, auc\n",
    "\n",
    "def roc_curve_plot(y_test, y_pred_proba):\n",
    "# 예측 확률 계산\n",
    "    y_pred_proba = best_model.predict_proba(X_test)[:, 1]\n",
    "\n",
    "    # ROC 곡선 그리기\n",
    "    fpr, tpr, thresholds = roc_curve(y_test, y_pred_proba)\n",
    "\n",
    "    print(auc(fpr, tpr))\n",
    "\n",
    "    # ROC 곡선 시각화\n",
    "    plt.figure(figsize=(8, 6))\n",
    "\n",
    "    plt.plot(fpr, tpr, label='ROC curve')\n",
    "    plt.plot([0, 1], [0, 1], linestyle='--', color='gray')\n",
    "    plt.xlabel('False Positive Rate')\n",
    "    plt.ylabel('True Positive Rate')\n",
    "    plt.title('ROC Curve')\n",
    "    plt.legend()\n",
    "    plt.show()\n",
    "\n",
    "# "
   ]
  },
  {
   "cell_type": "markdown",
   "metadata": {},
   "source": [
    "# a"
   ]
  },
  {
   "cell_type": "code",
   "execution_count": null,
   "metadata": {},
   "outputs": [],
   "source": [
    "# import pickle\n",
    "\n",
    "# pickle.dump(best_model, open('best_model.pkl', 'wb'))\n",
    "\n",
    "# loaded_model = pickle.load(open('best_model.pkl', 'rb'))\n",
    "\n",
    "# y_pred = loaded_model.predict(X_test)\n",
    "\n",
    "# accuracy = accuracy_score(y_test, y_pred)\n",
    "# f1 = f1_score(y_test, y_pred)\n",
    "\n"
   ]
  },
  {
   "cell_type": "code",
   "execution_count": null,
   "metadata": {},
   "outputs": [],
   "source": []
  },
  {
   "cell_type": "markdown",
   "metadata": {},
   "source": [
    "# apply randomforest"
   ]
  },
  {
   "cell_type": "code",
   "execution_count": null,
   "metadata": {},
   "outputs": [],
   "source": [
    "\n",
    "from sklearn.ensemble import RandomForestClassifier\n",
    "SEED = 42\n",
    "\n",
    "model = RandomForestClassifier(random_state=SEED)\n",
    "model.fit(X_train, y_train)\n",
    "\n",
    "y_pred = model.predict(X_test)\n",
    "\n",
    "get_clf_eval(y_test, y_pred)\n"
   ]
  },
  {
   "cell_type": "code",
   "execution_count": null,
   "metadata": {},
   "outputs": [],
   "source": [
    "\n",
    "from sklearn.model_selection import GridSearchCV, RandomizedSearchCV\n",
    "\n",
    "param_grid = {\n",
    "    'n_estimators': [100, 200, 300, 400, 500],\n",
    "    'max_depth': [None, 10, 20, 30, 40, 50],\n",
    "    'min_samples_split': [2, 5, 10],\n",
    "    'min_samples_leaf': [1, 2, 4],\n",
    "    'max_features': ['auto', 'sqrt', 'log2'],\n",
    "    'bootstrap': [True, False],\n",
    "    'class_weight': [None, 'balanced']\n",
    "}\n",
    "\n",
    "random_search = RandomizedSearchCV(RandomForestClassifier(random_state=SEED), param_grid, cv=5, scoring='accuracy', n_iter=100, n_jobs=-1, verbose=2)\n",
    "\n",
    "random_search.fit(X_train, y_train)\n",
    "\n",
    "print(\"최적 파라미터:\", random_search.best_params_)\n",
    "print(\"최고 정확도:\", random_search.best_score_)\n"
   ]
  },
  {
   "cell_type": "code",
   "execution_count": null,
   "metadata": {},
   "outputs": [],
   "source": [
    "\n",
    "best_model = random_search.best_estimator_\n",
    "\n",
    "y_pred = best_model.predict(X_test)\n",
    "\n",
    "get_clf_eval(y_test , y_pred)\n"
   ]
  },
  {
   "cell_type": "code",
   "execution_count": null,
   "metadata": {},
   "outputs": [],
   "source": [
    "print(y_pred)"
   ]
  },
  {
   "cell_type": "code",
   "execution_count": null,
   "metadata": {},
   "outputs": [],
   "source": [
    "\n",
    "import pandas as pd\n",
    "\n",
    "# 상관관계 행렬 계산\n",
    "correlation_matrix = df.corr()\n",
    "\n",
    "# 상관관계 행렬 출력\n",
    "# print(correlation_matrix)\n"
   ]
  },
  {
   "cell_type": "code",
   "execution_count": null,
   "metadata": {},
   "outputs": [],
   "source": [
    "\n",
    "import seaborn as sns\n",
    "import matplotlib.pyplot as plt\n",
    "\n",
    "# 상관관계 히트맵 그리기\n",
    "plt.figure(figsize=(12, 8))\n",
    "sns.heatmap(correlation_matrix, annot=True, cmap=\"coolwarm\", fmt=\".2f\", linewidths=0.5)\n",
    "plt.title('Correlation Matrix')\n",
    "plt.show()\n"
   ]
  },
  {
   "cell_type": "code",
   "execution_count": null,
   "metadata": {},
   "outputs": [],
   "source": [
    "\n",
    "import seaborn as sns\n",
    "import matplotlib.pyplot as plt\n",
    "from sklearn.metrics import roc_curve, auc\n",
    "\n",
    "# 예측 확률 계산\n",
    "y_pred_proba = best_model.predict_proba(X_test)[:, 1]\n",
    "\n",
    "# ROC 곡선 그리기\n",
    "fpr, tpr, thresholds = roc_curve(y_test, y_pred_proba)\n",
    "\n",
    "print(auc(fpr, tpr))\n"
   ]
  },
  {
   "cell_type": "code",
   "execution_count": null,
   "metadata": {},
   "outputs": [],
   "source": [
    "print(y_pred_proba)"
   ]
  },
  {
   "cell_type": "code",
   "execution_count": null,
   "metadata": {},
   "outputs": [],
   "source": [
    "\n",
    "# ROC 곡선 시각화\n",
    "plt.figure(figsize=(8, 6))\n",
    "\n",
    "plt.plot(fpr, tpr, label='ROC curve')\n",
    "plt.plot([0, 1], [0, 1], linestyle='--', color='gray')\n",
    "plt.xlabel('False Positive Rate')\n",
    "plt.ylabel('True Positive Rate')\n",
    "plt.title('ROC Curve')\n",
    "plt.legend()\n",
    "plt.show()\n",
    "# import pickle\n",
    "\n",
    "# pickle.dump(best_model, open('best_model.pkl', 'wb'))\n",
    "\n",
    "# loaded_model = pickle.load(open('best_model.pkl', 'rb'))\n",
    "\n",
    "# y_pred = loaded_model.predict(X_test)\n",
    "\n",
    "# accuracy = accuracy_score(y_test, y_pred)\n",
    "# f1 = f1_score(y_test, y_pred)\n",
    "\n"
   ]
  },
  {
   "cell_type": "code",
   "execution_count": null,
   "metadata": {},
   "outputs": [],
   "source": [
    "# X_test에 예측 결과 추가\n",
    "X_test['predicted_churn'] = y_pred\n",
    "X_test['churn_probability'] = y_pred_proba\n",
    "\n",
    "# 원래 y_test 값도 추가\n",
    "X_test['actual_churn'] = y_test.values\n",
    "\n",
    "# 결과 확인\n",
    "X_test.head()"
   ]
  }
 ],
 "metadata": {
  "kernelspec": {
   "display_name": "Python 3 (ipykernel)",
   "language": "python",
   "name": "python3"
  },
  "language_info": {
   "codemirror_mode": {
    "name": "ipython",
    "version": 3
   },
   "file_extension": ".py",
   "mimetype": "text/x-python",
   "name": "python",
   "nbconvert_exporter": "python",
   "pygments_lexer": "ipython3",
   "version": "3.12.4"
  }
 },
 "nbformat": 4,
 "nbformat_minor": 4
}
