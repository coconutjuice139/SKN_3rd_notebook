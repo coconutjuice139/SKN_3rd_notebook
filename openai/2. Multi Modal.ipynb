{
 "cells": [
  {
   "cell_type": "markdown",
   "metadata": {},
   "source": [
    "# import env"
   ]
  },
  {
   "cell_type": "code",
   "execution_count": 2,
   "metadata": {},
   "outputs": [
    {
     "name": "stdout",
     "output_type": "stream",
     "text": [
      "로컬 환경에서 실행 중입니다.\n",
      "Windows 환경에서 실행 중입니다.\n"
     ]
    }
   ],
   "source": [
    "import os\n",
    "from dotenv import load_dotenv\n",
    "from openai import OpenAI\n",
    "\n",
    "# dotenv 로드\n",
    "try:\n",
    "    import google.colab\n",
    "    print(\"Colab 환경에서 실행 중입니다.\")\n",
    "    PATH = '/content/drive/MyDrive/data/'\n",
    "    env_path = PATH + \"env/.env\"\n",
    "except ImportError:\n",
    "    print(\"로컬 환경에서 실행 중입니다.\")\n",
    "    import platform\n",
    "    os_name = platform.system()\n",
    "    if os_name == \"Windows\":\n",
    "        print(\"Windows 환경에서 실행 중입니다.\")\n",
    "        PATH = './'\n",
    "        env_path = PATH + \"env/.env\"\n",
    "    elif os_name == \"Linux\":\n",
    "        print(\"Linux 환경에서 실행 중입니다. (Colab일 가능성 있음)\")\n",
    "    else:\n",
    "        print(f\"운영 체제: {os_name}\")\n",
    "\n",
    "load_dotenv(dotenv_path=env_path)\n",
    "\n",
    "# getenv로 환경 변수 가져오기\n",
    "# KEY 쓸 때, 띄워쓰기 하면 안됨...\n",
    "# env에 있는 모든 워드들은 띄워쓰기하면 못 알아봄\n",
    "api_key = os.getenv('MY_OWN_KEY')\n",
    "\n",
    "if not api_key:\n",
    "    raise ValueError(\".env 파일에서 API 키를 로드하지 못했습니다.\")\n",
    "\n",
    "\n",
    "# 가져온 값을 environ에 저장\n",
    "os.environ['OPENAI_API_KEY'] = api_key\n",
    "\n",
    "client = OpenAI(\n",
    "    api_key=api_key\n",
    ")"
   ]
  },
  {
   "cell_type": "markdown",
   "metadata": {},
   "source": [
    "# Text to image"
   ]
  },
  {
   "cell_type": "code",
   "execution_count": 3,
   "metadata": {},
   "outputs": [],
   "source": [
    "text = \"밤이 된 대도시의 고층 빌딩들, 네온 불빛으로 가득한 거리와 그 위를 비추는 밝은 보름달.\""
   ]
  },
  {
   "cell_type": "code",
   "execution_count": 6,
   "metadata": {},
   "outputs": [],
   "source": [
    "completion = client.images.generate(\n",
    "    model = \"dall-e-3\", # 생성형 LLM model\n",
    "    prompt = text, # 요청내용\n",
    "    n = 1, # 생성 이미지 수\n",
    "    size = \"1024x1024\", # 이미지 크기\n",
    "    quality= \"standard\" # 생성될 이미지 품질\n",
    ")"
   ]
  },
  {
   "cell_type": "code",
   "execution_count": 7,
   "metadata": {},
   "outputs": [
    {
     "data": {
      "text/plain": [
       "ImagesResponse(created=1729145622, data=[Image(b64_json=None, revised_prompt='High-rise buildings in a bustling metropolis at night, streets filled with neon lights, and a bright full moon shining above.', url='https://oaidalleapiprodscus.blob.core.windows.net/private/org-NBOwV5AVdobuycoUYOoE7VNy/user-N6rfrvplaX8hpxMC6NWPy8mI/img-agJli9ZIh0N7y132WBSlDkcS.png?st=2024-10-17T05%3A13%3A42Z&se=2024-10-17T07%3A13%3A42Z&sp=r&sv=2024-08-04&sr=b&rscd=inline&rsct=image/png&skoid=d505667d-d6c1-4a0a-bac7-5c84a87759f8&sktid=a48cca56-e6da-484e-a814-9c849652bcb3&skt=2024-10-16T23%3A21%3A22Z&ske=2024-10-17T23%3A21%3A22Z&sks=b&skv=2024-08-04&sig=6rp6Wp84hYexsVvnNwspEif/SKgO%2BwOly3KKKqWiWN8%3D')])"
      ]
     },
     "execution_count": 7,
     "metadata": {},
     "output_type": "execute_result"
    }
   ],
   "source": [
    "completion"
   ]
  },
  {
   "cell_type": "code",
   "execution_count": 10,
   "metadata": {},
   "outputs": [],
   "source": [
    "image_url = completion.data[0].url"
   ]
  },
  {
   "cell_type": "code",
   "execution_count": 11,
   "metadata": {},
   "outputs": [
    {
     "data": {
      "text/plain": [
       "'https://oaidalleapiprodscus.blob.core.windows.net/private/org-NBOwV5AVdobuycoUYOoE7VNy/user-N6rfrvplaX8hpxMC6NWPy8mI/img-agJli9ZIh0N7y132WBSlDkcS.png?st=2024-10-17T05%3A13%3A42Z&se=2024-10-17T07%3A13%3A42Z&sp=r&sv=2024-08-04&sr=b&rscd=inline&rsct=image/png&skoid=d505667d-d6c1-4a0a-bac7-5c84a87759f8&sktid=a48cca56-e6da-484e-a814-9c849652bcb3&skt=2024-10-16T23%3A21%3A22Z&ske=2024-10-17T23%3A21%3A22Z&sks=b&skv=2024-08-04&sig=6rp6Wp84hYexsVvnNwspEif/SKgO%2BwOly3KKKqWiWN8%3D'"
      ]
     },
     "execution_count": 11,
     "metadata": {},
     "output_type": "execute_result"
    }
   ],
   "source": [
    "image_url"
   ]
  },
  {
   "cell_type": "markdown",
   "metadata": {},
   "source": [
    "# Image to text"
   ]
  },
  {
   "cell_type": "code",
   "execution_count": 15,
   "metadata": {},
   "outputs": [],
   "source": [
    "response = client.chat.completions.create(\n",
    "    model = \"gpt-4o-mini\",\n",
    "    max_tokens= 50,\n",
    "    messages = [\n",
    "        {\n",
    "            \"role\": \"user\",\n",
    "            \"content\": [\n",
    "                {\n",
    "                    \"type\": \"text\",\n",
    "                    \"text\": \"이미지를 글 50자 내로 서술\"\n",
    "                },\n",
    "                {\n",
    "                    \"type\": \"image_url\",\n",
    "                    \"image_url\": {\n",
    "                        \"url\": image_url\n",
    "                    }\n",
    "                }\n",
    "            ]\n",
    "        }\n",
    "    ]\n",
    ")"
   ]
  },
  {
   "cell_type": "code",
   "execution_count": 18,
   "metadata": {},
   "outputs": [
    {
     "data": {
      "text/plain": [
       "'화려한 도시 야경이 붉은 빛으로 물들고, 거대한 보름달이 하늘에 떠 있다. 고층 빌딩들이 반짝이며 활기찬 분위기를 자아낸다.'"
      ]
     },
     "execution_count": 18,
     "metadata": {},
     "output_type": "execute_result"
    }
   ],
   "source": [
    "response.choices[0].message.content"
   ]
  }
 ],
 "metadata": {
  "kernelspec": {
   "display_name": ".venv",
   "language": "python",
   "name": "python3"
  },
  "language_info": {
   "codemirror_mode": {
    "name": "ipython",
    "version": 3
   },
   "file_extension": ".py",
   "mimetype": "text/x-python",
   "name": "python",
   "nbconvert_exporter": "python",
   "pygments_lexer": "ipython3",
   "version": "3.12.4"
  }
 },
 "nbformat": 4,
 "nbformat_minor": 2
}
