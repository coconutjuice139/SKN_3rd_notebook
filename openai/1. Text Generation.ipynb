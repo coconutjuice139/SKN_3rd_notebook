{
 "cells": [
  {
   "cell_type": "markdown",
   "metadata": {},
   "source": [
    "# 텍스트 생성\n",
    "- 텍스트 생성은 OpenAI API의 가장 기본적이면서도 완전 강력한 기능\n",
    "- GPT-4와 같은 LLM을 사용하여 사용자 프롬프트(명령어/요청)에 기반한 텍스트 생성을 하는 기능"
   ]
  },
  {
   "cell_type": "code",
   "execution_count": null,
   "metadata": {},
   "outputs": [],
   "source": [
    "%pip install python-dotenv openai"
   ]
  },
  {
   "cell_type": "code",
   "execution_count": 3,
   "metadata": {},
   "outputs": [
    {
     "name": "stdout",
     "output_type": "stream",
     "text": [
      "로컬 환경에서 실행 중입니다.\n",
      "Windows 로컬 환경에서 실행 중입니다.\n"
     ]
    }
   ],
   "source": [
    "import os\n",
    "from dotenv import load_dotenv\n",
    "from openai import OpenAI\n",
    "\n",
    "# dotenv 로드\n",
    "try:\n",
    "    import google.colab\n",
    "    print(\"Colab 환경에서 실행 중입니다.\")\n",
    "    PATH = '/content/drive/MyDrive/data/'\n",
    "    env_path = PATH + \"env/.env\"\n",
    "except ImportError:\n",
    "    print(\"로컬 환경에서 실행 중입니다.\")\n",
    "    import platform\n",
    "    os_name = platform.system()\n",
    "    if os_name == \"Windows\":\n",
    "        print(\"Windows 환경에서 실행 중입니다.\")\n",
    "        PATH = './'\n",
    "        env_path = PATH + \"env/.env\"\n",
    "    elif os_name == \"Linux\":\n",
    "        print(\"Linux 환경에서 실행 중입니다. (Colab일 가능성 있음)\")\n",
    "    else:\n",
    "        print(f\"운영 체제: {os_name}\")\n",
    "\n",
    "load_dotenv(dotenv_path=env_path)\n",
    "\n",
    "# getenv로 환경 변수 가져오기\n",
    "# KEY 쓸 때, 띄워쓰기 하면 안됨...\n",
    "# env에 있는 모든 워드들은 띄워쓰기하면 못 알아봄\n",
    "api_key = os.getenv('MY_OWN_KEY')\n",
    "\n",
    "if not api_key:\n",
    "    raise ValueError(\".env 파일에서 API 키를 로드하지 못했습니다.\")\n",
    "\n",
    "\n",
    "# 가져온 값을 environ에 저장\n",
    "os.environ['OPENAI_API_KEY'] = api_key\n",
    "\n",
    "# OpenAI API 클라이언트 생성\n",
    "client = OpenAI()\n"
   ]
  },
  {
   "cell_type": "code",
   "execution_count": 4,
   "metadata": {},
   "outputs": [],
   "source": [
    "# OpenAI API\n",
    "# completion -> 응답\n",
    "completion = client.chat.completions.create(\n",
    "    # 요청을 처리할 LLM\n",
    "    model=\"gpt-4o-mini\",\n",
    "    # 토큰 제한\n",
    "    max_tokens = 50,\n",
    "    # 요청\n",
    "    # 아래 messages에 들어가는 모든 단어는 토큰화가 이루어짐\n",
    "    # 따라서 주석처리해도 모든 글자를 토큰화해서 사용하므로 실제 사용 시 주석을 모두 지우고 사용할 것\n",
    "    messages = [\n",
    "        {\n",
    "            \"role\": \"system\", # 보조, 어시스턴트, 쳇봇의 역할 부여\n",
    "            \"content\": \"\" # 쳇봇의 역할을 나타냄\n",
    "        },\n",
    "        {\n",
    "            \"role\": \"user\", # 요청자(사람 또는 서비스를 받는 어플리케이션)\n",
    "            \"content\": \"'AI'라는 단어로 50개의 token(단어)를 생성하세요.\" # 요청내용\n",
    "        }\n",
    "    ]\n",
    ")"
   ]
  },
  {
   "cell_type": "code",
   "execution_count": 5,
   "metadata": {},
   "outputs": [
    {
     "data": {
      "text/plain": [
       "ChatCompletion(id='chatcmpl-AJDZCbtcmV7cIqCzKW5TVcERKRgEY', choices=[Choice(finish_reason='length', index=0, logprobs=None, message=ChatCompletionMessage(content=\"물론입니다! 여기 'AI'라는 단어와 관련된 50개의 토큰(단어)입니다:\\n\\n1. 인공지능\\n2. 머신러닝\\n3. 딥러닝\\n4. 알고리즘\\n\", refusal=None, role='assistant', function_call=None, tool_calls=None))], created=1729143746, model='gpt-4o-mini-2024-07-18', object='chat.completion', service_tier=None, system_fingerprint='fp_e2bde53e6e', usage=CompletionUsage(completion_tokens=50, prompt_tokens=29, total_tokens=79, completion_tokens_details=CompletionTokensDetails(audio_tokens=None, reasoning_tokens=0), prompt_tokens_details=PromptTokensDetails(audio_tokens=None, cached_tokens=0)))"
      ]
     },
     "execution_count": 5,
     "metadata": {},
     "output_type": "execute_result"
    }
   ],
   "source": [
    "completion"
   ]
  },
  {
   "cell_type": "code",
   "execution_count": 6,
   "metadata": {},
   "outputs": [
    {
     "data": {
      "text/plain": [
       "Choice(finish_reason='length', index=0, logprobs=None, message=ChatCompletionMessage(content=\"물론입니다! 여기 'AI'라는 단어와 관련된 50개의 토큰(단어)입니다:\\n\\n1. 인공지능\\n2. 머신러닝\\n3. 딥러닝\\n4. 알고리즘\\n\", refusal=None, role='assistant', function_call=None, tool_calls=None))"
      ]
     },
     "execution_count": 6,
     "metadata": {},
     "output_type": "execute_result"
    }
   ],
   "source": [
    "completion.choices[0]"
   ]
  },
  {
   "cell_type": "code",
   "execution_count": 7,
   "metadata": {},
   "outputs": [
    {
     "data": {
      "text/plain": [
       "ChatCompletionMessage(content=\"물론입니다! 여기 'AI'라는 단어와 관련된 50개의 토큰(단어)입니다:\\n\\n1. 인공지능\\n2. 머신러닝\\n3. 딥러닝\\n4. 알고리즘\\n\", refusal=None, role='assistant', function_call=None, tool_calls=None)"
      ]
     },
     "execution_count": 7,
     "metadata": {},
     "output_type": "execute_result"
    }
   ],
   "source": [
    "completion.choices[0].message"
   ]
  },
  {
   "cell_type": "code",
   "execution_count": 8,
   "metadata": {},
   "outputs": [
    {
     "data": {
      "text/plain": [
       "\"물론입니다! 여기 'AI'라는 단어와 관련된 50개의 토큰(단어)입니다:\\n\\n1. 인공지능\\n2. 머신러닝\\n3. 딥러닝\\n4. 알고리즘\\n\""
      ]
     },
     "execution_count": 8,
     "metadata": {},
     "output_type": "execute_result"
    }
   ],
   "source": [
    "completion.choices[0].message.content"
   ]
  },
  {
   "cell_type": "code",
   "execution_count": 9,
   "metadata": {},
   "outputs": [
    {
     "name": "stdout",
     "output_type": "stream",
     "text": [
      "물론입니다! 여기 'AI'라는 단어와 관련된 50개의 토큰(단어)입니다:\n",
      "\n",
      "1. 인공지능\n",
      "2. 머신러닝\n",
      "3. 딥러닝\n",
      "4. 알고리즘\n",
      "\n"
     ]
    }
   ],
   "source": [
    "print(completion.choices[0].message.content)"
   ]
  },
  {
   "cell_type": "code",
   "execution_count": null,
   "metadata": {},
   "outputs": [],
   "source": []
  }
 ],
 "metadata": {
  "kernelspec": {
   "display_name": ".venv",
   "language": "python",
   "name": "python3"
  },
  "language_info": {
   "codemirror_mode": {
    "name": "ipython",
    "version": 3
   },
   "file_extension": ".py",
   "mimetype": "text/x-python",
   "name": "python",
   "nbconvert_exporter": "python",
   "pygments_lexer": "ipython3",
   "version": "3.12.4"
  }
 },
 "nbformat": 4,
 "nbformat_minor": 2
}
