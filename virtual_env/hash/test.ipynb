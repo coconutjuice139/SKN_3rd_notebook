{
 "cells": [
  {
   "cell_type": "code",
   "execution_count": 2,
   "metadata": {},
   "outputs": [],
   "source": [
    "from passlib.context import CryptContext\n",
    "\n",
    "# bcrypt를 위한 CryptContext 초기화\n",
    "pwd_context = CryptContext(schemes=[\"bcrypt\"], deprecated=\"auto\")"
   ]
  },
  {
   "cell_type": "code",
   "execution_count": 9,
   "metadata": {},
   "outputs": [
    {
     "name": "stdout",
     "output_type": "stream",
     "text": [
      "$2b$12$GHYDzjnl7fWYRLFQVebp/u77t2ORB/v7HLlRaHUKRy33U1V8ysbky\n"
     ]
    }
   ],
   "source": [
    "hash_pwd = pwd_context.hash(\"string\")\n",
    "print(hash_pwd)"
   ]
  },
  {
   "cell_type": "code",
   "execution_count": 11,
   "metadata": {},
   "outputs": [
    {
     "name": "stdout",
     "output_type": "stream",
     "text": [
      "비밀번호가 맞습니다!\n"
     ]
    }
   ],
   "source": [
    "input_pwd = \"string\"\n",
    "# 비밀번호 검증\n",
    "if pwd_context.verify(input_pwd, hash_pwd):\n",
    "    print(\"비밀번호가 맞습니다!\")\n",
    "else:\n",
    "    print(\"비밀번호가 틀렸습니다!\")"
   ]
  },
  {
   "cell_type": "code",
   "execution_count": 27,
   "metadata": {},
   "outputs": [
    {
     "ename": "ValueError",
     "evalue": "malformed bcrypt hash (checksum must be exactly 31 chars)",
     "output_type": "error",
     "traceback": [
      "\u001b[1;31m---------------------------------------------------------------------------\u001b[0m",
      "\u001b[1;31mValueError\u001b[0m                                Traceback (most recent call last)",
      "Cell \u001b[1;32mIn[27], line 11\u001b[0m\n\u001b[0;32m      8\u001b[0m input_password \u001b[38;5;241m=\u001b[39m \u001b[38;5;124m\"\u001b[39m\u001b[38;5;124mstring\u001b[39m\u001b[38;5;124m\"\u001b[39m  \u001b[38;5;66;03m# 사용자가 입력한 비밀번호\u001b[39;00m\n\u001b[0;32m     10\u001b[0m \u001b[38;5;66;03m# 비밀번호 검증\u001b[39;00m\n\u001b[1;32m---> 11\u001b[0m \u001b[38;5;28;01mif\u001b[39;00m \u001b[43mpwd_context\u001b[49m\u001b[38;5;241;43m.\u001b[39;49m\u001b[43mverify\u001b[49m\u001b[43m(\u001b[49m\u001b[43minput_password\u001b[49m\u001b[43m,\u001b[49m\u001b[43m \u001b[49m\u001b[43mstored_hash\u001b[49m\u001b[43m)\u001b[49m:\n\u001b[0;32m     12\u001b[0m     \u001b[38;5;28mprint\u001b[39m(\u001b[38;5;124m\"\u001b[39m\u001b[38;5;124m비밀번호가 맞습니다!\u001b[39m\u001b[38;5;124m\"\u001b[39m)\n\u001b[0;32m     13\u001b[0m \u001b[38;5;28;01melse\u001b[39;00m:\n",
      "File \u001b[1;32mc:\\dev\\virtual_env\\hash\\.venv\\Lib\\site-packages\\passlib\\context.py:2347\u001b[0m, in \u001b[0;36mCryptContext.verify\u001b[1;34m(self, secret, hash, scheme, category, **kwds)\u001b[0m\n\u001b[0;32m   2345\u001b[0m \u001b[38;5;28;01mif\u001b[39;00m strip_unused:\n\u001b[0;32m   2346\u001b[0m     strip_unused(kwds, record)\n\u001b[1;32m-> 2347\u001b[0m \u001b[38;5;28;01mreturn\u001b[39;00m \u001b[43mrecord\u001b[49m\u001b[38;5;241;43m.\u001b[39;49m\u001b[43mverify\u001b[49m\u001b[43m(\u001b[49m\u001b[43msecret\u001b[49m\u001b[43m,\u001b[49m\u001b[43m \u001b[49m\u001b[38;5;28;43mhash\u001b[39;49m\u001b[43m,\u001b[49m\u001b[43m \u001b[49m\u001b[38;5;241;43m*\u001b[39;49m\u001b[38;5;241;43m*\u001b[39;49m\u001b[43mkwds\u001b[49m\u001b[43m)\u001b[49m\n",
      "File \u001b[1;32mc:\\dev\\virtual_env\\hash\\.venv\\Lib\\site-packages\\passlib\\utils\\handlers.py:788\u001b[0m, in \u001b[0;36mGenericHandler.verify\u001b[1;34m(cls, secret, hash, **context)\u001b[0m\n\u001b[0;32m    782\u001b[0m \u001b[38;5;129m@classmethod\u001b[39m\n\u001b[0;32m    783\u001b[0m \u001b[38;5;28;01mdef\u001b[39;00m \u001b[38;5;21mverify\u001b[39m(\u001b[38;5;28mcls\u001b[39m, secret, \u001b[38;5;28mhash\u001b[39m, \u001b[38;5;241m*\u001b[39m\u001b[38;5;241m*\u001b[39mcontext):\n\u001b[0;32m    784\u001b[0m     \u001b[38;5;66;03m# NOTE: classes with multiple checksum encodings should either\u001b[39;00m\n\u001b[0;32m    785\u001b[0m     \u001b[38;5;66;03m# override this method, or ensure that from_string() / _norm_checksum()\u001b[39;00m\n\u001b[0;32m    786\u001b[0m     \u001b[38;5;66;03m# ensures .checksum always uses a single canonical representation.\u001b[39;00m\n\u001b[0;32m    787\u001b[0m     validate_secret(secret)\n\u001b[1;32m--> 788\u001b[0m     \u001b[38;5;28mself\u001b[39m \u001b[38;5;241m=\u001b[39m \u001b[38;5;28;43mcls\u001b[39;49m\u001b[38;5;241;43m.\u001b[39;49m\u001b[43mfrom_string\u001b[49m\u001b[43m(\u001b[49m\u001b[38;5;28;43mhash\u001b[39;49m\u001b[43m,\u001b[49m\u001b[43m \u001b[49m\u001b[38;5;241;43m*\u001b[39;49m\u001b[38;5;241;43m*\u001b[39;49m\u001b[43mcontext\u001b[49m\u001b[43m)\u001b[49m\n\u001b[0;32m    789\u001b[0m     chk \u001b[38;5;241m=\u001b[39m \u001b[38;5;28mself\u001b[39m\u001b[38;5;241m.\u001b[39mchecksum\n\u001b[0;32m    790\u001b[0m     \u001b[38;5;28;01mif\u001b[39;00m chk \u001b[38;5;129;01mis\u001b[39;00m \u001b[38;5;28;01mNone\u001b[39;00m:\n",
      "File \u001b[1;32mc:\\dev\\virtual_env\\hash\\.venv\\Lib\\site-packages\\passlib\\handlers\\bcrypt.py:179\u001b[0m, in \u001b[0;36m_BcryptCommon.from_string\u001b[1;34m(cls, hash)\u001b[0m\n\u001b[0;32m    177\u001b[0m     \u001b[38;5;28;01mraise\u001b[39;00m uh\u001b[38;5;241m.\u001b[39mexc\u001b[38;5;241m.\u001b[39mMalformedHashError(\u001b[38;5;28mcls\u001b[39m, \u001b[38;5;124m\"\u001b[39m\u001b[38;5;124mmalformed cost field\u001b[39m\u001b[38;5;124m\"\u001b[39m)\n\u001b[0;32m    178\u001b[0m salt, chk \u001b[38;5;241m=\u001b[39m data[:\u001b[38;5;241m22\u001b[39m], data[\u001b[38;5;241m22\u001b[39m:]\n\u001b[1;32m--> 179\u001b[0m \u001b[38;5;28;01mreturn\u001b[39;00m \u001b[38;5;28;43mcls\u001b[39;49m\u001b[43m(\u001b[49m\n\u001b[0;32m    180\u001b[0m \u001b[43m    \u001b[49m\u001b[43mrounds\u001b[49m\u001b[38;5;241;43m=\u001b[39;49m\u001b[43mrounds\u001b[49m\u001b[43m,\u001b[49m\n\u001b[0;32m    181\u001b[0m \u001b[43m    \u001b[49m\u001b[43msalt\u001b[49m\u001b[38;5;241;43m=\u001b[39;49m\u001b[43msalt\u001b[49m\u001b[43m,\u001b[49m\n\u001b[0;32m    182\u001b[0m \u001b[43m    \u001b[49m\u001b[43mchecksum\u001b[49m\u001b[38;5;241;43m=\u001b[39;49m\u001b[43mchk\u001b[49m\u001b[43m \u001b[49m\u001b[38;5;129;43;01mor\u001b[39;49;00m\u001b[43m \u001b[49m\u001b[38;5;28;43;01mNone\u001b[39;49;00m\u001b[43m,\u001b[49m\n\u001b[0;32m    183\u001b[0m \u001b[43m    \u001b[49m\u001b[43mident\u001b[49m\u001b[38;5;241;43m=\u001b[39;49m\u001b[43mident\u001b[49m\u001b[43m,\u001b[49m\n\u001b[0;32m    184\u001b[0m \u001b[43m\u001b[49m\u001b[43m)\u001b[49m\n",
      "File \u001b[1;32mc:\\dev\\virtual_env\\hash\\.venv\\Lib\\site-packages\\passlib\\utils\\handlers.py:1149\u001b[0m, in \u001b[0;36mHasManyIdents.__init__\u001b[1;34m(self, ident, **kwds)\u001b[0m\n\u001b[0;32m   1148\u001b[0m \u001b[38;5;28;01mdef\u001b[39;00m \u001b[38;5;21m__init__\u001b[39m(\u001b[38;5;28mself\u001b[39m, ident\u001b[38;5;241m=\u001b[39m\u001b[38;5;28;01mNone\u001b[39;00m, \u001b[38;5;241m*\u001b[39m\u001b[38;5;241m*\u001b[39mkwds):\n\u001b[1;32m-> 1149\u001b[0m     \u001b[38;5;28;43msuper\u001b[39;49m\u001b[43m(\u001b[49m\u001b[43mHasManyIdents\u001b[49m\u001b[43m,\u001b[49m\u001b[43m \u001b[49m\u001b[38;5;28;43mself\u001b[39;49m\u001b[43m)\u001b[49m\u001b[38;5;241;43m.\u001b[39;49m\u001b[38;5;21;43m__init__\u001b[39;49m\u001b[43m(\u001b[49m\u001b[38;5;241;43m*\u001b[39;49m\u001b[38;5;241;43m*\u001b[39;49m\u001b[43mkwds\u001b[49m\u001b[43m)\u001b[49m\n\u001b[0;32m   1151\u001b[0m     \u001b[38;5;66;03m# init ident\u001b[39;00m\n\u001b[0;32m   1152\u001b[0m     \u001b[38;5;28;01mif\u001b[39;00m ident \u001b[38;5;129;01mis\u001b[39;00m \u001b[38;5;129;01mnot\u001b[39;00m \u001b[38;5;28;01mNone\u001b[39;00m:\n",
      "File \u001b[1;32mc:\\dev\\virtual_env\\hash\\.venv\\Lib\\site-packages\\passlib\\utils\\handlers.py:1794\u001b[0m, in \u001b[0;36mHasRounds.__init__\u001b[1;34m(self, rounds, **kwds)\u001b[0m\n\u001b[0;32m   1793\u001b[0m \u001b[38;5;28;01mdef\u001b[39;00m \u001b[38;5;21m__init__\u001b[39m(\u001b[38;5;28mself\u001b[39m, rounds\u001b[38;5;241m=\u001b[39m\u001b[38;5;28;01mNone\u001b[39;00m, \u001b[38;5;241m*\u001b[39m\u001b[38;5;241m*\u001b[39mkwds):\n\u001b[1;32m-> 1794\u001b[0m     \u001b[38;5;28;43msuper\u001b[39;49m\u001b[43m(\u001b[49m\u001b[43mHasRounds\u001b[49m\u001b[43m,\u001b[49m\u001b[43m \u001b[49m\u001b[38;5;28;43mself\u001b[39;49m\u001b[43m)\u001b[49m\u001b[38;5;241;43m.\u001b[39;49m\u001b[38;5;21;43m__init__\u001b[39;49m\u001b[43m(\u001b[49m\u001b[38;5;241;43m*\u001b[39;49m\u001b[38;5;241;43m*\u001b[39;49m\u001b[43mkwds\u001b[49m\u001b[43m)\u001b[49m\n\u001b[0;32m   1795\u001b[0m     \u001b[38;5;28;01mif\u001b[39;00m rounds \u001b[38;5;129;01mis\u001b[39;00m \u001b[38;5;129;01mnot\u001b[39;00m \u001b[38;5;28;01mNone\u001b[39;00m:\n\u001b[0;32m   1796\u001b[0m         rounds \u001b[38;5;241m=\u001b[39m \u001b[38;5;28mself\u001b[39m\u001b[38;5;241m.\u001b[39m_parse_rounds(rounds)\n",
      "File \u001b[1;32mc:\\dev\\virtual_env\\hash\\.venv\\Lib\\site-packages\\passlib\\utils\\handlers.py:1409\u001b[0m, in \u001b[0;36mHasSalt.__init__\u001b[1;34m(self, salt, **kwds)\u001b[0m\n\u001b[0;32m   1408\u001b[0m \u001b[38;5;28;01mdef\u001b[39;00m \u001b[38;5;21m__init__\u001b[39m(\u001b[38;5;28mself\u001b[39m, salt\u001b[38;5;241m=\u001b[39m\u001b[38;5;28;01mNone\u001b[39;00m, \u001b[38;5;241m*\u001b[39m\u001b[38;5;241m*\u001b[39mkwds):\n\u001b[1;32m-> 1409\u001b[0m     \u001b[38;5;28;43msuper\u001b[39;49m\u001b[43m(\u001b[49m\u001b[43mHasSalt\u001b[49m\u001b[43m,\u001b[49m\u001b[43m \u001b[49m\u001b[38;5;28;43mself\u001b[39;49m\u001b[43m)\u001b[49m\u001b[38;5;241;43m.\u001b[39;49m\u001b[38;5;21;43m__init__\u001b[39;49m\u001b[43m(\u001b[49m\u001b[38;5;241;43m*\u001b[39;49m\u001b[38;5;241;43m*\u001b[39;49m\u001b[43mkwds\u001b[49m\u001b[43m)\u001b[49m\n\u001b[0;32m   1410\u001b[0m     \u001b[38;5;28;01mif\u001b[39;00m salt \u001b[38;5;129;01mis\u001b[39;00m \u001b[38;5;129;01mnot\u001b[39;00m \u001b[38;5;28;01mNone\u001b[39;00m:\n\u001b[0;32m   1411\u001b[0m         salt \u001b[38;5;241m=\u001b[39m \u001b[38;5;28mself\u001b[39m\u001b[38;5;241m.\u001b[39m_parse_salt(salt)\n",
      "File \u001b[1;32mc:\\dev\\virtual_env\\hash\\.venv\\Lib\\site-packages\\passlib\\utils\\handlers.py:624\u001b[0m, in \u001b[0;36mGenericHandler.__init__\u001b[1;34m(self, checksum, use_defaults, **kwds)\u001b[0m\n\u001b[0;32m    621\u001b[0m \u001b[38;5;28msuper\u001b[39m(GenericHandler, \u001b[38;5;28mself\u001b[39m)\u001b[38;5;241m.\u001b[39m\u001b[38;5;21m__init__\u001b[39m(\u001b[38;5;241m*\u001b[39m\u001b[38;5;241m*\u001b[39mkwds)\n\u001b[0;32m    622\u001b[0m \u001b[38;5;28;01mif\u001b[39;00m checksum \u001b[38;5;129;01mis\u001b[39;00m \u001b[38;5;129;01mnot\u001b[39;00m \u001b[38;5;28;01mNone\u001b[39;00m:\n\u001b[0;32m    623\u001b[0m     \u001b[38;5;66;03m# XXX: do we need to set .relaxed for checksum coercion?\u001b[39;00m\n\u001b[1;32m--> 624\u001b[0m     \u001b[38;5;28mself\u001b[39m\u001b[38;5;241m.\u001b[39mchecksum \u001b[38;5;241m=\u001b[39m \u001b[38;5;28;43mself\u001b[39;49m\u001b[38;5;241;43m.\u001b[39;49m\u001b[43m_norm_checksum\u001b[49m\u001b[43m(\u001b[49m\u001b[43mchecksum\u001b[49m\u001b[43m)\u001b[49m\n",
      "File \u001b[1;32mc:\\dev\\virtual_env\\hash\\.venv\\Lib\\site-packages\\passlib\\handlers\\bcrypt.py:251\u001b[0m, in \u001b[0;36m_BcryptCommon._norm_checksum\u001b[1;34m(self, checksum, relaxed)\u001b[0m\n\u001b[0;32m    250\u001b[0m \u001b[38;5;28;01mdef\u001b[39;00m \u001b[38;5;21m_norm_checksum\u001b[39m(\u001b[38;5;28mself\u001b[39m, checksum, relaxed\u001b[38;5;241m=\u001b[39m\u001b[38;5;28;01mFalse\u001b[39;00m):\n\u001b[1;32m--> 251\u001b[0m     checksum \u001b[38;5;241m=\u001b[39m \u001b[38;5;28;43msuper\u001b[39;49m\u001b[43m(\u001b[49m\u001b[43m_BcryptCommon\u001b[49m\u001b[43m,\u001b[49m\u001b[43m \u001b[49m\u001b[38;5;28;43mself\u001b[39;49m\u001b[43m)\u001b[49m\u001b[38;5;241;43m.\u001b[39;49m\u001b[43m_norm_checksum\u001b[49m\u001b[43m(\u001b[49m\u001b[43mchecksum\u001b[49m\u001b[43m,\u001b[49m\u001b[43m \u001b[49m\u001b[43mrelaxed\u001b[49m\u001b[38;5;241;43m=\u001b[39;49m\u001b[43mrelaxed\u001b[49m\u001b[43m)\u001b[49m\n\u001b[0;32m    252\u001b[0m     changed, checksum \u001b[38;5;241m=\u001b[39m bcrypt64\u001b[38;5;241m.\u001b[39mcheck_repair_unused(checksum)\n\u001b[0;32m    253\u001b[0m     \u001b[38;5;28;01mif\u001b[39;00m changed:\n",
      "File \u001b[1;32mc:\\dev\\virtual_env\\hash\\.venv\\Lib\\site-packages\\passlib\\utils\\handlers.py:654\u001b[0m, in \u001b[0;36mGenericHandler._norm_checksum\u001b[1;34m(self, checksum, relaxed)\u001b[0m\n\u001b[0;32m    652\u001b[0m cc \u001b[38;5;241m=\u001b[39m \u001b[38;5;28mself\u001b[39m\u001b[38;5;241m.\u001b[39mchecksum_size\n\u001b[0;32m    653\u001b[0m \u001b[38;5;28;01mif\u001b[39;00m cc \u001b[38;5;129;01mand\u001b[39;00m \u001b[38;5;28mlen\u001b[39m(checksum) \u001b[38;5;241m!=\u001b[39m cc:\n\u001b[1;32m--> 654\u001b[0m     \u001b[38;5;28;01mraise\u001b[39;00m exc\u001b[38;5;241m.\u001b[39mChecksumSizeError(\u001b[38;5;28mself\u001b[39m, raw\u001b[38;5;241m=\u001b[39mraw)\n\u001b[0;32m    656\u001b[0m \u001b[38;5;66;03m# check charset\u001b[39;00m\n\u001b[0;32m    657\u001b[0m \u001b[38;5;28;01mif\u001b[39;00m \u001b[38;5;129;01mnot\u001b[39;00m raw:\n",
      "\u001b[1;31mValueError\u001b[0m: malformed bcrypt hash (checksum must be exactly 31 chars)"
     ]
    }
   ],
   "source": [
    "from passlib.context import CryptContext\n",
    "\n",
    "# bcrypt를 위한 CryptContext 초기화\n",
    "pwd_context = CryptContext(schemes=[\"bcrypt\"], deprecated=\"auto\")\n",
    "\n",
    "# 데이터베이스에서 가져온 비밀번호 해시 예시\n",
    "stored_hash = \"$2b$12$uNmj03rPkaVIry0oTgzOjOXJ5aTT7pfx9pHgEWKyC2I\"  # 예시 해시\n",
    "input_password = \"string\"  # 사용자가 입력한 비밀번호\n",
    "\n",
    "# 비밀번호 검증\n",
    "if pwd_context.verify(input_password, stored_hash):\n",
    "    print(\"비밀번호가 맞습니다!\")\n",
    "else:\n",
    "    print(\"비밀번호가 틀렸습니다!\")\n"
   ]
  }
 ],
 "metadata": {
  "kernelspec": {
   "display_name": ".venv",
   "language": "python",
   "name": "python3"
  },
  "language_info": {
   "codemirror_mode": {
    "name": "ipython",
    "version": 3
   },
   "file_extension": ".py",
   "mimetype": "text/x-python",
   "name": "python",
   "nbconvert_exporter": "python",
   "pygments_lexer": "ipython3",
   "version": "3.12.4"
  }
 },
 "nbformat": 4,
 "nbformat_minor": 2
}
