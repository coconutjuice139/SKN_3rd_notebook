{
 "cells": [
  {
   "cell_type": "code",
   "execution_count": null,
   "metadata": {},
   "outputs": [],
   "source": [
    "URL = f\"{URL_BASE}/{PATH}\"\n",
    "print(URL)"
   ]
  },
  {
   "cell_type": "code",
   "execution_count": null,
   "metadata": {},
   "outputs": [],
   "source": [
    "res = requests.post(URL, headers=headers, data=json.dumps(body))\n",
    "print(res)\n",
    "res.text"
   ]
  },
  {
   "cell_type": "code",
   "execution_count": null,
   "metadata": {},
   "outputs": [],
   "source": [
    "ACCESS_TOKEN = res.json()[\"access_token\"]\n",
    "print(ACCESS_TOKEN)"
   ]
  },
  {
   "cell_type": "code",
   "execution_count": null,
   "metadata": {},
   "outputs": [],
   "source": [
    "import kis_auth_web as ka\n",
    "\n",
    "import pandas as pd\n",
    "import sys\n",
    "\n",
    "#토큰 발급 kis_auth import\n",
    "ka.auth()\n",
    "\n"
   ]
  },
  {
   "cell_type": "markdown",
   "metadata": {},
   "source": []
  },
  {
   "cell_type": "code",
   "execution_count": null,
   "metadata": {},
   "outputs": [],
   "source": [
    "#kis_domstk module 을 찾을 수 없다는 에러가 나는 경우 sys.path에 kis_domstk.py 가 있는 폴더를 추가해준다.\n",
    "import kis_auth as ka\n",
    "import kis_domstk as kb\n",
    "\n",
    "import pandas as pd\n",
    "\n",
    "import sys\n",
    "\n",
    "# 토큰 발급\n",
    "ka.auth()\n",
    "\n",
    "# [국내주식] 기본시세 > 주식현재가 시세 (종목번호 6자리)\n",
    "rt_data = kb.get_inquire_price(itm_no=\"071050\")\n",
    "print(rt_data.stck_prpr+ \" \" + rt_data.prdy_vrss)    # 현재가, 전일대비\n"
   ]
  },
  {
   "cell_type": "code",
   "execution_count": 1,
   "metadata": {},
   "outputs": [
    {
     "name": "stdout",
     "output_type": "stream",
     "text": [
      "   stck_cntg_hour stck_prpr prdy_vrss prdy_vrss_sign prdy_ctrt   askp   bidp  \\\n",
      "0          154000     73000      -200              5     -0.27  73100  73000   \n",
      "1          153016     73000      -200              5     -0.27  73100  73000   \n",
      "2          151958     73000      -200              5     -0.27  73200  73000   \n",
      "3          151947     73000      -200              5     -0.27  73200  73000   \n",
      "4          151932     73000      -200              5     -0.27  73200  73000   \n",
      "5          151932     73100      -100              5     -0.14  73100  73000   \n",
      "6          151932     73100      -100              5     -0.14  73100  73000   \n",
      "7          151930     73100      -100              5     -0.14  73100  73000   \n",
      "8          151925     73000      -200              5     -0.27  73100  73000   \n",
      "9          151915     73100      -100              5     -0.14  73100  73000   \n",
      "10         151915     73100      -100              5     -0.14  73100  73000   \n",
      "11         151908     73100      -100              5     -0.14  73100  73000   \n",
      "12         151907     73100      -100              5     -0.14  73200  73100   \n",
      "13         151903     73200         0              3      0.00  73200  73100   \n",
      "14         151859     73200         0              3      0.00  73200  73100   \n",
      "15         151853     73200         0              3      0.00  73200  73100   \n",
      "16         151851     73200         0              3      0.00  73200  73100   \n",
      "17         151828     73200         0              3      0.00  73200  73100   \n",
      "18         151818     73200         0              3      0.00  73200  73100   \n",
      "19         151816     73100      -100              5     -0.14  73200  73100   \n",
      "20         151816     73100      -100              5     -0.14  73200  73100   \n",
      "21         151812     73200         0              3      0.00  73200  73100   \n",
      "22         151801     73200         0              3      0.00  73200  73100   \n",
      "23         151800     73200         0              3      0.00  73200  73100   \n",
      "24         151800     73200         0              3      0.00  73200  73100   \n",
      "25         151757     73200         0              3      0.00  73200  73100   \n",
      "26         151756     73100      -100              5     -0.14  73200  73100   \n",
      "27         151747     73200         0              3      0.00  73200  73100   \n",
      "28         151747     73200         0              3      0.00  73200  73100   \n",
      "29         151743     73100      -100              5     -0.14  73200  73100   \n",
      "\n",
      "   tday_rltv acml_vol  cnqn  \n",
      "0      89.10   133191    70  \n",
      "1      89.10   133121  8212  \n",
      "2      89.10   124909    10  \n",
      "3      89.12   124899     4  \n",
      "4      89.12   124895     7  \n",
      "5      89.13   124888   458  \n",
      "6      88.43   124430    17  \n",
      "7      88.40   124413     2  \n",
      "8      88.40   124411     1  \n",
      "9      88.40   124410     5  \n",
      "10     88.39   124405     2  \n",
      "11     88.39   124403     3  \n",
      "12     88.38   124400  2866  \n",
      "13     92.46   121534     4  \n",
      "14     92.46   121530     1  \n",
      "15     92.45   121529    27  \n",
      "16     92.41   121502     3  \n",
      "17     92.41   121499     1  \n",
      "18     92.40   121498     3  \n",
      "19     92.40   121495     1  \n",
      "20     92.40   121494     1  \n",
      "21     92.40   121493    18  \n",
      "22     92.37   121475     1  \n",
      "23     92.37   121474     2  \n",
      "24     92.37   121472    17  \n",
      "25     92.34   121455    29  \n",
      "26     92.29   121426     1  \n",
      "27     92.30   121425    22  \n",
      "28     92.26   121403    14  \n",
      "29     92.24   121389     5  \n"
     ]
    }
   ],
   "source": [
    "#kis_domstk module 을 찾을 수 없다는 에러가 나는 경우 sys.path에 kis_domstk.py 가 있는 폴더를 추가해준다.\n",
    "import kis_auth as ka\n",
    "import kis_domstk as kb\n",
    "\n",
    "import pandas as pd\n",
    "\n",
    "import sys\n",
    "\n",
    "# 토큰 발급\n",
    "ka.auth()\n",
    "\n",
    "# [국내주식] 기본시세 > 주식현재가 당일시간대별체결 (시간대별체결내역)\n",
    "rt_data = kb.get_inquire_time_itemconclusion(output_dv='2', itm_no=\"071050\")  # 기준시각 미지정시 현재시각 이전 체결 내역이 30건 조회됨\n",
    "#rt_data = kb.get_inquire_time_itemconclusion(output_dv='2', itm_no=\"071050\", inqr_hour='100000') # 지정 기준시각 이전 체결 내역이 30건 조회됨\n",
    "print(rt_data)\n"
   ]
  },
  {
   "cell_type": "code",
   "execution_count": 1,
   "metadata": {},
   "outputs": [
    {
     "name": "stdout",
     "output_type": "stream",
     "text": [
      "0    73000 -200\n",
      "dtype: object\n"
     ]
    }
   ],
   "source": [
    "#kis_domstk module 을 찾을 수 없다는 에러가 나는 경우 sys.path에 kis_domstk.py 가 있는 폴더를 추가해준다.\n",
    "import kis_auth as ka\n",
    "import kis_domstk as kb\n",
    "\n",
    "import pandas as pd\n",
    "\n",
    "import sys\n",
    "\n",
    "# 토큰 발급\n",
    "ka.auth()\n",
    "\n",
    "# [국내주식] 기본시세 > 주식현재가 시세 (종목번호 6자리)\n",
    "rt_data = kb.get_inquire_price(itm_no=\"071050\")\n",
    "print(rt_data.stck_prpr+ \" \" + rt_data.prdy_vrss)    # 현재가, 전일대비\n"
   ]
  }
 ],
 "metadata": {
  "kernelspec": {
   "display_name": ".venv",
   "language": "python",
   "name": "python3"
  },
  "language_info": {
   "codemirror_mode": {
    "name": "ipython",
    "version": 3
   },
   "file_extension": ".py",
   "mimetype": "text/x-python",
   "name": "python",
   "nbconvert_exporter": "python",
   "pygments_lexer": "ipython3",
   "version": "3.12.4"
  }
 },
 "nbformat": 4,
 "nbformat_minor": 2
}
