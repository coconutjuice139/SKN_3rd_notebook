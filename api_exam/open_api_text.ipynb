{
 "cells": [
  {
   "cell_type": "code",
   "execution_count": null,
   "metadata": {},
   "outputs": [],
   "source": [
    "URL = f\"{URL_BASE}/{PATH}\"\n",
    "print(URL)"
   ]
  },
  {
   "cell_type": "code",
   "execution_count": null,
   "metadata": {},
   "outputs": [],
   "source": [
    "res = requests.post(URL, headers=headers, data=json.dumps(body))\n",
    "print(res)\n",
    "res.text"
   ]
  },
  {
   "cell_type": "code",
   "execution_count": null,
   "metadata": {},
   "outputs": [],
   "source": [
    "ACCESS_TOKEN = res.json()[\"access_token\"]\n",
    "print(ACCESS_TOKEN)"
   ]
  },
  {
   "cell_type": "code",
   "execution_count": null,
   "metadata": {},
   "outputs": [],
   "source": [
    "import kis_auth_web as ka\n",
    "\n",
    "import pandas as pd\n",
    "import sys\n",
    "\n",
    "#토큰 발급 kis_auth import\n",
    "ka.auth()\n",
    "\n"
   ]
  },
  {
   "cell_type": "markdown",
   "metadata": {},
   "source": []
  },
  {
   "cell_type": "code",
   "execution_count": null,
   "metadata": {},
   "outputs": [],
   "source": [
    "#kis_domstk module 을 찾을 수 없다는 에러가 나는 경우 sys.path에 kis_domstk.py 가 있는 폴더를 추가해준다.\n",
    "import kis_auth as ka\n",
    "import kis_domstk as kb\n",
    "\n",
    "import pandas as pd\n",
    "\n",
    "import sys\n",
    "\n",
    "# 토큰 발급\n",
    "ka.auth()\n",
    "\n",
    "# [국내주식] 기본시세 > 주식현재가 시세 (종목번호 6자리)\n",
    "rt_data = kb.get_inquire_price(itm_no=\"071050\")\n",
    "print(rt_data.stck_prpr+ \" \" + rt_data.prdy_vrss)    # 현재가, 전일대비\n"
   ]
  },
  {
   "cell_type": "code",
   "execution_count": null,
   "metadata": {},
   "outputs": [],
   "source": [
    "#kis_domstk module 을 찾을 수 없다는 에러가 나는 경우 sys.path에 kis_domstk.py 가 있는 폴더를 추가해준다.\n",
    "import kis_auth as ka\n",
    "import kis_domstk as kb\n",
    "\n",
    "import pandas as pd\n",
    "\n",
    "import sys\n",
    "\n",
    "# 토큰 발급\n",
    "ka.auth()\n",
    "\n",
    "# [국내주식] 기본시세 > 주식현재가 당일시간대별체결 (시간대별체결내역)\n",
    "rt_data = kb.get_inquire_time_itemconclusion(output_dv='2', itm_no=\"071050\")  # 기준시각 미지정시 현재시각 이전 체결 내역이 30건 조회됨\n",
    "#rt_data = kb.get_inquire_time_itemconclusion(output_dv='2', itm_no=\"071050\", inqr_hour='100000') # 지정 기준시각 이전 체결 내역이 30건 조회됨\n",
    "print(rt_data)\n"
   ]
  },
  {
   "cell_type": "code",
   "execution_count": null,
   "metadata": {},
   "outputs": [],
   "source": [
    "#kis_domstk module 을 찾을 수 없다는 에러가 나는 경우 sys.path에 kis_domstk.py 가 있는 폴더를 추가해준다.\n",
    "import kis_auth as ka\n",
    "import kis_domstk as kb\n",
    "\n",
    "import pandas as pd\n",
    "\n",
    "import sys\n",
    "\n",
    "# 토큰 발급\n",
    "ka.auth()\n",
    "\n",
    "# [국내주식] 기본시세 > 주식현재가 시세 (종목번호 6자리)\n",
    "rt_data = kb.get_inquire_price(itm_no=\"071050\")\n",
    "print(rt_data.stck_prpr+ \" \" + rt_data.prdy_vrss)    # 현재가, 전일대비\n"
   ]
  },
  {
   "cell_type": "code",
   "execution_count": 2,
   "metadata": {},
   "outputs": [],
   "source": [
    "import kis_auth as ka\n",
    "import kis_domstk as kb\n",
    "\n",
    "import pandas as pd\n",
    "\n",
    "import sys\n",
    "\n",
    "# 토큰 발급\n",
    "ka.auth()\n",
    "\n",
    "# [국내주식] 기본시세 > 국내주식기간별시세(일/주/월/년) (기간별 데이터 Default는 일별이며 조회기간은 100일전(영업일수 아님)부터 금일까지)\n",
    "rt_data_obj = kb.get_inquire_daily_itemchartprice(output_dv=\"2\", itm_no=\"071050\")\n",
    "rt_data_obj.to_csv(\"./course.csv\")\n"
   ]
  },
  {
   "cell_type": "code",
   "execution_count": null,
   "metadata": {},
   "outputs": [],
   "source": []
  }
 ],
 "metadata": {
  "kernelspec": {
   "display_name": ".venv",
   "language": "python",
   "name": "python3"
  },
  "language_info": {
   "codemirror_mode": {
    "name": "ipython",
    "version": 3
   },
   "file_extension": ".py",
   "mimetype": "text/x-python",
   "name": "python",
   "nbconvert_exporter": "python",
   "pygments_lexer": "ipython3",
   "version": "3.12.4"
  }
 },
 "nbformat": 4,
 "nbformat_minor": 2
}
