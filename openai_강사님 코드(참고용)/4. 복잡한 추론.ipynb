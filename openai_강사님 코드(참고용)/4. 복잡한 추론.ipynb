{
 "cells": [
  {
   "cell_type": "code",
   "execution_count": 1,
   "metadata": {},
   "outputs": [],
   "source": []
  },
  {
   "cell_type": "code",
   "execution_count": 2,
   "metadata": {},
   "outputs": [],
   "source": [
    "response = client.chat.completions.create(\n",
    "    model=\"gpt-4o-mini\", \n",
    "    messages=[\n",
    "        {\n",
    "            \"role\":\"user\", \n",
    "            \"content\":\"Solve the equation: 5x -3 = 12\"\n",
    "        }\n",
    "    ]\n",
    ")"
   ]
  },
  {
   "cell_type": "code",
   "execution_count": 3,
   "metadata": {},
   "outputs": [
    {
     "name": "stdout",
     "output_type": "stream",
     "text": [
      "To solve the equation \\( 5x - 3 = 12 \\), follow these steps:\n",
      "\n",
      "1. Add 3 to both sides of the equation:\n",
      "   \\[\n",
      "   5x - 3 + 3 = 12 + 3\n",
      "   \\]\n",
      "   This simplifies to:\n",
      "   \\[\n",
      "   5x = 15\n",
      "   \\]\n",
      "\n",
      "2. Next, divide both sides by 5:\n",
      "   \\[\n",
      "   \\frac{5x}{5} = \\frac{15}{5}\n",
      "   \\]\n",
      "   This simplifies to:\n",
      "   \\[\n",
      "   x = 3\n",
      "   \\]\n",
      "\n",
      "So, the solution is \\( x = 3 \\).\n"
     ]
    }
   ],
   "source": [
    "print(response.choices[0].message.content)"
   ]
  },
  {
   "cell_type": "markdown",
   "metadata": {},
   "source": [
    "# Json 답변받기"
   ]
  },
  {
   "cell_type": "code",
   "execution_count": 5,
   "metadata": {},
   "outputs": [],
   "source": [
    "response = client.chat.completions.create(\n",
    "    model=\"gpt-4o-mini\",\n",
    "    messages=[\n",
    "        {\n",
    "            \"role\":\"system\",\n",
    "            \"content\":\"\"\"\n",
    "                You are a helpful assistant designed to output JSON.\n",
    "                You must answer in Korean.\n",
    "            \"\"\"\n",
    "        },\n",
    "        {\n",
    "            \"role\":\"user\",\n",
    "            \"content\":\"한글을 만든 분은 누구이신가요?\"\n",
    "        }\n",
    "    ],\n",
    "    response_format={\n",
    "        \"type\":\"json_object\"\n",
    "    }\n",
    "\n",
    ")"
   ]
  },
  {
   "cell_type": "code",
   "execution_count": 6,
   "metadata": {},
   "outputs": [
    {
     "name": "stdout",
     "output_type": "stream",
     "text": [
      "{\n",
      "  \"한글을_만든_분\": \"세종대왕\",\n",
      "  \"설명\": \"한글은 15세기 세종대왕이 창제한 한국어의 문자체계입니다.\"\n",
      "}\n"
     ]
    }
   ],
   "source": [
    "print(response.choices[0].message.content)"
   ]
  },
  {
   "cell_type": "code",
   "execution_count": 7,
   "metadata": {},
   "outputs": [],
   "source": [
    "response = client.chat.completions.create(\n",
    "    model=\"gpt-4o-mini\",\n",
    "    messages=[\n",
    "        {\n",
    "            \"role\":\"system\",\n",
    "            \"content\":\"\"\"\n",
    "                You are a helpful assistant designed to output JSON.\n",
    "                You must answer in Korean.\n",
    "            \"\"\"\n",
    "        },\n",
    "        {\n",
    "            \"role\":\"user\",\n",
    "            \"content\":\"한글을 만든 분은 누구이신가요?\"\n",
    "        }\n",
    "    ],\n",
    "    response_format={\n",
    "        \"type\":\"json_object\"\n",
    "    },\n",
    "    temperature=0.5, \n",
    "    max_tokens=300\n",
    ")"
   ]
  },
  {
   "cell_type": "code",
   "execution_count": 8,
   "metadata": {},
   "outputs": [
    {
     "name": "stdout",
     "output_type": "stream",
     "text": [
      "{\n",
      "  \"한글_제작자\": \"세종대왕\",\n",
      "  \"설명\": \"세종대왕은 15세기 조선의 왕으로, 한글을 창제하여 백성들이 쉽게 읽고 쓸 수 있도록 하였습니다.\"\n",
      "}\n"
     ]
    }
   ],
   "source": [
    "print(response.choices[0].message.content)"
   ]
  },
  {
   "cell_type": "code",
   "execution_count": 9,
   "metadata": {},
   "outputs": [],
   "source": [
    "response = client.chat.completions.create(\n",
    "    model=\"gpt-4o-mini\",\n",
    "    messages=[\n",
    "        {\n",
    "            \"role\":\"system\",\n",
    "            \"content\":\"\"\"\n",
    "                You are a helpful assistant designed to output JSON.\n",
    "                You must answer in Korean.\n",
    "            \"\"\"\n",
    "        },\n",
    "        {\n",
    "            \"role\":\"user\",\n",
    "            \"content\":\"한글을 만든 분은 누구이신가요?\"\n",
    "        }\n",
    "    ],\n",
    "    response_format={\n",
    "        \"type\":\"json_object\"\n",
    "    },\n",
    "    temperature=0.5, \n",
    "    max_tokens=300,\n",
    "    n=5\n",
    ")"
   ]
  },
  {
   "cell_type": "code",
   "execution_count": 10,
   "metadata": {},
   "outputs": [
    {
     "data": {
      "text/plain": [
       "5"
      ]
     },
     "execution_count": 10,
     "metadata": {},
     "output_type": "execute_result"
    }
   ],
   "source": [
    "len(list(response.choices))"
   ]
  },
  {
   "cell_type": "code",
   "execution_count": 11,
   "metadata": {},
   "outputs": [
    {
     "name": "stdout",
     "output_type": "stream",
     "text": [
      "{\n",
      "  \"한글_제작자\": \"세종대왕\",\n",
      "  \"설명\": \"한글은 조선의 제4대 임금인 세종대왕이 1443년에 창제하고, 1446년에 반포하였습니다.\"\n",
      "}\n",
      "{\n",
      "  \"한글_제작자\": \"세종대왕\",\n",
      "  \"설명\": \"한글은 15세기 중반 세종대왕과 그의 신하들에 의해 창제되었습니다. 한글은 한국어를 표기하기 위한 문자로, 과학적이고 체계적인 구조를 가지고 있습니다.\"\n",
      "}\n",
      "{\n",
      "  \"한글_제작자\": \"세종대왕\",\n",
      "  \"설명\": \"한글은 15세기 중반에 세종대왕과 그의 신하들에 의해 창제되었습니다. 한글은 한국어를 표기하기 위해 고안된 문자로, 그 과학성과 독창성으로 세계적으로 인정받고 있습니다.\"\n",
      "}\n",
      "{\n",
      "  \"한글_제작자\": \"세종대왕\",\n",
      "  \"설명\": \"한글은 조선의 제4대 왕인 세종대왕이 1443년에 창제하고 1446년에 반포한 문자입니다.\"\n",
      "}\n",
      "{\n",
      "  \"한글_제작자\": \"세종대왕\",\n",
      "  \"설명\": \"한글은 조선의 제4대 왕인 세종대왕과 그의 신하들이 15세기 중반에 창제하였습니다. 한글은 한국어를 표기하기 위해 만들어진 문자로, 과학적이고 체계적인 구조를 가지고 있습니다.\"\n",
      "}\n"
     ]
    }
   ],
   "source": [
    "for res in response.choices:\n",
    "    print(res.message.content)"
   ]
  },
  {
   "cell_type": "code",
   "execution_count": null,
   "metadata": {},
   "outputs": [],
   "source": []
  }
 ],
 "metadata": {
  "kernelspec": {
   "display_name": ".venv",
   "language": "python",
   "name": "python3"
  },
  "language_info": {
   "codemirror_mode": {
    "name": "ipython",
    "version": 3
   },
   "file_extension": ".py",
   "mimetype": "text/x-python",
   "name": "python",
   "nbconvert_exporter": "python",
   "pygments_lexer": "ipython3",
   "version": "3.12.4"
  }
 },
 "nbformat": 4,
 "nbformat_minor": 2
}
