{
 "cells": [
  {
   "cell_type": "code",
   "execution_count": 6,
   "metadata": {},
   "outputs": [],
   "source": [
    "from selenium import webdriver\n",
    "from selenium.webdriver.common.by import By\n",
    "import time\n",
    "from datetime import datetime\n",
    "import pandas as pd\n",
    "import schedule as sd\n",
    "import os"
   ]
  },
  {
   "cell_type": "code",
   "execution_count": 8,
   "metadata": {},
   "outputs": [],
   "source": [
    "\n",
    "# 구글 드라이버를 통해 오픈 - 현대 자동차 QnA\n",
    "driver = webdriver.Chrome()\n",
    "url = \"https://finance.naver.com/item/main.naver?code=006400\" # 삼성 SDI\n",
    "driver.get(url)\n",
    "driver.implicitly_wait(5)\n",
    "# ######################################################################################################################3\n",
    "# # 저장할 빈 데이터 생성 -> 차량구매\n",
    "# data = []\n",
    "# # 스크롤 위치 조정\n",
    "# driver.execute_script(\"window.scrollTo(0, 1100)\")\n",
    "# time.sleep(1)\n",
    "# # 추출할 데이터 반복 크롤링 (동적 페이지에 적용)\n",
    "# for i in range(1, 11):\n",
    "#     try:\n",
    "#         driver.find_element(By.XPATH, '//*[@id=\"app\"]/div[3]/section/div[2]/div/div[2]/section/div/div[3]/div[1]/div[{i}]/button/div'.format(i=i)).click()\n",
    "#     except:\n",
    "#         break\n",
    "#     title = driver.find_element(By.XPATH,'//*[@id=\"app\"]/div[3]/section/div[2]/div/div[2]/section/div/div[3]/div[1]/div[{i}]/button/div'.format(i=i)).text\n",
    "#     text = driver.find_element(By.XPATH,'//*[@id=\"app\"]/div[3]/section/div[2]/div/div[2]/section/div/div[3]/div[1]/div[{i}]/div/div'.format(i=i)).text\n",
    "#     data.append({'title':title, 'text':text})\n",
    "#     pixel = 1100+i*60\n",
    "#     driver.execute_script(\"window.scrollTo(0, {pixel})\".format(pixel=pixel))\n",
    "#     time.sleep(0.2)\n",
    "\n",
    "# # 추출할 데이터 csv 저장\n",
    "# df = pd.DataFrame(data)\n",
    "# try:\n",
    "#     df.to_csv('./csvsource/hyundai/현대_차량구매_QnA.csv', index=False, encoding='utf-8-sig')\n",
    "# except:\n",
    "#     os.mkdir('csvsource')\n",
    "#     os.mkdir('csvsource/hyundai')"
   ]
  },
  {
   "cell_type": "code",
   "execution_count": 12,
   "metadata": {},
   "outputs": [],
   "source": [
    "# 스크롤 위치 조정\n",
    "driver.execute_script(\"window.scrollTo(0, 500)\")"
   ]
  },
  {
   "cell_type": "code",
   "execution_count": 13,
   "metadata": {},
   "outputs": [],
   "source": [
    "# 클릭\n",
    "driver.find_element(By.XPATH, '//*[@id=\"content\"]/ul/li[2]/a/span').click()"
   ]
  },
  {
   "cell_type": "code",
   "execution_count": 17,
   "metadata": {},
   "outputs": [],
   "source": [
    "# 스크롤 위치 조정\n",
    "driver.execute_script(\"window.scrollTo(0, 700)\")"
   ]
  },
  {
   "cell_type": "code",
   "execution_count": 24,
   "metadata": {},
   "outputs": [
    {
     "ename": "NoSuchElementException",
     "evalue": "Message: no such element: Unable to locate element: {\"method\":\"xpath\",\"selector\":\"/html/body/table[1]/tbody/tr[1]/th[1]\"}\n  (Session info: chrome=127.0.6533.73); For documentation on this error, please visit: https://www.selenium.dev/documentation/webdriver/troubleshooting/errors#no-such-element-exception\nStacktrace:\n\tGetHandleVerifier [0x00007FF6C4019632+30946]\n\t(No symbol) [0x00007FF6C3FCE3C9]\n\t(No symbol) [0x00007FF6C3EC6FDA]\n\t(No symbol) [0x00007FF6C3F1822C]\n\t(No symbol) [0x00007FF6C3F1850C]\n\t(No symbol) [0x00007FF6C3F5DCB7]\n\t(No symbol) [0x00007FF6C3F3CAAF]\n\t(No symbol) [0x00007FF6C3F5B041]\n\t(No symbol) [0x00007FF6C3F3C813]\n\t(No symbol) [0x00007FF6C3F0A6E5]\n\t(No symbol) [0x00007FF6C3F0B021]\n\tGetHandleVerifier [0x00007FF6C414F83D+1301229]\n\tGetHandleVerifier [0x00007FF6C415BDB7+1351783]\n\tGetHandleVerifier [0x00007FF6C4152A03+1313971]\n\tGetHandleVerifier [0x00007FF6C404DD06+245686]\n\t(No symbol) [0x00007FF6C3FD758F]\n\t(No symbol) [0x00007FF6C3FD3804]\n\t(No symbol) [0x00007FF6C3FD3992]\n\t(No symbol) [0x00007FF6C3FCA3EF]\n\tBaseThreadInitThunk [0x00007FFDF010257D+29]\n\tRtlUserThreadStart [0x00007FFDF228AF28+40]\n",
     "output_type": "error",
     "traceback": [
      "\u001b[1;31m---------------------------------------------------------------------------\u001b[0m",
      "\u001b[1;31mNoSuchElementException\u001b[0m                    Traceback (most recent call last)",
      "Cell \u001b[1;32mIn[24], line 3\u001b[0m\n\u001b[0;32m      1\u001b[0m \u001b[38;5;66;03m# 칼럼명\u001b[39;00m\n\u001b[0;32m      2\u001b[0m \u001b[38;5;66;03m# for i in range(1, 8):\u001b[39;00m\n\u001b[1;32m----> 3\u001b[0m title \u001b[38;5;241m=\u001b[39m \u001b[43mdriver\u001b[49m\u001b[38;5;241;43m.\u001b[39;49m\u001b[43mfind_element\u001b[49m\u001b[43m(\u001b[49m\u001b[43mBy\u001b[49m\u001b[38;5;241;43m.\u001b[39;49m\u001b[43mXPATH\u001b[49m\u001b[43m,\u001b[49m\u001b[43m  \u001b[49m\u001b[38;5;124;43m'\u001b[39;49m\u001b[38;5;124;43m/html/body/table[1]/tbody/tr[1]/th[1]\u001b[39;49m\u001b[38;5;124;43m'\u001b[39;49m\u001b[43m)\u001b[49m\u001b[38;5;241m.\u001b[39mtext\n\u001b[0;32m      4\u001b[0m \u001b[38;5;28mprint\u001b[39m(title)\n",
      "File \u001b[1;32mc:\\dev\\naver_chart\\.venv\\Lib\\site-packages\\selenium\\webdriver\\remote\\webdriver.py:748\u001b[0m, in \u001b[0;36mWebDriver.find_element\u001b[1;34m(self, by, value)\u001b[0m\n\u001b[0;32m    745\u001b[0m     by \u001b[38;5;241m=\u001b[39m By\u001b[38;5;241m.\u001b[39mCSS_SELECTOR\n\u001b[0;32m    746\u001b[0m     value \u001b[38;5;241m=\u001b[39m \u001b[38;5;124mf\u001b[39m\u001b[38;5;124m'\u001b[39m\u001b[38;5;124m[name=\u001b[39m\u001b[38;5;124m\"\u001b[39m\u001b[38;5;132;01m{\u001b[39;00mvalue\u001b[38;5;132;01m}\u001b[39;00m\u001b[38;5;124m\"\u001b[39m\u001b[38;5;124m]\u001b[39m\u001b[38;5;124m'\u001b[39m\n\u001b[1;32m--> 748\u001b[0m \u001b[38;5;28;01mreturn\u001b[39;00m \u001b[38;5;28;43mself\u001b[39;49m\u001b[38;5;241;43m.\u001b[39;49m\u001b[43mexecute\u001b[49m\u001b[43m(\u001b[49m\u001b[43mCommand\u001b[49m\u001b[38;5;241;43m.\u001b[39;49m\u001b[43mFIND_ELEMENT\u001b[49m\u001b[43m,\u001b[49m\u001b[43m \u001b[49m\u001b[43m{\u001b[49m\u001b[38;5;124;43m\"\u001b[39;49m\u001b[38;5;124;43musing\u001b[39;49m\u001b[38;5;124;43m\"\u001b[39;49m\u001b[43m:\u001b[49m\u001b[43m \u001b[49m\u001b[43mby\u001b[49m\u001b[43m,\u001b[49m\u001b[43m \u001b[49m\u001b[38;5;124;43m\"\u001b[39;49m\u001b[38;5;124;43mvalue\u001b[39;49m\u001b[38;5;124;43m\"\u001b[39;49m\u001b[43m:\u001b[49m\u001b[43m \u001b[49m\u001b[43mvalue\u001b[49m\u001b[43m}\u001b[49m\u001b[43m)\u001b[49m[\u001b[38;5;124m\"\u001b[39m\u001b[38;5;124mvalue\u001b[39m\u001b[38;5;124m\"\u001b[39m]\n",
      "File \u001b[1;32mc:\\dev\\naver_chart\\.venv\\Lib\\site-packages\\selenium\\webdriver\\remote\\webdriver.py:354\u001b[0m, in \u001b[0;36mWebDriver.execute\u001b[1;34m(self, driver_command, params)\u001b[0m\n\u001b[0;32m    352\u001b[0m response \u001b[38;5;241m=\u001b[39m \u001b[38;5;28mself\u001b[39m\u001b[38;5;241m.\u001b[39mcommand_executor\u001b[38;5;241m.\u001b[39mexecute(driver_command, params)\n\u001b[0;32m    353\u001b[0m \u001b[38;5;28;01mif\u001b[39;00m response:\n\u001b[1;32m--> 354\u001b[0m     \u001b[38;5;28;43mself\u001b[39;49m\u001b[38;5;241;43m.\u001b[39;49m\u001b[43merror_handler\u001b[49m\u001b[38;5;241;43m.\u001b[39;49m\u001b[43mcheck_response\u001b[49m\u001b[43m(\u001b[49m\u001b[43mresponse\u001b[49m\u001b[43m)\u001b[49m\n\u001b[0;32m    355\u001b[0m     response[\u001b[38;5;124m\"\u001b[39m\u001b[38;5;124mvalue\u001b[39m\u001b[38;5;124m\"\u001b[39m] \u001b[38;5;241m=\u001b[39m \u001b[38;5;28mself\u001b[39m\u001b[38;5;241m.\u001b[39m_unwrap_value(response\u001b[38;5;241m.\u001b[39mget(\u001b[38;5;124m\"\u001b[39m\u001b[38;5;124mvalue\u001b[39m\u001b[38;5;124m\"\u001b[39m, \u001b[38;5;28;01mNone\u001b[39;00m))\n\u001b[0;32m    356\u001b[0m     \u001b[38;5;28;01mreturn\u001b[39;00m response\n",
      "File \u001b[1;32mc:\\dev\\naver_chart\\.venv\\Lib\\site-packages\\selenium\\webdriver\\remote\\errorhandler.py:229\u001b[0m, in \u001b[0;36mErrorHandler.check_response\u001b[1;34m(self, response)\u001b[0m\n\u001b[0;32m    227\u001b[0m         alert_text \u001b[38;5;241m=\u001b[39m value[\u001b[38;5;124m\"\u001b[39m\u001b[38;5;124malert\u001b[39m\u001b[38;5;124m\"\u001b[39m]\u001b[38;5;241m.\u001b[39mget(\u001b[38;5;124m\"\u001b[39m\u001b[38;5;124mtext\u001b[39m\u001b[38;5;124m\"\u001b[39m)\n\u001b[0;32m    228\u001b[0m     \u001b[38;5;28;01mraise\u001b[39;00m exception_class(message, screen, stacktrace, alert_text)  \u001b[38;5;66;03m# type: ignore[call-arg]  # mypy is not smart enough here\u001b[39;00m\n\u001b[1;32m--> 229\u001b[0m \u001b[38;5;28;01mraise\u001b[39;00m exception_class(message, screen, stacktrace)\n",
      "\u001b[1;31mNoSuchElementException\u001b[0m: Message: no such element: Unable to locate element: {\"method\":\"xpath\",\"selector\":\"/html/body/table[1]/tbody/tr[1]/th[1]\"}\n  (Session info: chrome=127.0.6533.73); For documentation on this error, please visit: https://www.selenium.dev/documentation/webdriver/troubleshooting/errors#no-such-element-exception\nStacktrace:\n\tGetHandleVerifier [0x00007FF6C4019632+30946]\n\t(No symbol) [0x00007FF6C3FCE3C9]\n\t(No symbol) [0x00007FF6C3EC6FDA]\n\t(No symbol) [0x00007FF6C3F1822C]\n\t(No symbol) [0x00007FF6C3F1850C]\n\t(No symbol) [0x00007FF6C3F5DCB7]\n\t(No symbol) [0x00007FF6C3F3CAAF]\n\t(No symbol) [0x00007FF6C3F5B041]\n\t(No symbol) [0x00007FF6C3F3C813]\n\t(No symbol) [0x00007FF6C3F0A6E5]\n\t(No symbol) [0x00007FF6C3F0B021]\n\tGetHandleVerifier [0x00007FF6C414F83D+1301229]\n\tGetHandleVerifier [0x00007FF6C415BDB7+1351783]\n\tGetHandleVerifier [0x00007FF6C4152A03+1313971]\n\tGetHandleVerifier [0x00007FF6C404DD06+245686]\n\t(No symbol) [0x00007FF6C3FD758F]\n\t(No symbol) [0x00007FF6C3FD3804]\n\t(No symbol) [0x00007FF6C3FD3992]\n\t(No symbol) [0x00007FF6C3FCA3EF]\n\tBaseThreadInitThunk [0x00007FFDF010257D+29]\n\tRtlUserThreadStart [0x00007FFDF228AF28+40]\n"
     ]
    }
   ],
   "source": [
    "# 칼럼명\n",
    "# for i in range(1, 8):\n",
    "title = driver.find_element(By.XPATH,  '/html/body/table[1]/tbody/tr[1]/th[1]').text\n",
    "print(title)"
   ]
  }
 ],
 "metadata": {
  "kernelspec": {
   "display_name": ".venv",
   "language": "python",
   "name": "python3"
  },
  "language_info": {
   "codemirror_mode": {
    "name": "ipython",
    "version": 3
   },
   "file_extension": ".py",
   "mimetype": "text/x-python",
   "name": "python",
   "nbconvert_exporter": "python",
   "pygments_lexer": "ipython3",
   "version": "3.12.4"
  }
 },
 "nbformat": 4,
 "nbformat_minor": 2
}
