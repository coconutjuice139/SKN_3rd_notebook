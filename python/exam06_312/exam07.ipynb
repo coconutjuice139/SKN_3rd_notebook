{
 "cells": [
  {
   "cell_type": "code",
   "execution_count": 5,
   "metadata": {},
   "outputs": [],
   "source": [
    "#비번은 3자리 -> 임의(랜덤)\n",
    "#비번 입력 -> input\n",
    "#비번 틀리면 다시 -> 재호출(while true)\n",
    "#비번 맞으면 성공메세지 -> 위에랑 if\n",
    "\n",
    "class Password:\n",
    "    def __init__(self):\n",
    "        import random\n",
    "        pwd = int('{:3d}'.format(random.randint(0,999)))\n",
    "        print(pwd)  \n",
    "        self.num = pwd\n",
    "\n",
    "    def match(self):\n",
    "        while True:\n",
    "            try:\n",
    "                input_num = int(input('3자리 숫자 입력'))\n",
    "                if input_num == self.num:\n",
    "                    return print(\"정답입니다.\")\n",
    "                else:\n",
    "                    print(\"비밀번호가 다릅니다. 다시 입력해주세요.\")\n",
    "            except:\n",
    "                print(\"잘못된 입력입니다. 다시 시도하세요.\")"
   ]
  },
  {
   "cell_type": "code",
   "execution_count": 6,
   "metadata": {},
   "outputs": [
    {
     "name": "stdout",
     "output_type": "stream",
     "text": [
      "826\n"
     ]
    }
   ],
   "source": [
    "x = Password()"
   ]
  },
  {
   "cell_type": "code",
   "execution_count": 7,
   "metadata": {},
   "outputs": [
    {
     "name": "stdout",
     "output_type": "stream",
     "text": [
      "비밀번호가 다릅니다. 다시 입력해주세요.\n",
      "비밀번호가 다릅니다. 다시 입력해주세요.\n",
      "비밀번호가 다릅니다. 다시 입력해주세요.\n",
      "비밀번호가 다릅니다. 다시 입력해주세요.\n",
      "정답입니다.\n"
     ]
    }
   ],
   "source": [
    "x.match()"
   ]
  },
  {
   "cell_type": "code",
   "execution_count": null,
   "metadata": {},
   "outputs": [],
   "source": []
  }
 ],
 "metadata": {
  "kernelspec": {
   "display_name": ".venv",
   "language": "python",
   "name": "python3"
  },
  "language_info": {
   "codemirror_mode": {
    "name": "ipython",
    "version": 3
   },
   "file_extension": ".py",
   "mimetype": "text/x-python",
   "name": "python",
   "nbconvert_exporter": "python",
   "pygments_lexer": "ipython3",
   "version": "3.12.4"
  }
 },
 "nbformat": 4,
 "nbformat_minor": 2
}
