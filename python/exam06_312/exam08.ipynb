{
 "cells": [
  {
   "cell_type": "code",
   "execution_count": 66,
   "metadata": {},
   "outputs": [],
   "source": [
    "# 0~ 9999까지 8을 포함하고 있는가?\n",
    "\n",
    "#1. 숫자에 8있는지 확인\n",
    "#  ㄴ있다 = count 안함\n",
    "#  ㄴ없다 = count 함\n",
    "\n",
    "\n",
    "class Count8:\n",
    "    def __init__(self, p_end:int, p_start:int = 0) -> None:\n",
    "        self.start = p_start\n",
    "        self.end = p_end\n",
    "        self.count8 = 0\n",
    "        if type(self.end) != int:\n",
    "            return print(\"입력은 숫자만 해주세요\")\n",
    "        elif self.end <= 0:\n",
    "            return print(\"0 이상의 번호를 입력하세요\")\n",
    "    \n",
    "        \n",
    "\n",
    "    def count(self) -> int:\n",
    "        try:\n",
    "            assert self.end > 0\n",
    "            lst_str = [str(i) for i in range(self.start, self.end)]\n",
    "            count8 = 0\n",
    "            for i in lst_str:\n",
    "                if '8' in i:\n",
    "                    count8 += 1\n",
    "            self.count8=count8\n",
    "        except AssertionError as e:\n",
    "            print(\"양수의 숫자로 입력해주세요\")\n",
    "        except:\n",
    "            print(\"잘못된 입력입니다. 입력 변수를 확인해주세요\")\n",
    "            \n",
    "    def answer(self) -> None:\n",
    "        try:\n",
    "            ans = self.end - self.count8\n",
    "            if int(ans) > 0:\n",
    "                print(f\"8을 포함하지 않는 수는 {ans}개 입니다.\")\n",
    "        except:\n",
    "            print(\"입력 변수를 확인하세요\")\n",
    "\n"
   ]
  },
  {
   "cell_type": "code",
   "execution_count": 67,
   "metadata": {},
   "outputs": [],
   "source": [
    "x = Count8(9999)"
   ]
  },
  {
   "cell_type": "code",
   "execution_count": 68,
   "metadata": {},
   "outputs": [
    {
     "name": "stdout",
     "output_type": "stream",
     "text": [
      "8을 포함하지 않는 수는 6560개 입니다.\n"
     ]
    }
   ],
   "source": [
    "x.count()\n",
    "x.answer()"
   ]
  },
  {
   "cell_type": "code",
   "execution_count": 69,
   "metadata": {},
   "outputs": [
    {
     "name": "stdout",
     "output_type": "stream",
     "text": [
      "0 이상의 번호를 입력하세요\n"
     ]
    }
   ],
   "source": [
    "a = Count8(-5)"
   ]
  },
  {
   "cell_type": "code",
   "execution_count": 70,
   "metadata": {},
   "outputs": [
    {
     "name": "stdout",
     "output_type": "stream",
     "text": [
      "양수의 숫자로 입력해주세요\n"
     ]
    }
   ],
   "source": [
    "a.count()\n",
    "a.answer()"
   ]
  },
  {
   "cell_type": "code",
   "execution_count": 71,
   "metadata": {},
   "outputs": [
    {
     "name": "stdout",
     "output_type": "stream",
     "text": [
      "입력은 숫자만 해주세요\n"
     ]
    }
   ],
   "source": [
    "b=Count8('d')\n"
   ]
  },
  {
   "cell_type": "code",
   "execution_count": 72,
   "metadata": {},
   "outputs": [
    {
     "name": "stdout",
     "output_type": "stream",
     "text": [
      "잘못된 입력입니다. 입력 변수를 확인해주세요\n",
      "입력 변수를 확인하세요\n"
     ]
    }
   ],
   "source": [
    "b.count()\n",
    "b.answer()"
   ]
  },
  {
   "cell_type": "code",
   "execution_count": null,
   "metadata": {},
   "outputs": [],
   "source": []
  }
 ],
 "metadata": {
  "kernelspec": {
   "display_name": ".venv",
   "language": "python",
   "name": "python3"
  },
  "language_info": {
   "codemirror_mode": {
    "name": "ipython",
    "version": 3
   },
   "file_extension": ".py",
   "mimetype": "text/x-python",
   "name": "python",
   "nbconvert_exporter": "python",
   "pygments_lexer": "ipython3",
   "version": "3.12.4"
  }
 },
 "nbformat": 4,
 "nbformat_minor": 2
}
