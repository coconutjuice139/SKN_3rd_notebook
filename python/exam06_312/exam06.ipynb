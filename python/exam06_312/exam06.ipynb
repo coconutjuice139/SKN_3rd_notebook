{
 "cells": [
  {
   "cell_type": "code",
   "execution_count": 87,
   "metadata": {},
   "outputs": [],
   "source": [
    "class Prime:\n",
    "    def __init__(self, num:int) -> None:\n",
    "        self.num = num\n",
    "        if type(self.num) != int:\n",
    "            return print(\"잘못된 값입니다. 숫자를 입력하세요\")\n",
    "            \n",
    "        if self.num < 2:\n",
    "            print(\"2 이상의 숫자를 입력하세요\")\n",
    "\n",
    "    def calc(self) -> int:\n",
    "        for i in range(2, self.num):\n",
    "            if self.num % i != 0:\n",
    "                return print('해당 숫자는 소수입니다.')\n",
    "            else:\n",
    "                return print('해당 숫자는 합성수입니다.')\n",
    "        \n"
   ]
  },
  {
   "cell_type": "code",
   "execution_count": 88,
   "metadata": {},
   "outputs": [
    {
     "name": "stdout",
     "output_type": "stream",
     "text": [
      "잘못된 값입니다. 숫자를 입력하세요\n"
     ]
    }
   ],
   "source": [
    "test = Prime('d')\n",
    "# test.calc()"
   ]
  },
  {
   "cell_type": "code",
   "execution_count": 80,
   "metadata": {},
   "outputs": [
    {
     "name": "stdout",
     "output_type": "stream",
     "text": [
      "해당 숫자는 소수입니다.\n"
     ]
    }
   ],
   "source": [
    "test = Prime(5)\n",
    "test.calc()"
   ]
  },
  {
   "cell_type": "code",
   "execution_count": 77,
   "metadata": {},
   "outputs": [
    {
     "name": "stdout",
     "output_type": "stream",
     "text": [
      "2 이상의 숫자를 입력하세요\n"
     ]
    }
   ],
   "source": [
    "test = Prime(1)\n",
    "test.check()"
   ]
  },
  {
   "cell_type": "code",
   "execution_count": null,
   "metadata": {},
   "outputs": [],
   "source": []
  }
 ],
 "metadata": {
  "kernelspec": {
   "display_name": ".venv",
   "language": "python",
   "name": "python3"
  },
  "language_info": {
   "codemirror_mode": {
    "name": "ipython",
    "version": 3
   },
   "file_extension": ".py",
   "mimetype": "text/x-python",
   "name": "python",
   "nbconvert_exporter": "python",
   "pygments_lexer": "ipython3",
   "version": "3.12.4"
  }
 },
 "nbformat": 4,
 "nbformat_minor": 2
}
