{
 "cells": [
  {
   "cell_type": "code",
   "execution_count": 50,
   "metadata": {},
   "outputs": [],
   "source": [
    "## 부모 클래스 = 사람\n",
    "##  ㄴ 변수: 체력, 마나, \n",
    "##  ㄴ 기능: 걷기, 점프, 휴식(체력 += 10) (마나 있다면, += 10)\n",
    "\n",
    "## 자식 클래스 = 기사\n",
    "##  ㄴ 변수: 힘\n",
    "##  ㄴ 기능: 공격(힘의 크기) (체력 = 체력 - 힘), 방어(\"방어 성공\" if random.randint(1,10) < 5 else \"방어 실패\" (체력 - 공격력/2))\n",
    "\n",
    "## 자식 클래스 = 마법사\n",
    "##  ㄴ 변수: 지식\n",
    "##  ㄴ 기능: 공격(지식의 크기) (마나 = (마나 - 지식)*2), 방어(\"방어 성공\" if random.randint(1,10) < 5 else \"방어 실패\" (체력 - 공격력))\n",
    "\n",
    "\n",
    "class Person:\n",
    "    def __init__(self, hp, mp = 0):\n",
    "        self.hp = hp\n",
    "        self.mp = mp\n",
    "\n",
    "    def wolk(self):\n",
    "        print(\"캐릭터가 걷습니다.\")\n",
    "\n",
    "    def jump(self):\n",
    "        print(\"캐릭터가 점프합니다.\")\n",
    "\n",
    "    def rest(self):\n",
    "        self.hp += 10\n",
    "        print(\"체력를 10 회복합니다.\")\n",
    "        if self.mp > 0:\n",
    "            self.mp += 10\n",
    "            print(\"마나를 10 회복합니다.\")\n",
    "        print(f\"현재 체력: {self.hp}\")\n",
    "        print(f\"현재 마나: {self.mp}\") if self.mp > 0 else None\n",
    "\n",
    "\n",
    "class Knight(Person):\n",
    "    def __init__(self, hp, power):\n",
    "        super().__init__(hp)\n",
    "        self.power = power\n",
    "\n",
    "    def attack(self):\n",
    "        print(f'상대에게 {self.power}만큼 데미지를 입혔다.')\n",
    "        self.hp = self.hp - self.power\n",
    "        print(f'공격을 한 반동으로 {self.power}의 데미지를 입었다. \\n현재 체력: {self.hp}')\n",
    "\n",
    "    def depend(self):\n",
    "        import random\n",
    "\n",
    "        if random.randint(1,10) > 5:\n",
    "            print(\"방어 성공\")\n",
    "        else:\n",
    "            print(\"방어 실패\")\n",
    "            self.hp = self.hp - self.power/2\n",
    "            print(f\"현재 체력: {self.hp}\")\n",
    "\n",
    "\n",
    "class Magition(Person):\n",
    "    def __init__(self, hp, mp, knowledge):\n",
    "        super().__init__(hp, mp)\n",
    "        self.knowledge = knowledge\n",
    "\n",
    "    def attack(self):\n",
    "        print(f'상대에게 {self.knowledge}만큼 데미지를 입혔다.')\n",
    "        self.mp = (self.mp - self.knowledge)*2\n",
    "        print(f'공격을 하여 마나가 {self.mp}로 줄었다.')\n",
    "\n",
    "    def depend(self):\n",
    "        import random\n",
    "\n",
    "        if random.randint(1,10) > 5:\n",
    "            print(\"방어 성공\")\n",
    "        else:\n",
    "            print(\"방어 실패\")\n",
    "            self.hp = self.hp - self.knowledge\n",
    "            print(f\"현재 체력: {self.hp}\")\n",
    "    "
   ]
  },
  {
   "cell_type": "code",
   "execution_count": 51,
   "metadata": {},
   "outputs": [],
   "source": [
    "humen1 = Knight(500, 30)"
   ]
  },
  {
   "cell_type": "code",
   "execution_count": 52,
   "metadata": {},
   "outputs": [
    {
     "name": "stdout",
     "output_type": "stream",
     "text": [
      "상대에게 3만큼 데미지를 입혔다.\n",
      "공격을 한 반동으로 3의 데미지를 입었다. \n",
      "현재 체력: 497\n"
     ]
    }
   ],
   "source": [
    "humen1.attack()"
   ]
  },
  {
   "cell_type": "code",
   "execution_count": 53,
   "metadata": {},
   "outputs": [
    {
     "name": "stdout",
     "output_type": "stream",
     "text": [
      "방어 성공\n"
     ]
    }
   ],
   "source": [
    "humen1.depend()"
   ]
  },
  {
   "cell_type": "code",
   "execution_count": 54,
   "metadata": {},
   "outputs": [],
   "source": [
    "humen2 = Magition(500, 50, 4)"
   ]
  },
  {
   "cell_type": "code",
   "execution_count": 55,
   "metadata": {},
   "outputs": [
    {
     "name": "stdout",
     "output_type": "stream",
     "text": [
      "상대에게 4만큼 데미지를 입혔다.\n",
      "공격을 하여 마나가 92로 줄었다.\n"
     ]
    }
   ],
   "source": [
    "humen2.attack()"
   ]
  },
  {
   "cell_type": "code",
   "execution_count": 56,
   "metadata": {},
   "outputs": [
    {
     "name": "stdout",
     "output_type": "stream",
     "text": [
      "방어 실패\n",
      "현재 체력: 496\n"
     ]
    }
   ],
   "source": [
    "humen2.depend()"
   ]
  },
  {
   "cell_type": "code",
   "execution_count": 57,
   "metadata": {},
   "outputs": [
    {
     "name": "stdout",
     "output_type": "stream",
     "text": [
      "체력를 10 회복합니다.\n",
      "마나를 10 회복합니다.\n",
      "현재 체력: 506\n",
      "현재 마나: 102\n"
     ]
    }
   ],
   "source": [
    "humen2.rest()"
   ]
  },
  {
   "cell_type": "code",
   "execution_count": 58,
   "metadata": {},
   "outputs": [
    {
     "name": "stdout",
     "output_type": "stream",
     "text": [
      "체력를 10 회복합니다.\n",
      "현재 체력: 507\n"
     ]
    }
   ],
   "source": [
    "humen1.rest()"
   ]
  },
  {
   "cell_type": "code",
   "execution_count": 62,
   "metadata": {},
   "outputs": [
    {
     "data": {
      "text/plain": [
       "True"
      ]
     },
     "execution_count": 62,
     "metadata": {},
     "output_type": "execute_result"
    }
   ],
   "source": [
    "type(humen2) == Magition"
   ]
  },
  {
   "cell_type": "code",
   "execution_count": 69,
   "metadata": {},
   "outputs": [],
   "source": [
    "class Fight():\n",
    "    def __init__(self, p_humen1, p_humen2):\n",
    "        self.humen1 = p_humen1\n",
    "        self.humen2 = p_humen2\n",
    "\n",
    "    def action(self):\n",
    "        print(\"humen1의 차례\")\n",
    "        act = input(\"공격 = a, 방어 = b\")\n",
    "        if act == \"a\":\n",
    "            print(f'humen1의 공격')\n",
    "            humen1.attack()\n",
    "            if type(humen1) == Knight:\n",
    "                humen2.hp = humen2.hp - humen1.power\n",
    "                print(f\"humen1의 공격으로 humen2의 체력이 {humen2.hp}로 줄었다.\")\n",
    "            elif type(humen1) == Magition:\n",
    "                humen2.hp = humen2.hp - humen1.knowledge\n",
    "                print(f\"humen1의 공격으로 humen2의 체력이 {humen2.hp}로 줄었다.\")\n",
    "        "
   ]
  },
  {
   "cell_type": "code",
   "execution_count": 70,
   "metadata": {},
   "outputs": [],
   "source": [
    "test = Fight(humen1, humen2)"
   ]
  },
  {
   "cell_type": "code",
   "execution_count": 71,
   "metadata": {},
   "outputs": [
    {
     "name": "stdout",
     "output_type": "stream",
     "text": [
      "humen1의 차례\n",
      "<__main__.Knight object at 0x0000021CFBBD17F0>의 공격\n",
      "상대에게 3만큼 데미지를 입혔다.\n",
      "공격을 한 반동으로 3의 데미지를 입었다. \n",
      "현재 체력: 501\n",
      "<__main__.Knight object at 0x0000021CFBBD17F0>의 공격으로 <__main__.Magition object at 0x0000021CFBA12FF0>의 체력이 500로 줄었다.\n"
     ]
    }
   ],
   "source": [
    "test.action()"
   ]
  },
  {
   "cell_type": "code",
   "execution_count": null,
   "metadata": {},
   "outputs": [],
   "source": []
  }
 ],
 "metadata": {
  "kernelspec": {
   "display_name": ".venv",
   "language": "python",
   "name": "python3"
  },
  "language_info": {
   "codemirror_mode": {
    "name": "ipython",
    "version": 3
   },
   "file_extension": ".py",
   "mimetype": "text/x-python",
   "name": "python",
   "nbconvert_exporter": "python",
   "pygments_lexer": "ipython3",
   "version": "3.12.4"
  }
 },
 "nbformat": 4,
 "nbformat_minor": 2
}
