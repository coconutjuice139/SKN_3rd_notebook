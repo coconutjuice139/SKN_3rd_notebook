{
 "cells": [
  {
   "cell_type": "code",
   "execution_count": 8,
   "metadata": {},
   "outputs": [],
   "source": [
    "class MyDataSet:\n",
    "    def __init__(self, data:list, )->None: # 클래스를 객체화\n",
    "        self.data = data\n",
    "\n",
    "    def __call__(self, name:str) -> int: # 인스턴스화한 클래스 객체를 함수처럼 return을 생성\n",
    "        print(f'이름은 {name}입니다. 파이썬^^')\n",
    "        return len(self.data)\n",
    "    \n",
    "    def __getitem__(self, index:int) -> int: # 인스턴스화한 클래스 객체의 기능\n",
    "        print(f'No pain, No gain')\n",
    "        return self.data[index]"
   ]
  },
  {
   "cell_type": "code",
   "execution_count": 15,
   "metadata": {},
   "outputs": [],
   "source": [
    "lst = list(range(50))\n",
    "a = MyDataSet(lst) # 인스턴스화"
   ]
  },
  {
   "cell_type": "code",
   "execution_count": 18,
   "metadata": {},
   "outputs": [
    {
     "name": "stdout",
     "output_type": "stream",
     "text": [
      "이름은 dd입니다. 파이썬^^\n",
      "50\n"
     ]
    }
   ],
   "source": [
    "x = a(\"dd\")\n",
    "print(x)\n",
    "# (input)x -> MyDataSet(\"dd\")\n",
    "# x = __call__(\"dd\")\n",
    "# x = len(self.data)\n",
    "# x = len(list(range(50)))\n",
    "# x = 50"
   ]
  },
  {
   "cell_type": "code",
   "execution_count": null,
   "metadata": {},
   "outputs": [],
   "source": []
  },
  {
   "cell_type": "code",
   "execution_count": 12,
   "metadata": {},
   "outputs": [
    {
     "name": "stdout",
     "output_type": "stream",
     "text": [
      "No pain, No gain\n",
      "No pain, No gain\n",
      "[0, 1, 2, 3, 4, 5, 6, 7, 8, 9]\n"
     ]
    }
   ],
   "source": [
    "a[:10] # print\n",
    "\n",
    "x = a[:10] # print // return -> x\n",
    "print(x) #return\n",
    "\n",
    "# data = list(range(50)) = [0, 1, ..., 49, 50]\n",
    "# x(input) = __getitem__(index = [:10])\n",
    "# x = self.data[:10] //슬라이싱\n",
    "# x = [0, 1, ..., 49, 50][:10]\n",
    "# x = [0, 1, 2, 3, 4, 5, 6, 7, 8, 9]"
   ]
  },
  {
   "cell_type": "code",
   "execution_count": 19,
   "metadata": {},
   "outputs": [],
   "source": [
    "!mkdir common"
   ]
  },
  {
   "cell_type": "code",
   "execution_count": null,
   "metadata": {},
   "outputs": [],
   "source": []
  }
 ],
 "metadata": {
  "kernelspec": {
   "display_name": ".venv",
   "language": "python",
   "name": "python3"
  },
  "language_info": {
   "codemirror_mode": {
    "name": "ipython",
    "version": 3
   },
   "file_extension": ".py",
   "mimetype": "text/x-python",
   "name": "python",
   "nbconvert_exporter": "python",
   "pygments_lexer": "ipython3",
   "version": "3.12.4"
  }
 },
 "nbformat": 4,
 "nbformat_minor": 2
}
