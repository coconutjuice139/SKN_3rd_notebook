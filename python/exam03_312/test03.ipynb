{
 "cells": [
  {
   "cell_type": "code",
   "execution_count": 1,
   "metadata": {},
   "outputs": [
    {
     "name": "stdout",
     "output_type": "stream",
     "text": [
      "Down\n",
      "Down\n",
      "Up\n",
      "Up\n",
      "Up\n",
      "Up\n",
      "Up\n",
      "Up\n",
      "Up\n",
      "Down\n",
      "Correct!!\n"
     ]
    }
   ],
   "source": [
    "# up&down 숫자 맞추기\n",
    "\n",
    "import random\n",
    "\n",
    "PC = int(random.random()*100)\n",
    "\n",
    "answer = int(input(\"1~100 중 고르세요\"))\n",
    "\n",
    "assert 0<answer<=100, \"범위에서 벗어난 값입니다.\"\n",
    "\n",
    "for i in range(100):\n",
    "    if answer > PC:\n",
    "        print(\"Down\")\n",
    "        answer = int(input(\"1~100 중 고르세요\"))\n",
    "    elif answer < PC:\n",
    "        print(\"Up\")\n",
    "        answer = int(input(\"1~100 중 고르세요\"))\n",
    "    elif answer == PC:\n",
    "        print(\"Correct!!\")\n",
    "        break"
   ]
  },
  {
   "cell_type": "code",
   "execution_count": 3,
   "metadata": {},
   "outputs": [
    {
     "name": "stdout",
     "output_type": "stream",
     "text": [
      "50 Down\n",
      "30 Up\n",
      "40 Up\n",
      "40 Up\n",
      "50 Down\n",
      "49 Down\n",
      "48 Down\n",
      "47 Down\n",
      "46 Down\n",
      "45 Down\n",
      "53 Down\n",
      "43 Up\n",
      "44 Correct!!\n"
     ]
    }
   ],
   "source": [
    "# up&down 숫자 맞추기\n",
    "\n",
    "import random\n",
    "\n",
    "PC = int(random.random()*100)\n",
    "\n",
    "answer = int(input(\"1~100 중 고르세요\"))\n",
    "\n",
    "assert 0<answer<=100, \"범위에서 벗어난 값입니다.\"\n",
    "\n",
    "for i in range(100):\n",
    "    if answer > PC:\n",
    "        print(answer, \"Down\")\n",
    "        answer = int(input(\"1~100 중 고르세요\"))\n",
    "    elif answer < PC:\n",
    "        print(answer, \"Up\")\n",
    "        answer = int(input(\"1~100 중 고르세요\"))\n",
    "    elif answer == PC:\n",
    "        print(answer, \"Correct!!\")\n",
    "        break"
   ]
  },
  {
   "cell_type": "code",
   "execution_count": 4,
   "metadata": {},
   "outputs": [
    {
     "name": "stdout",
     "output_type": "stream",
     "text": [
      "3초 후 게임이 시작됩니다.\n",
      "2초 후 게임이 시작됩니다.\n",
      "1초 후 게임이 시작됩니다.\n",
      "빠라라삐라비라~\n",
      "쿵짝짝~ 짝짜라짝짝\n",
      "따라란 궁짝\n",
      "로봇이 숫자를 지정했습니다. 10회안에 맞추세요\n",
      "<< 1회차 >>\n",
      "이거 좀만 내리면 될 거 같은데\n",
      "<< 2회차 >>\n",
      "조금 더 올려보세요\n",
      "<< 3회차 >>\n",
      "저 믿고 5만 올려보세요\n",
      "<< 4회차 >>\n",
      "이거 좀만 내리면 될 거 같은데\n",
      "<< 5회차 >>\n",
      "조금 더 올려보세요\n",
      "<< 6회차 >>\n",
      "정답입니다~~\n",
      "게임 종료.\n"
     ]
    }
   ],
   "source": [
    "import random\n",
    "import time\n",
    "\n",
    "# 1~100까지의 랜덤값 생성\n",
    "randint = random.randint(1, 100)\n",
    "input_number = 0\n",
    "\n",
    "for i in range(3, 0, -1):\n",
    "    print(f\"{i}초 후 게임이 시작됩니다.\")\n",
    "    time.sleep(1)\n",
    "\n",
    "print(\"빠라라삐라비라~\")\n",
    "time.sleep(1)\n",
    "print(\"쿵짝짝~ 짝짜라짝짝\")\n",
    "time.sleep(1)\n",
    "print(\"따라란 궁짝\")\n",
    "time.sleep(1)\n",
    "print(\"로봇이 숫자를 지정했습니다. 10회안에 맞추세요\")\n",
    "# 랜덤값과 입력값이 같을 때까지 반복\n",
    "for i in range(1, 11):\n",
    "    print(f\"<< {i}회차 >>\")\n",
    "    try:\n",
    "        input_number = input(\"숫자를 입력하세요: \")\n",
    "        assert input_number.isnumeric() == True and 1 <= int(input_number) <= 100\n",
    "        input_number = int(input_number)\n",
    "    except:\n",
    "        print(\"1~100 사이의 숫자를 입력하시라고요.\")\n",
    "        continue\n",
    "    else:\n",
    "        # 입력값이 랜덤값보다 작으면 up\n",
    "        if input_number < randint:\n",
    "            switchControl1 = random.randint(1, 3)\n",
    "            switch = {\n",
    "                1: \"조금 더 올려보세요\",\n",
    "                2: \"팍팍 좀 올려보세요\",\n",
    "                3: \"저 믿고 5만 올려보세요\",\n",
    "            }\n",
    "            print(switch[switchControl1])\n",
    "        # 입력값이 랜덤값보다 크면 down\n",
    "        elif input_number > randint:\n",
    "            switchControl2 = random.randint(1, 3)\n",
    "            switch = {\n",
    "                1: \"이거 좀만 내리면 될 거 같은데\",\n",
    "                2: \"조금 내려보실래요?\",\n",
    "                3: \"이거 좀 내려야 할 듯?\",\n",
    "            }\n",
    "            print(switch[switchControl2])\n",
    "        else:\n",
    "            print(\"정답입니다~~\")\n",
    "            break\n",
    "print(\"게임 종료.\")"
   ]
  }
 ],
 "metadata": {
  "kernelspec": {
   "display_name": ".venv",
   "language": "python",
   "name": "python3"
  },
  "language_info": {
   "codemirror_mode": {
    "name": "ipython",
    "version": 3
   },
   "file_extension": ".py",
   "mimetype": "text/x-python",
   "name": "python",
   "nbconvert_exporter": "python",
   "pygments_lexer": "ipython3",
   "version": "3.12.4"
  }
 },
 "nbformat": 4,
 "nbformat_minor": 2
}
