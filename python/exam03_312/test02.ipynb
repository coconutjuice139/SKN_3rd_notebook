{
 "cells": [
  {
   "cell_type": "code",
   "execution_count": 18,
   "metadata": {},
   "outputs": [
    {
     "name": "stdout",
     "output_type": "stream",
     "text": [
      "입력한 숫자는 합성수입니다.\n"
     ]
    }
   ],
   "source": [
    "value = input()\n",
    "try:\n",
    "    int_v = int(value)\n",
    "except:\n",
    "    print(\"Math Error\")\n",
    "    quit()\n",
    "\n",
    "if int_v > 0:\n",
    "    pass\n",
    "elif int_v == 0:\n",
    "    print(\"입력한 수는 0으로 자연수가 아닙니다.\")\n",
    "elif int_v <0:\n",
    "    print(\"입력한 수는 음수로 소수도 자연수도 아닙니다.\")\n",
    "\n",
    "type_num = []\n",
    "int_type_num = []\n",
    "\n",
    "sqrt_v = int_v**0.5\n",
    "int_sqrt_v = int(sqrt_v)\n",
    "\n",
    "for i in range(2, int_sqrt_v+1):\n",
    "    type_num.append(int_v/i)\n",
    "    int_type_num.append(int(int_v/i))\n",
    "\n",
    "judge = [bool(type_num[j] == int_type_num[j]) for j in range(len(type_num))]\n",
    "\n",
    "if True in judge:\n",
    "    print(\"입력한 숫자는 합성수입니다.\")\n",
    "else:\n",
    "    print(\"입력한 숫자는 소수입니다.\")"
   ]
  },
  {
   "cell_type": "code",
   "execution_count": 17,
   "metadata": {},
   "outputs": [
    {
     "name": "stdout",
     "output_type": "stream",
     "text": [
      "math error\n"
     ]
    }
   ],
   "source": [
    "try:\n",
    "    answer = input()\n",
    "    answer = int(answer)\n",
    "    assert answer >= 2\n",
    "\n",
    "    for i in range(2, answer):\n",
    "        if answer%i == 0:\n",
    "            print(\"합성수입니다.\")\n",
    "            break\n",
    "    else:\n",
    "        print(\"소수입니다.\")\n",
    "\n",
    "except:\n",
    "    print(\"math error\")"
   ]
  },
  {
   "cell_type": "code",
   "execution_count": 25,
   "metadata": {},
   "outputs": [
    {
     "name": "stdout",
     "output_type": "stream",
     "text": [
      "소수가 아닙니다.\n"
     ]
    }
   ],
   "source": [
    "# 음수, 0 에서 math에러 대신 다른 에러 문구로 대체하기(assert 수정하기)\n",
    "\n",
    "try:\n",
    "    answer = input()\n",
    "    answer = int(answer)\n",
    "    assert answer >= 2, \"소수가 아닙니다.\"\n",
    "\n",
    "    for i in range(2, answer):\n",
    "        if answer%i == 0:\n",
    "            print(\"합성수입니다.\")\n",
    "            break\n",
    "    else:\n",
    "        print(\"소수입니다.\")\n",
    "\n",
    "except AssertionError as e: # 내가 의도한 것 이외의 것은 모두 에러로 퉁쳐버리기\n",
    "    print(e)\n",
    "    \n",
    "except:\n",
    "    print(\"math error\")"
   ]
  },
  {
   "cell_type": "code",
   "execution_count": null,
   "metadata": {},
   "outputs": [],
   "source": []
  }
 ],
 "metadata": {
  "kernelspec": {
   "display_name": ".venv",
   "language": "python",
   "name": "python3"
  },
  "language_info": {
   "codemirror_mode": {
    "name": "ipython",
    "version": 3
   },
   "file_extension": ".py",
   "mimetype": "text/x-python",
   "name": "python",
   "nbconvert_exporter": "python",
   "pygments_lexer": "ipython3",
   "version": "3.12.4"
  }
 },
 "nbformat": 4,
 "nbformat_minor": 2
}
