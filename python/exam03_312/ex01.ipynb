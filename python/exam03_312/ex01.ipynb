{
 "cells": [
  {
   "cell_type": "code",
   "execution_count": 1,
   "metadata": {},
   "outputs": [
    {
     "name": "stdout",
     "output_type": "stream",
     "text": [
      "bbbbb\n"
     ]
    }
   ],
   "source": [
    "a = 5 # a변수를 선언하고 데이터를 5로 넣었다\n",
    "# type(a) -> int\n",
    "\n",
    "# if문 조건 값이 True/False 나누는 분기\n",
    "if a > 5:\n",
    "    print(\"aaaaa\")\n",
    "else:\n",
    "    print(\"bbbbb\")"
   ]
  },
  {
   "cell_type": "code",
   "execution_count": 2,
   "metadata": {},
   "outputs": [
    {
     "name": "stdout",
     "output_type": "stream",
     "text": [
      "5는 3보다 크다\n"
     ]
    }
   ],
   "source": [
    "if a > 3:\n",
    "    print(f\"{a}는 3보다 크다\")"
   ]
  },
  {
   "cell_type": "code",
   "execution_count": 3,
   "metadata": {},
   "outputs": [],
   "source": [
    "if not a > 3: # not True -> False\n",
    "    print(f\"{a}는 3보다 크다\")"
   ]
  },
  {
   "cell_type": "code",
   "execution_count": 5,
   "metadata": {},
   "outputs": [
    {
     "name": "stdout",
     "output_type": "stream",
     "text": [
      "굿잡\n"
     ]
    }
   ],
   "source": [
    "if not a > 3:\n",
    "    print(f'{a}는 3보다 크다')\n",
    "else:\n",
    "    print(\"굿잡\")"
   ]
  },
  {
   "cell_type": "code",
   "execution_count": 6,
   "metadata": {},
   "outputs": [
    {
     "name": "stdout",
     "output_type": "stream",
     "text": [
      "2\n"
     ]
    }
   ],
   "source": [
    "if []: # False\n",
    "    print(1)\n",
    "elif(1, ): # True\n",
    "    print(2)\n",
    "else: # 앞의 조건이 모두 False일 때\n",
    "    print(3)\n",
    "\n",
    "# 2 출력됨"
   ]
  },
  {
   "cell_type": "code",
   "execution_count": 7,
   "metadata": {},
   "outputs": [
    {
     "name": "stdout",
     "output_type": "stream",
     "text": [
      "2\n",
      "2\n"
     ]
    }
   ],
   "source": [
    "a = 5\n",
    "if a < 3 :\n",
    "    print(1)\n",
    "else:\n",
    "    print(2)\n",
    "\n",
    "print(1 if a < 3 else 2) # <if의 참> if 문 <if의 거짓>"
   ]
  },
  {
   "cell_type": "code",
   "execution_count": 13,
   "metadata": {},
   "outputs": [
    {
     "name": "stdout",
     "output_type": "stream",
     "text": [
      "1\n"
     ]
    },
    {
     "data": {
      "text/plain": [
       "1"
      ]
     },
     "execution_count": 13,
     "metadata": {},
     "output_type": "execute_result"
    }
   ],
   "source": [
    "a=1\n",
    "\n",
    "if a < 3:\n",
    "    if a < 2:\n",
    "        print(1)\n",
    "    else:\n",
    "        print(2)\n",
    "else:\n",
    "    print(3)\n",
    "\n",
    "1 if a < 2 else 2 if a < 3 else 3"
   ]
  },
  {
   "cell_type": "code",
   "execution_count": 15,
   "metadata": {},
   "outputs": [
    {
     "data": {
      "text/plain": [
       "[1, 4, 9, 12, 15]"
      ]
     },
     "execution_count": 15,
     "metadata": {},
     "output_type": "execute_result"
    }
   ],
   "source": [
    "lst = []\n",
    "\n",
    "for i in [1, 2, 3, 4, 5]:\n",
    "    if i < 3:\n",
    "        if i < 2:\n",
    "            lst.append(i)\n",
    "        else:\n",
    "            lst.append(i*2)\n",
    "    else:\n",
    "        lst.append(i*3)\n",
    "\n",
    "lst # [1, 4, 9, 12, 15]"
   ]
  },
  {
   "cell_type": "code",
   "execution_count": null,
   "metadata": {},
   "outputs": [],
   "source": [
    "# if의 조건문에서 범위를 결정할 때, 집합으로 지정하여 명제를 짜면 범위가 겹쳐서 실행되지 않는 if문의 생성을 막을 수 있다."
   ]
  },
  {
   "cell_type": "code",
   "execution_count": 27,
   "metadata": {},
   "outputs": [
    {
     "data": {
      "text/plain": [
       "(True, True, False)"
      ]
     },
     "execution_count": 27,
     "metadata": {},
     "output_type": "execute_result"
    }
   ],
   "source": [
    "True or True, True or False, False or False, "
   ]
  },
  {
   "cell_type": "code",
   "execution_count": 28,
   "metadata": {},
   "outputs": [
    {
     "data": {
      "text/plain": [
       "(True, False, False)"
      ]
     },
     "execution_count": 28,
     "metadata": {},
     "output_type": "execute_result"
    }
   ],
   "source": [
    "True and True, True and False, False and False"
   ]
  },
  {
   "cell_type": "code",
   "execution_count": 29,
   "metadata": {},
   "outputs": [
    {
     "data": {
      "text/plain": [
       "True"
      ]
     },
     "execution_count": 29,
     "metadata": {},
     "output_type": "execute_result"
    }
   ],
   "source": [
    "# and, or은 앞에서부터 읽어온다.\n",
    "\n",
    "True or False and True"
   ]
  },
  {
   "cell_type": "code",
   "execution_count": 30,
   "metadata": {},
   "outputs": [
    {
     "data": {
      "text/plain": [
       "False"
      ]
     },
     "execution_count": 30,
     "metadata": {},
     "output_type": "execute_result"
    }
   ],
   "source": [
    "False or True and False"
   ]
  },
  {
   "cell_type": "code",
   "execution_count": 31,
   "metadata": {},
   "outputs": [
    {
     "data": {
      "text/plain": [
       "False"
      ]
     },
     "execution_count": 31,
     "metadata": {},
     "output_type": "execute_result"
    }
   ],
   "source": [
    "bool(' ' and 0)"
   ]
  },
  {
   "cell_type": "code",
   "execution_count": 32,
   "metadata": {},
   "outputs": [
    {
     "data": {
      "text/plain": [
       "False"
      ]
     },
     "execution_count": 32,
     "metadata": {},
     "output_type": "execute_result"
    }
   ],
   "source": [
    "bool([] and '' and {})"
   ]
  },
  {
   "cell_type": "code",
   "execution_count": 35,
   "metadata": {},
   "outputs": [],
   "source": [
    "if (' 'and 0 ) or ([] and '' and {}):\n",
    "    print(1)"
   ]
  },
  {
   "cell_type": "code",
   "execution_count": 33,
   "metadata": {},
   "outputs": [
    {
     "data": {
      "text/plain": [
       "True"
      ]
     },
     "execution_count": 33,
     "metadata": {},
     "output_type": "execute_result"
    }
   ],
   "source": [
    "bool(' ')"
   ]
  },
  {
   "cell_type": "code",
   "execution_count": 34,
   "metadata": {},
   "outputs": [
    {
     "data": {
      "text/plain": [
       "False"
      ]
     },
     "execution_count": 34,
     "metadata": {},
     "output_type": "execute_result"
    }
   ],
   "source": [
    "True and False"
   ]
  },
  {
   "cell_type": "code",
   "execution_count": 37,
   "metadata": {},
   "outputs": [
    {
     "name": "stdout",
     "output_type": "stream",
     "text": [
      "1\n",
      "2\n",
      "3\n",
      "4\n",
      "5\n"
     ]
    }
   ],
   "source": [
    "x = range(1, 11)\n",
    "\n",
    "for i in x:\n",
    "    print(i)\n",
    "    if i == 5:\n",
    "        break"
   ]
  },
  {
   "cell_type": "code",
   "execution_count": 40,
   "metadata": {},
   "outputs": [
    {
     "name": "stdout",
     "output_type": "stream",
     "text": [
      "1\n",
      "1\n",
      "1\n"
     ]
    }
   ],
   "source": [
    "# for - else\n",
    "for i in [1, 2, 3,4, 5]:\n",
    "    if i > 3:\n",
    "        break\n",
    "    print(1)\n",
    "    \n",
    "else:\n",
    "    print(2) #for문 다 완료되면 실행되지만 break로 정지되었을 땐 실행 안됨"
   ]
  },
  {
   "cell_type": "code",
   "execution_count": 41,
   "metadata": {},
   "outputs": [
    {
     "name": "stdout",
     "output_type": "stream",
     "text": [
      "1\n",
      "1\n",
      "1\n",
      "1\n",
      "1\n",
      "2\n"
     ]
    }
   ],
   "source": [
    "# for - else\n",
    "for i in [1, 2, 3,4, 5]:\n",
    "    if i > 5:\n",
    "        break\n",
    "    print(1)\n",
    "    \n",
    "else:\n",
    "    print(2) #for문 다 완료되면 실행되지만 break로 정지되었을 땐 실행 안됨"
   ]
  },
  {
   "cell_type": "code",
   "execution_count": 42,
   "metadata": {},
   "outputs": [
    {
     "name": "stdout",
     "output_type": "stream",
     "text": [
      "1\n",
      "1\n",
      "1\n",
      "2\n"
     ]
    }
   ],
   "source": [
    "# for - else\n",
    "for i in [1, 2, 3, 4, 5]:\n",
    "    if i > 3:\n",
    "        continue\n",
    "    print(1)\n",
    "    \n",
    "else:\n",
    "    print(2) #for문 다 완료되면 실행되지만 break로 정지되었을 땐 실행 안됨"
   ]
  },
  {
   "cell_type": "code",
   "execution_count": 43,
   "metadata": {},
   "outputs": [
    {
     "name": "stdout",
     "output_type": "stream",
     "text": [
      "1\n",
      "1\n",
      "1\n",
      "1\n",
      "1\n",
      "2\n"
     ]
    }
   ],
   "source": [
    "# for - else\n",
    "for i in [1, 2, 3, 4, 5]:\n",
    "    if i > 3:\n",
    "        pass\n",
    "    print(1)\n",
    "    \n",
    "else:\n",
    "    print(2) #for문 다 완료되면 실행되지만 break로 정지되었을 땐 실행 안됨"
   ]
  },
  {
   "cell_type": "code",
   "execution_count": 45,
   "metadata": {},
   "outputs": [
    {
     "name": "stdout",
     "output_type": "stream",
     "text": [
      "홀수: 1\n",
      "짝수: 4\n",
      "홀수: 9\n",
      "짝수: 12\n",
      "홀수: 15\n",
      "for문 완료\n"
     ]
    }
   ],
   "source": [
    "for i in lst:\n",
    "  if i % 2 == 0: # 짝수만...\n",
    "    print(f'짝수: {i}')\n",
    "  else:\n",
    "    print(f'홀수: {i}')\n",
    "else:\n",
    "  print(f'for문 완료')"
   ]
  },
  {
   "cell_type": "code",
   "execution_count": null,
   "metadata": {},
   "outputs": [
    {
     "name": "stdout",
     "output_type": "stream",
     "text": [
      "입력한 숫자는 1입니다.\n"
     ]
    },
    {
     "ename": "TypeError",
     "evalue": "unsupported operand type(s) for ** or pow(): 'str' and 'float'",
     "output_type": "error",
     "traceback": [
      "\u001b[1;31m---------------------------------------------------------------------------\u001b[0m",
      "\u001b[1;31mTypeError\u001b[0m                                 Traceback (most recent call last)",
      "Cell \u001b[1;32mIn[1], line 14\u001b[0m\n\u001b[0;32m     11\u001b[0m     \u001b[38;5;28mprint\u001b[39m(\u001b[38;5;124m\"\u001b[39m\u001b[38;5;124mMath Error\u001b[39m\u001b[38;5;124m\"\u001b[39m)\n\u001b[0;32m     13\u001b[0m \u001b[38;5;28;01melse\u001b[39;00m:\n\u001b[1;32m---> 14\u001b[0m     sqrt_v \u001b[38;5;241m=\u001b[39m \u001b[43mvalue\u001b[49m\u001b[38;5;241;43m*\u001b[39;49m\u001b[38;5;241;43m*\u001b[39;49m\u001b[38;5;241;43m0.5\u001b[39;49m\n\u001b[0;32m     15\u001b[0m     int_sqrt_v \u001b[38;5;241m=\u001b[39m \u001b[38;5;28mint\u001b[39m(sqrt_v)\n\u001b[0;32m     17\u001b[0m     \u001b[38;5;28;01mfor\u001b[39;00m i \u001b[38;5;129;01min\u001b[39;00m \u001b[38;5;28mrange\u001b[39m(\u001b[38;5;241m2\u001b[39m, int_sqrt_v\u001b[38;5;241m+\u001b[39m\u001b[38;5;241m1\u001b[39m):\n",
      "\u001b[1;31mTypeError\u001b[0m: unsupported operand type(s) for ** or pow(): 'str' and 'float'"
     ]
    },
    {
     "ename": "",
     "evalue": "",
     "output_type": "error",
     "traceback": [
      "\u001b[1;31mThe Kernel crashed while executing code in the current cell or a previous cell. \n",
      "\u001b[1;31mPlease review the code in the cell(s) to identify a possible cause of the failure. \n",
      "\u001b[1;31mClick <a href='https://aka.ms/vscodeJupyterKernelCrash'>here</a> for more info. \n",
      "\u001b[1;31mView Jupyter <a href='command:jupyter.viewOutput'>log</a> for further details."
     ]
    }
   ],
   "source": [
    "\n",
    "try:\n",
    "    value = int(input())\n",
    "\n",
    "except:\n",
    "    print(\"Math Error\")\n",
    "\n",
    "else:\n",
    "    sqrt_v = value**0.5\n",
    "    int_sqrt_v = int(sqrt_v)\n",
    "\n",
    "    for i in range(2, int_sqrt_v+1):\n",
    "        type_num = value/i\n",
    "        int_type_num = int(value/i)\n",
    "        if type_num == int_type_num:\n",
    "            print(\"입력한 숫자는 합성수입니다.\")\n",
    "        else:\n",
    "            print(\"입력한 숫자는 소수입니다.\")\n",
    "        \n",
    "\n",
    "\n",
    "    # if int in type_num:\n",
    "        # print(\"입력한 숫자는 합성수입니다.\")\n",
    "    # elif value == 1:\n",
    "        # print(\"입력한 숫자는 자연수입니다.\")\n",
    "    # else:\n",
    "        # print(\"입력한 숫자는 소수입니다.\")"
   ]
  }
 ],
 "metadata": {
  "kernelspec": {
   "display_name": ".venv",
   "language": "python",
   "name": "python3"
  },
  "language_info": {
   "codemirror_mode": {
    "name": "ipython",
    "version": 3
   },
   "file_extension": ".py",
   "mimetype": "text/x-python",
   "name": "python",
   "nbconvert_exporter": "python",
   "pygments_lexer": "ipython3",
   "version": "3.12.4"
  }
 },
 "nbformat": 4,
 "nbformat_minor": 2
}
