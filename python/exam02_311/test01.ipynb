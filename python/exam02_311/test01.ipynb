{
 "cells": [
  {
   "cell_type": "code",
   "execution_count": 2,
   "metadata": {},
   "outputs": [
    {
     "name": "stdout",
     "output_type": "stream",
     "text": [
      "array1 array 형태: (3,)\n",
      "array2 array 형태: (2, 3)\n",
      "array3 array 형태: (1, 3)\n"
     ]
    }
   ],
   "source": [
    "import numpy as np\n",
    "\n",
    "list1 = [1,2,3]\n",
    "array1 = np.array(list1) \n",
    "array2 = np.array([[1,2,3],\n",
    "                   [2,3,4],])\n",
    "array3 = np.array([[1,2,3]])\n",
    "\n",
    "print(\"array1 array 형태:\", array1.shape) #(3, )\n",
    "print(\"array2 array 형태:\", array2.shape) #(2, 3)\n",
    "print(\"array3 array 형태:\", array3.shape) #(1, 2)"
   ]
  },
  {
   "cell_type": "code",
   "execution_count": 25,
   "metadata": {},
   "outputs": [
    {
     "name": "stdout",
     "output_type": "stream",
     "text": [
      "[1 2 3]\n",
      "[1. 2. 3.]\n",
      "[1. 2. 3.]\n"
     ]
    }
   ],
   "source": [
    "array_int = np.array([1,2,3])\n",
    "array_float = array_int.astype('float64')\n",
    "array_float2 = array_int.astype(np.float64) #메모리 할당 변화\n",
    "print(array_int)\n",
    "print(array_float)\n",
    "print(array_float2)"
   ]
  },
  {
   "cell_type": "code",
   "execution_count": 24,
   "metadata": {},
   "outputs": [
    {
     "name": "stdout",
     "output_type": "stream",
     "text": [
      "[0 1 2 3 4 5 6 7 8 9]\n",
      "[[0 1 2 3 4]\n",
      " [5 6 7 8 9]]\n",
      "[[0 1]\n",
      " [2 3]\n",
      " [4 5]\n",
      " [6 7]\n",
      " [8 9]]\n"
     ]
    }
   ],
   "source": [
    "array1 = np.arange(10)\n",
    "print(array1)\n",
    "\n",
    "#(2, 5) shape로 변경\n",
    "array2 = array1.reshape(2, 5)\n",
    "print(array2)\n",
    "\n",
    "#(5, 2) shae로 변경\n",
    "array3 = array1.reshape(5, -1) # 위에서 array1의 데이터 갯수는 10개로 지정되었고 이를 reshape하는 것이므로 데이터 갯수는 같아야함\n",
    "                               # 따라서 앞에 5를 넣고 뒤에 -1을 집어넣어도 -1 대신에 데이터 갯수를 맞추기 위한 2가 자동으로 들어간다.\n",
    "print(array3)\n"
   ]
  },
  {
   "cell_type": "code",
   "execution_count": 10,
   "metadata": {},
   "outputs": [
    {
     "data": {
      "text/plain": [
       "array([1, 2, 3, 4, 5, 6, 7, 8])"
      ]
     },
     "execution_count": 10,
     "metadata": {},
     "output_type": "execute_result"
    }
   ],
   "source": [
    "array = np.arange(start=1, stop=10)\n",
    "array[1:3] #인덱스 1부터 3이전 데이터 처리\n",
    "array[3:] #인덱스 3부터 모든 데이터 처리\n",
    "array[:2] #인덱스 2 이전까지 데이터 처리\n",
    "array[:] #모든 데이터 처리\n",
    "array[:-1] #마지막 데이터 제외"
   ]
  },
  {
   "cell_type": "code",
   "execution_count": 12,
   "metadata": {},
   "outputs": [
    {
     "name": "stdout",
     "output_type": "stream",
     "text": [
      "[2 5 8]\n",
      "[6 7 8 9]\n"
     ]
    }
   ],
   "source": [
    "array = np.arange(start=1, stop = 10)\n",
    "print(array[[1, 4, 7]]) #팬시 인덱싱 = 리스트로 인덱스를 주어 원하는 인덱스를 가져올 수 있다.\n",
    "print(array[array > 5]) #boolean 인덱싱 = 해당 조건을 만족하는 값만 가져온다."
   ]
  },
  {
   "cell_type": "code",
   "execution_count": 23,
   "metadata": {},
   "outputs": [
    {
     "name": "stdout",
     "output_type": "stream",
     "text": [
      "[78 84 88 95 98]\n",
      "[98 95 88 84 78]\n",
      "[0 2 4 1 3] \n",
      "\n",
      "[[7 8 9]\n",
      " [4 5 6]\n",
      " [1 2 3]]\n",
      "[[1 2 3]\n",
      " [4 5 6]\n",
      " [7 8 9]]\n"
     ]
    }
   ],
   "source": [
    "# 정렬\n",
    "\n",
    "array1d = np.array([78, 95, 84, 98, 88])\n",
    "sort_array1_asc = np.sort(array1d) # 오름차순 정렬\n",
    "sort_array1_desc = np.sort(array1d)[::-1] #내림차순 정렬 -> 뒤에 슬라이싱의 -1텀을 이용하여서 정렬\n",
    "sort_array1d_index = np.argsort(array1d) #argsort = 데이터를 정렬했을 때, 인덱스를 리턴\n",
    "\n",
    "print(sort_array1_asc)\n",
    "print(sort_array1_desc)\n",
    "print(sort_array1d_index,\"\\n\")\n",
    "\n",
    "array2d = np.array([[7, 8, 9], [4, 5, 6], [1, 2, 3]])\n",
    "sort_array2d_axis0 = np.sort(array2d, axis=0) # 2차원 정렬, 축방향 = 0 -> 행을 기준으로 index = 0이 제일 위에 깔리게 array[행][렬], array[y][x]\n",
    "\n",
    "print(array2d)\n",
    "print(sort_array2d_axis0)"
   ]
  },
  {
   "cell_type": "code",
   "execution_count": 17,
   "metadata": {},
   "outputs": [
    {
     "name": "stdout",
     "output_type": "stream",
     "text": [
      "10\n",
      "[[1. 1.]\n",
      " [1. 1.]\n",
      " [1. 1.]]\n",
      "[[0 0]\n",
      " [0 0]\n",
      " [0 0]]\n"
     ]
    }
   ],
   "source": [
    "# 데이터 생성\n",
    "\n",
    "print(np.array(10)) # 특정 범위의 데이터를 포함한 ndarray를 생성하는 방법\n",
    "print(np.ones((3,2))) # 모든 값이 1인 nparray를 만들어 준다. axis 값을 받아 원하는 shape의 데이터를 생성\n",
    "print(np.zeros((3,2), dtype='int32')) # 모든 값이 0인 값을 만들어 준다."
   ]
  },
  {
   "cell_type": "code",
   "execution_count": 16,
   "metadata": {},
   "outputs": [
    {
     "name": "stdout",
     "output_type": "stream",
     "text": [
      "[[ 58  64]\n",
      " [139 154]]\n"
     ]
    }
   ],
   "source": [
    "# 행렬 내적\n",
    "\n",
    "A = np.array([[1,2,3],[4,5,6]])\n",
    "B = np.array([[7,8],[9,10],[11,12]])\n",
    "\n",
    "dot_product = np.dot(A, B)\n",
    "print(dot_product)"
   ]
  },
  {
   "cell_type": "code",
   "execution_count": 28,
   "metadata": {},
   "outputs": [
    {
     "name": "stdout",
     "output_type": "stream",
     "text": [
      "[[1 3]\n",
      " [2 4]]\n"
     ]
    }
   ],
   "source": [
    "# 전치행렬 -> A(i, j)를 A(j, i)로 변경한 행렬\n",
    "\n",
    "A = np.array([[1,2],[3,4]])\n",
    "transpose_mat = np.transpose(A)\n",
    "print(transpose_mat)"
   ]
  },
  {
   "cell_type": "code",
   "execution_count": null,
   "metadata": {},
   "outputs": [],
   "source": []
  }
 ],
 "metadata": {
  "kernelspec": {
   "display_name": ".venv",
   "language": "python",
   "name": "python3"
  },
  "language_info": {
   "codemirror_mode": {
    "name": "ipython",
    "version": 3
   },
   "file_extension": ".py",
   "mimetype": "text/x-python",
   "name": "python",
   "nbconvert_exporter": "python",
   "pygments_lexer": "ipython3",
   "version": "3.11.9"
  }
 },
 "nbformat": 4,
 "nbformat_minor": 2
}
