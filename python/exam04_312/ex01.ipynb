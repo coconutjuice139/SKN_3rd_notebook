{
 "cells": [
  {
   "cell_type": "code",
   "execution_count": 1,
   "metadata": {},
   "outputs": [
    {
     "data": {
      "text/plain": [
       "8"
      ]
     },
     "execution_count": 1,
     "metadata": {},
     "output_type": "execute_result"
    }
   ],
   "source": [
    "# 입력, 출력변수 있음\n",
    "\n",
    "a = 3 \n",
    "b = 5\n",
    "\n",
    "def add(p_a, p_b):\n",
    "    return p_a + p_b\n",
    "\n",
    "result = add(a, b)\n",
    "result"
   ]
  },
  {
   "cell_type": "code",
   "execution_count": 6,
   "metadata": {},
   "outputs": [
    {
     "data": {
      "text/plain": [
       "[8, 15]"
      ]
     },
     "execution_count": 6,
     "metadata": {},
     "output_type": "execute_result"
    }
   ],
   "source": [
    "# 입력, 출력변수 있음\n",
    "\n",
    "a = 3 \n",
    "b = 5\n",
    "\n",
    "def add(p_a, p_b):\n",
    "    return [p_a + p_b, p_a * p_b]\n",
    "\n",
    "result = add(a, b)\n",
    "result"
   ]
  },
  {
   "cell_type": "code",
   "execution_count": 7,
   "metadata": {},
   "outputs": [
    {
     "data": {
      "text/plain": [
       "list"
      ]
     },
     "execution_count": 7,
     "metadata": {},
     "output_type": "execute_result"
    }
   ],
   "source": [
    "type(result)"
   ]
  },
  {
   "cell_type": "code",
   "execution_count": 31,
   "metadata": {},
   "outputs": [
    {
     "name": "stdout",
     "output_type": "stream",
     "text": [
      "1 이상의 자연수를 입력하세요.\n"
     ]
    }
   ],
   "source": [
    "def prime(num):\n",
    "    if num <= 1:\n",
    "        print(\"1 이상의 자연수를 입력하세요.\")\n",
    "        return None\n",
    "    elif type(num) == float:\n",
    "        num = int(num)\n",
    "        print(\"소수점 아래 수는 삭제한 결과입니다.\")\n",
    "    elif type(num) == int:\n",
    "        for i in range(2, num):\n",
    "            if num%i == 0:\n",
    "                print(\"해당 수는 합성수입니다.\")\n",
    "                return None\n",
    "        print(\"해당 수는 소수입니다.\")\n",
    "        return None\n",
    "    elif type(num) == str:\n",
    "        print(\"str 타입 입니다. 숫자를 입력하세요\")\n",
    "        return None\n",
    "    elif type(num) == list or tuple or dict:\n",
    "        print(\"단일 숫자로 입력해주세요\")\n",
    "        return None\n",
    "\n",
    "prime(-10)"
   ]
  },
  {
   "cell_type": "code",
   "execution_count": 10,
   "metadata": {},
   "outputs": [
    {
     "name": "stdout",
     "output_type": "stream",
     "text": [
      "Start the Up & Down game!!\n",
      "40 is lower than the answer number\n",
      "기능오류: 숫자를 입력하세요\n"
     ]
    }
   ],
   "source": [
    "def choose_number():\n",
    "    print(\"Start the Up & Down game!!\")\n",
    "    import random\n",
    "    answer = int(random.random()*100)\n",
    "    return answer\n",
    "\n",
    "def play_game():\n",
    "    answer = choose_number()\n",
    "    while True:\n",
    "        num = input(\"please choose the number, between 1 to 100.\")\n",
    "        if num ==\"stop\":\n",
    "            return num\n",
    "        num = int(num)\n",
    "        if num == answer:\n",
    "            print(num, \"Congraturation! your answer is correct!\")\n",
    "            break\n",
    "        elif num > answer:\n",
    "            print(num, \"is high than the answer number.\")\n",
    "            continue\n",
    "        print(num, \"is lower than the answer number.\")\n",
    "    \n",
    "\n",
    "def run():\n",
    "    try:\n",
    "        answer = play_game()\n",
    "        if answer =='stop':\n",
    "            print(\"The game is stopped by user.\")\n",
    "    except:\n",
    "        print(\"Error: Please input the number.\")\n",
    "\n",
    "run()"
   ]
  },
  {
   "cell_type": "markdown",
   "metadata": {},
   "source": [
    "> 변수 생성\n",
    "1. 정답을 만들어서 변수에 넣다.\n",
    "-> random()을 쓰자. /변수 선언\n",
    "2. 사용자의 입력 값을 변수에 넣다.\n",
    "-> input() 사용 / 변수 선언\n",
    "\n",
    "> 게임\n",
    "3. 정답과 입력 비교하자.(up&down게임)\n",
    "3-1. 만약 정답이 입력 값보다 큰 경우\n",
    "-> up이라고 하고 게임 진행 / while - if\n",
    "3-2. 만약 정답이 입력 값보다 작은 경우\n",
    "-> down이라고 하고 게임 진행 / while - if\n",
    "3-3. 정답과 입력 값이 같은 경우\n",
    "-> \"정답\"이라 하고 게임 끝 / if - break"
   ]
  },
  {
   "cell_type": "code",
   "execution_count": 18,
   "metadata": {},
   "outputs": [
    {
     "name": "stdout",
     "output_type": "stream",
     "text": [
      "down\n",
      "down\n",
      "up\n",
      "up\n",
      "down\n",
      "up\n",
      "정답\n"
     ]
    }
   ],
   "source": [
    "# 정답을 만들어서 변수에 넣다.\n",
    "# -> random()을 쓰자. /변수 선언\n",
    "# 2. 사용자의 입력 값을 변수에 넣다.\n",
    "# -> input() 사용 / 변수 선언\n",
    "\n",
    "import random\n",
    "\n",
    "def start_game():\n",
    "    #정답\n",
    "    correct = int(random.randint(1, 100))\n",
    "\n",
    "    return correct\n",
    "\n",
    "# 3. 정답과 입력 비교하자.(up&down게임)\n",
    "# 3-1. 만약 정답이 입력 값보다 큰 경우\n",
    "# -> up이라고 하고 게임 진행 / while - if\n",
    "# 3-2. 만약 정답이 입력 값보다 작은 경우\n",
    "# -> down이라고 하고 게임 진행 / while - if\n",
    "# 3-3. 정답과 입력 값이 같은 경우\n",
    "# -> \"정답\"이라 하고 게임 끝 / if - break\n",
    "\n",
    "def run_game(p_correct, p_answer):\n",
    "    #3-1\n",
    "    if p_correct > p_answer:\n",
    "        print('up')\n",
    "        return False\n",
    "    #3-2\n",
    "    elif p_correct < p_answer:\n",
    "        print('down')\n",
    "        return False\n",
    "    #3-3\n",
    "    else:\n",
    "        print(\"정답\")\n",
    "        return True\n",
    "\n",
    "\n",
    "# 파이썬에서 안쓰는 변수 = _(언더바)로 표현\n",
    "\n",
    "\n",
    "def game():\n",
    "    correct = start_game()\n",
    "    # 검증\n",
    "    while True:\n",
    "        #사용자 입력\n",
    "        answer = int(input('숫자만 입력하세요.'))\n",
    "        # 검증\n",
    "        try: #게임 진행 -> 성공하면 break\n",
    "            answer = int(answer)\n",
    "            if run_game(correct, answer):\n",
    "                break\n",
    "        except: #오답시 처리하는 구간\n",
    "            pass\n",
    "\n",
    "game()"
   ]
  }
 ],
 "metadata": {
  "kernelspec": {
   "display_name": ".venv",
   "language": "python",
   "name": "python3"
  },
  "language_info": {
   "codemirror_mode": {
    "name": "ipython",
    "version": 3
   },
   "file_extension": ".py",
   "mimetype": "text/x-python",
   "name": "python",
   "nbconvert_exporter": "python",
   "pygments_lexer": "ipython3",
   "version": "3.12.4"
  }
 },
 "nbformat": 4,
 "nbformat_minor": 2
}
