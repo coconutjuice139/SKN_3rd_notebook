{
 "cells": [
  {
   "cell_type": "code",
   "execution_count": 34,
   "metadata": {},
   "outputs": [
    {
     "name": "stdout",
     "output_type": "stream",
     "text": [
      "(1, 2, 3)\n"
     ]
    }
   ],
   "source": [
    "def add(*args):\n",
    "    return print(args)\n",
    "\n",
    "add(1, 2, 3)"
   ]
  },
  {
   "cell_type": "code",
   "execution_count": 6,
   "metadata": {},
   "outputs": [
    {
     "name": "stdout",
     "output_type": "stream",
     "text": [
      "15\n"
     ]
    }
   ],
   "source": [
    "lst = [1, 2, 3, 4, 5]\n",
    "\n",
    "add(*lst)"
   ]
  },
  {
   "cell_type": "code",
   "execution_count": 7,
   "metadata": {},
   "outputs": [
    {
     "name": "stdout",
     "output_type": "stream",
     "text": [
      "45\n"
     ]
    }
   ],
   "source": [
    "add(1,2,3,4,5,6,7,8,9\n",
    "    )"
   ]
  },
  {
   "cell_type": "code",
   "execution_count": 27,
   "metadata": {},
   "outputs": [],
   "source": [
    "add = lambda x1 : x1**2"
   ]
  },
  {
   "cell_type": "code",
   "execution_count": 29,
   "metadata": {},
   "outputs": [],
   "source": [
    "func_name = lambda num1, num2 : num1+num2"
   ]
  },
  {
   "cell_type": "code",
   "execution_count": 30,
   "metadata": {},
   "outputs": [],
   "source": [
    "num1 = 1\n",
    "num2 = 2"
   ]
  },
  {
   "cell_type": "code",
   "execution_count": 32,
   "metadata": {},
   "outputs": [
    {
     "data": {
      "text/plain": [
       "4"
      ]
     },
     "execution_count": 32,
     "metadata": {},
     "output_type": "execute_result"
    }
   ],
   "source": [
    "func_name(1,3)"
   ]
  },
  {
   "cell_type": "code",
   "execution_count": 33,
   "metadata": {},
   "outputs": [
    {
     "data": {
      "text/plain": [
       "6"
      ]
     },
     "execution_count": 33,
     "metadata": {},
     "output_type": "execute_result"
    }
   ],
   "source": [
    "func_name(3\n",
    "          ,3)"
   ]
  },
  {
   "cell_type": "code",
   "execution_count": 39,
   "metadata": {},
   "outputs": [
    {
     "name": "stdout",
     "output_type": "stream",
     "text": [
      "6\n"
     ]
    }
   ],
   "source": [
    "lst = (1, 2, 3, 4, 5, 6)\n",
    "\n",
    "def g_m(*args):\n",
    "    get_lst = list(args)\n",
    "    get_lst.sort()\n",
    "    return print(get_lst[-1])\n",
    "\n",
    "g_m(*lst)"
   ]
  },
  {
   "cell_type": "code",
   "execution_count": 62,
   "metadata": {},
   "outputs": [],
   "source": [
    "# 텍스트게임\n",
    "\n",
    "# 1. a라는 사람이 들어왔습니다.\n",
    "# 2. a의 나이가 20살 이상이면 술 구매 요청 하기\n",
    "# 2-1. a의 돈이 10이상이면 구매, 아니면 거절\n",
    "# 3. a의 나이가 20살 미만이면, 장난감 구매 요청하기\n",
    "# 3-1. a의 돈이 20이상이면 구매, 아니면 거절\n",
    "\n",
    "# 구현하기 (a라는 사람을 변수에다 담는데 나이, 돈을 가져야 함)\n",
    "# 제약조건 : 키워드 가변 파라미터 사용하기\n",
    "\n",
    "def random():\n",
    "    import random\n",
    "    return {'age':random.randint(0, 50), 'money': random.randint(0, 50)}\n",
    "\n",
    "def text_game(**args):\n",
    "    if int(args['age']) >= 20 and int(args['money']) >= 10:\n",
    "        print(\"술을 구매 하시겠습니까?\")\n",
    "        print(\"네\")\n",
    "    elif int(args['age']) >= 20 and int(args['money']) < 10:\n",
    "        print(\"술을 구매 하시겠습니까?\")\n",
    "        print(\"아니오\")\n",
    "    elif int(args['age']) < 20 and int(args['money']) >= 10:\n",
    "        print(\"장난감 구매 하시겠습니까?\")\n",
    "        print(\"네\")\n",
    "    else:\n",
    "        print(\"장난감 구매 하시겠습니까?\")\n",
    "        print(\"아니오\")\n",
    "\n",
    "# 가독성 좋게 만들고 오해의 소지 없도록!!\n",
    "\n",
    "def run():\n",
    "    a = random()\n",
    "    print(f\"a의 나이는 {a['age']}이고, 소지한 돈은 {a['money']}입니다.\")\n",
    "    text_game(**a)"
   ]
  },
  {
   "cell_type": "code",
   "execution_count": 63,
   "metadata": {},
   "outputs": [
    {
     "name": "stdout",
     "output_type": "stream",
     "text": [
      "a의 나이는 14이고, 소지한 돈은 17입니다.\n",
      "장난감 구매 하시겠습니까?\n",
      "아니오\n"
     ]
    }
   ],
   "source": [
    "run()"
   ]
  },
  {
   "cell_type": "code",
   "execution_count": 64,
   "metadata": {},
   "outputs": [
    {
     "ename": "TypeError",
     "evalue": "object of type 'int' has no len()",
     "output_type": "error",
     "traceback": [
      "\u001b[1;31m---------------------------------------------------------------------------\u001b[0m",
      "\u001b[1;31mTypeError\u001b[0m                                 Traceback (most recent call last)",
      "Cell \u001b[1;32mIn[64], line 12\u001b[0m\n\u001b[0;32m      9\u001b[0m         \u001b[38;5;28;01mreturn\u001b[39;00m \u001b[38;5;28;01mFalse\u001b[39;00m\n\u001b[0;32m     10\u001b[0m     \u001b[38;5;28;01mreturn\u001b[39;00m \u001b[38;5;28;01mFalse\u001b[39;00m\n\u001b[1;32m---> 12\u001b[0m \u001b[38;5;28;43mlen\u001b[39;49m\u001b[43m(\u001b[49m\u001b[38;5;241;43m345\u001b[39;49m\u001b[43m)\u001b[49m\n",
      "\u001b[1;31mTypeError\u001b[0m: object of type 'int' has no len()"
     ]
    }
   ],
   "source": [
    "# - 비밀번호는 3자리로 한다.\n",
    "# - 비밀번호를 입력하게 한다.\n",
    "# - 비밀번호가 틀리면 처음부터 다시 입력하게 한다.\n",
    "# - 비밀번호가 맞으면 성공 메시지를 출력한다.\n",
    "\n",
    "def password(): #비밀번호 랜덤 지정\n",
    "    import random\n",
    "    pw = int(\"{:03d}\".format(random.randint(0, 999)))\n",
    "    print(pw)\n",
    "\n",
    "\n",
    "def num_position(p_num): #사용자가 입력한 숫자 자릿수 확인\n",
    "    is_three = True\n",
    "    if len(str(p_num)) != 3:\n",
    "        return False\n",
    "    return True\n",
    "\n",
    "\n",
    "def input_num(): #번호 입력\n",
    "    num = input(\"번호를 입력하세요.\")\n",
    "    return num\n",
    "\n",
    "\n",
    "def match_num(p_pw, p_num): #비밀번호 맞추기\n",
    "    is_match = True\n",
    "    if p_pw != p_num:\n",
    "        is_match = False\n",
    "        return is_match\n",
    "    else:\n",
    "        return is_match\n",
    "\n",
    "\n",
    "def type_num(p_num): #번호 오류 확인\n",
    "    if type(p_num) == int\n",
    "    if len(str(p_num)) != 3\n",
    "    return \n",
    "\n"
   ]
  },
  {
   "cell_type": "code",
   "execution_count": 76,
   "metadata": {},
   "outputs": [
    {
     "name": "stdout",
     "output_type": "stream",
     "text": [
      "비밀번호가 일치합니다.\n"
     ]
    }
   ],
   "source": [
    "def password():\n",
    "    try:\n",
    "        user_password = int(input(\"번호를 입력하세요\"))\n",
    "        assert len(str(user_password)) == 3\n",
    "    except AssertionError as a:\n",
    "        print(\"비밀번호는 3자리로 입력하세요\")\n",
    "        password()\n",
    "    except:\n",
    "        print(\"비밀번호는 번호로만 입력하세요\")\n",
    "        password()\n",
    "    else:\n",
    "        if user_password == 123:\n",
    "            print(\"비밀번호가 일치합니다.\")\n",
    "        else:\n",
    "            print(\"비밀번호가 일치하지 않습니다\")\n",
    "            print(\"다시 입력하세요\")\n",
    "            password()\n",
    "\n",
    "password()"
   ]
  },
  {
   "cell_type": "code",
   "execution_count": null,
   "metadata": {},
   "outputs": [],
   "source": []
  }
 ],
 "metadata": {
  "kernelspec": {
   "display_name": ".venv",
   "language": "python",
   "name": "python3"
  },
  "language_info": {
   "codemirror_mode": {
    "name": "ipython",
    "version": 3
   },
   "file_extension": ".py",
   "mimetype": "text/x-python",
   "name": "python",
   "nbconvert_exporter": "python",
   "pygments_lexer": "ipython3",
   "version": "3.12.4"
  }
 },
 "nbformat": 4,
 "nbformat_minor": 2
}
