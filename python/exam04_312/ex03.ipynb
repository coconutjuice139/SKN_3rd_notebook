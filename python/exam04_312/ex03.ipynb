{
 "cells": [
  {
   "cell_type": "code",
   "execution_count": 27,
   "metadata": {},
   "outputs": [
    {
     "name": "stdout",
     "output_type": "stream",
     "text": [
      "최대값 :  2\n",
      "최소값 :  2\n"
     ]
    },
    {
     "ename": "UnboundLocalError",
     "evalue": "cannot access local variable 'v_center' where it is not associated with a value",
     "output_type": "error",
     "traceback": [
      "\u001b[1;31m---------------------------------------------------------------------------\u001b[0m",
      "\u001b[1;31mUnboundLocalError\u001b[0m                         Traceback (most recent call last)",
      "Cell \u001b[1;32mIn[27], line 18\u001b[0m\n\u001b[0;32m     15\u001b[0m     \u001b[38;5;28mprint\u001b[39m(\u001b[38;5;124m\"\u001b[39m\u001b[38;5;124m중간값 : \u001b[39m\u001b[38;5;124m\"\u001b[39m, v_center)\n\u001b[0;32m     17\u001b[0m lst \u001b[38;5;241m=\u001b[39m [\u001b[38;5;241m2\u001b[39m]\n\u001b[1;32m---> 18\u001b[0m \u001b[43mcalc\u001b[49m\u001b[43m(\u001b[49m\u001b[38;5;241;43m*\u001b[39;49m\u001b[43mlst\u001b[49m\u001b[43m)\u001b[49m\n",
      "Cell \u001b[1;32mIn[27], line 15\u001b[0m, in \u001b[0;36mcalc\u001b[1;34m(*value)\u001b[0m\n\u001b[0;32m     13\u001b[0m \u001b[38;5;28mprint\u001b[39m(\u001b[38;5;124m\"\u001b[39m\u001b[38;5;124m최대값 : \u001b[39m\u001b[38;5;124m\"\u001b[39m, v_max)\n\u001b[0;32m     14\u001b[0m \u001b[38;5;28mprint\u001b[39m(\u001b[38;5;124m\"\u001b[39m\u001b[38;5;124m최소값 : \u001b[39m\u001b[38;5;124m\"\u001b[39m, v_min)\n\u001b[1;32m---> 15\u001b[0m \u001b[38;5;28mprint\u001b[39m(\u001b[38;5;124m\"\u001b[39m\u001b[38;5;124m중간값 : \u001b[39m\u001b[38;5;124m\"\u001b[39m, \u001b[43mv_center\u001b[49m)\n",
      "\u001b[1;31mUnboundLocalError\u001b[0m: cannot access local variable 'v_center' where it is not associated with a value"
     ]
    }
   ],
   "source": [
    "def calc(*value):\n",
    "    v_max = value[0]\n",
    "    v_min = value[0]\n",
    "    v_map = [value[0]]\n",
    "    for i in range(1, len(value)):\n",
    "        if value[i] > v_max:\n",
    "            v_max = value[i]\n",
    "        if value[i] < v_min:\n",
    "            v_min = value[i]\n",
    "        v_map.append(value[i])\n",
    "        v_map.sort()\n",
    "        v_center = v_map[len(v_map)//2]\n",
    "    print(\"최대값 : \", v_max)\n",
    "    print(\"최소값 : \", v_min)\n",
    "    print(\"중간값 : \", v_center)\n",
    "\n",
    "lst = [2]\n",
    "calc(*lst)"
   ]
  },
  {
   "cell_type": "code",
   "execution_count": 8,
   "metadata": {},
   "outputs": [
    {
     "data": {
      "text/plain": [
       "[1, 2, 2, 2, 2, 3, 4, 4, 4, 5, 5, 6, 7, 9, 56]"
      ]
     },
     "execution_count": 8,
     "metadata": {},
     "output_type": "execute_result"
    }
   ],
   "source": [
    "lst.sort()\n",
    "lst"
   ]
  },
  {
   "cell_type": "code",
   "execution_count": 24,
   "metadata": {},
   "outputs": [
    {
     "name": "stdout",
     "output_type": "stream",
     "text": [
      "최대값 :  1\n",
      "최소값 :  1\n",
      "중간값 :  1\n"
     ]
    }
   ],
   "source": [
    "def calc(*value):\n",
    "    v_map=sorted(value)\n",
    "    v_center = v_map[len(v_map)//2]\n",
    "    print(\"최대값 : \", v_map[0])\n",
    "    print(\"최소값 : \", v_map[-1])\n",
    "    print(\"중간값 : \", v_center)\n",
    "\n",
    "lst = [1]\n",
    "calc(*lst)"
   ]
  },
  {
   "cell_type": "code",
   "execution_count": 22,
   "metadata": {},
   "outputs": [
    {
     "data": {
      "text/plain": [
       "[1, 2, 2, 2, 2, 2, 2, 2, 2, 2, 2, 2, 2, 2, 2, 2, 3, 4, 4, 5, 5, 5, 6, 6, 7, 9]"
      ]
     },
     "execution_count": 22,
     "metadata": {},
     "output_type": "execute_result"
    }
   ],
   "source": [
    "a = sorted(lst, reverse = False)\n",
    "a"
   ]
  }
 ],
 "metadata": {
  "kernelspec": {
   "display_name": ".venv",
   "language": "python",
   "name": "python3"
  },
  "language_info": {
   "codemirror_mode": {
    "name": "ipython",
    "version": 3
   },
   "file_extension": ".py",
   "mimetype": "text/x-python",
   "name": "python",
   "nbconvert_exporter": "python",
   "pygments_lexer": "ipython3",
   "version": "3.12.4"
  }
 },
 "nbformat": 4,
 "nbformat_minor": 2
}
