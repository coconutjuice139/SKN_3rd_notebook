{
 "cells": [
  {
   "cell_type": "code",
   "execution_count": 1,
   "metadata": {},
   "outputs": [],
   "source": [
    "import enum"
   ]
  },
  {
   "cell_type": "code",
   "execution_count": 3,
   "metadata": {},
   "outputs": [],
   "source": [
    "class RAINBOW(enum.Enum):\n",
    "    Red = (enum.auto(), 0)\n",
    "    Orange = (enum.auto(), 1)\n",
    "    Yellow = (enum.auto(), 2)\n",
    "    Green = (enum.auto(), 3)\n",
    "    Blue = (enum.auto(), 4)\n",
    "    Navy = (enum.auto(), 5)\n",
    "    Purple = (enum.auto(), 6)"
   ]
  },
  {
   "cell_type": "code",
   "execution_count": 4,
   "metadata": {},
   "outputs": [
    {
     "data": {
      "text/plain": [
       "<RAINBOW.Red: (<enum.auto object at 0x0000024C2DF6DF90>, 0)>"
      ]
     },
     "execution_count": 4,
     "metadata": {},
     "output_type": "execute_result"
    }
   ],
   "source": [
    "RAINBOW['Red']"
   ]
  },
  {
   "cell_type": "code",
   "execution_count": 5,
   "metadata": {},
   "outputs": [
    {
     "data": {
      "text/plain": [
       "<RAINBOW.Red: (<enum.auto object at 0x0000024C2DF6DF90>, 0)>"
      ]
     },
     "execution_count": 5,
     "metadata": {},
     "output_type": "execute_result"
    }
   ],
   "source": [
    "RAINBOW.Red"
   ]
  },
  {
   "cell_type": "code",
   "execution_count": 6,
   "metadata": {},
   "outputs": [
    {
     "data": {
      "text/plain": [
       "'Red'"
      ]
     },
     "execution_count": 6,
     "metadata": {},
     "output_type": "execute_result"
    }
   ],
   "source": [
    "RAINBOW.Red.name"
   ]
  },
  {
   "cell_type": "code",
   "execution_count": 7,
   "metadata": {},
   "outputs": [
    {
     "data": {
      "text/plain": [
       "<enum.auto at 0x24c2df6df90>"
      ]
     },
     "execution_count": 7,
     "metadata": {},
     "output_type": "execute_result"
    }
   ],
   "source": [
    "RAINBOW.Red.value[0]"
   ]
  },
  {
   "cell_type": "code",
   "execution_count": 8,
   "metadata": {},
   "outputs": [
    {
     "data": {
      "text/plain": [
       "0"
      ]
     },
     "execution_count": 8,
     "metadata": {},
     "output_type": "execute_result"
    }
   ],
   "source": [
    "RAINBOW.Red.value[1]"
   ]
  },
  {
   "cell_type": "code",
   "execution_count": 3,
   "metadata": {},
   "outputs": [
    {
     "ename": "NameError",
     "evalue": "name 'enum' is not defined",
     "output_type": "error",
     "traceback": [
      "\u001b[1;31m---------------------------------------------------------------------------\u001b[0m",
      "\u001b[1;31mNameError\u001b[0m                                 Traceback (most recent call last)",
      "Cell \u001b[1;32mIn[3], line 1\u001b[0m\n\u001b[1;32m----> 1\u001b[0m \u001b[38;5;28;01mclass\u001b[39;00m \u001b[38;5;21;01mWAY\u001b[39;00m(\u001b[43menum\u001b[49m\u001b[38;5;241m.\u001b[39mEnum):\n\u001b[0;32m      2\u001b[0m     East \u001b[38;5;241m=\u001b[39m (enum\u001b[38;5;241m.\u001b[39mauto(), \u001b[38;5;124m\"\u001b[39m\u001b[38;5;124m동\u001b[39m\u001b[38;5;124m\"\u001b[39m)\n\u001b[0;32m      3\u001b[0m     West \u001b[38;5;241m=\u001b[39m (enum\u001b[38;5;241m.\u001b[39mauto(), \u001b[38;5;124m\"\u001b[39m\u001b[38;5;124m서\u001b[39m\u001b[38;5;124m\"\u001b[39m)\n",
      "\u001b[1;31mNameError\u001b[0m: name 'enum' is not defined"
     ]
    }
   ],
   "source": [
    "class WAY(enum.Enum):\n",
    "    East = (enum.auto(), \"동\")\n",
    "    West = (enum.auto(), \"서\")\n",
    "    South = (enum.auto(), \"남\")\n",
    "    North = (enum.auto(), \"북\")"
   ]
  },
  {
   "cell_type": "code",
   "execution_count": 12,
   "metadata": {},
   "outputs": [
    {
     "data": {
      "text/plain": [
       "'East'"
      ]
     },
     "execution_count": 12,
     "metadata": {},
     "output_type": "execute_result"
    }
   ],
   "source": [
    "WAY.East.name"
   ]
  },
  {
   "cell_type": "code",
   "execution_count": 13,
   "metadata": {},
   "outputs": [
    {
     "data": {
      "text/plain": [
       "'동'"
      ]
     },
     "execution_count": 13,
     "metadata": {},
     "output_type": "execute_result"
    }
   ],
   "source": [
    "WAY.East.value[1]"
   ]
  },
  {
   "cell_type": "code",
   "execution_count": 16,
   "metadata": {},
   "outputs": [
    {
     "data": {
      "text/plain": [
       "True"
      ]
     },
     "execution_count": 16,
     "metadata": {},
     "output_type": "execute_result"
    }
   ],
   "source": [
    "# 무지개 안에 빨강이 있다? True / False\n",
    "\n",
    "RAINBOW.Red in RAINBOW"
   ]
  },
  {
   "cell_type": "code",
   "execution_count": 18,
   "metadata": {},
   "outputs": [
    {
     "data": {
      "text/plain": [
       "mappingproxy({'Red': <RAINBOW.Red: (<enum.auto object at 0x0000024C2DF6DF90>, 0)>,\n",
       "              'Orange': <RAINBOW.Orange: (<enum.auto object at 0x0000024C2DF6CDF0>, 1)>,\n",
       "              'Yellow': <RAINBOW.Yellow: (<enum.auto object at 0x0000024C2DF6E6E0>, 2)>,\n",
       "              'Green': <RAINBOW.Green: (<enum.auto object at 0x0000024C2DF6E080>, 3)>,\n",
       "              'Blue': <RAINBOW.Blue: (<enum.auto object at 0x0000024C2DF6E020>, 4)>,\n",
       "              'Navy': <RAINBOW.Navy: (<enum.auto object at 0x0000024C2DF6CD00>, 5)>,\n",
       "              'Purple': <RAINBOW.Purple: (<enum.auto object at 0x0000024C2DF6E230>, 6)>})"
      ]
     },
     "execution_count": 18,
     "metadata": {},
     "output_type": "execute_result"
    }
   ],
   "source": [
    "RAINBOW.__members__ #내가 선언한 모든 상수 그룹"
   ]
  },
  {
   "cell_type": "code",
   "execution_count": 19,
   "metadata": {},
   "outputs": [],
   "source": [
    "x = RAINBOW.__members__"
   ]
  },
  {
   "cell_type": "code",
   "execution_count": 20,
   "metadata": {},
   "outputs": [
    {
     "data": {
      "text/plain": [
       "mappingproxy({'Red': <RAINBOW.Red: (<enum.auto object at 0x0000024C2DF6DF90>, 0)>,\n",
       "              'Orange': <RAINBOW.Orange: (<enum.auto object at 0x0000024C2DF6CDF0>, 1)>,\n",
       "              'Yellow': <RAINBOW.Yellow: (<enum.auto object at 0x0000024C2DF6E6E0>, 2)>,\n",
       "              'Green': <RAINBOW.Green: (<enum.auto object at 0x0000024C2DF6E080>, 3)>,\n",
       "              'Blue': <RAINBOW.Blue: (<enum.auto object at 0x0000024C2DF6E020>, 4)>,\n",
       "              'Navy': <RAINBOW.Navy: (<enum.auto object at 0x0000024C2DF6CD00>, 5)>,\n",
       "              'Purple': <RAINBOW.Purple: (<enum.auto object at 0x0000024C2DF6E230>, 6)>})"
      ]
     },
     "execution_count": 20,
     "metadata": {},
     "output_type": "execute_result"
    }
   ],
   "source": [
    "x"
   ]
  },
  {
   "cell_type": "code",
   "execution_count": 22,
   "metadata": {},
   "outputs": [
    {
     "data": {
      "text/plain": [
       "True"
      ]
     },
     "execution_count": 22,
     "metadata": {},
     "output_type": "execute_result"
    }
   ],
   "source": [
    "'Red' in x"
   ]
  },
  {
   "cell_type": "code",
   "execution_count": 23,
   "metadata": {},
   "outputs": [
    {
     "data": {
      "text/plain": [
       "False"
      ]
     },
     "execution_count": 23,
     "metadata": {},
     "output_type": "execute_result"
    }
   ],
   "source": [
    "'Red' not in x"
   ]
  },
  {
   "cell_type": "code",
   "execution_count": 24,
   "metadata": {},
   "outputs": [
    {
     "data": {
      "text/plain": [
       "True"
      ]
     },
     "execution_count": 24,
     "metadata": {},
     "output_type": "execute_result"
    }
   ],
   "source": [
    "'Red ' not in x"
   ]
  },
  {
   "cell_type": "code",
   "execution_count": 25,
   "metadata": {},
   "outputs": [
    {
     "data": {
      "text/plain": [
       "0"
      ]
     },
     "execution_count": 25,
     "metadata": {},
     "output_type": "execute_result"
    }
   ],
   "source": [
    "RAINBOW.Red.value[1]"
   ]
  },
  {
   "cell_type": "code",
   "execution_count": 29,
   "metadata": {},
   "outputs": [
    {
     "data": {
      "text/plain": [
       "0"
      ]
     },
     "execution_count": 29,
     "metadata": {},
     "output_type": "execute_result"
    }
   ],
   "source": [
    "rainbow_color = 'Red'\n",
    "RAINBOW[rainbow_color].value[1]"
   ]
  },
  {
   "cell_type": "code",
   "execution_count": 2,
   "metadata": {},
   "outputs": [
    {
     "ename": "NameError",
     "evalue": "name 'WAY' is not defined",
     "output_type": "error",
     "traceback": [
      "\u001b[1;31m---------------------------------------------------------------------------\u001b[0m",
      "\u001b[1;31mNameError\u001b[0m                                 Traceback (most recent call last)",
      "Cell \u001b[1;32mIn[2], line 1\u001b[0m\n\u001b[1;32m----> 1\u001b[0m \u001b[43mWAY\u001b[49m\u001b[38;5;241m.\u001b[39mEast\u001b[38;5;241m.\u001b[39mname\n",
      "\u001b[1;31mNameError\u001b[0m: name 'WAY' is not defined"
     ]
    }
   ],
   "source": [
    "WAY.East.name"
   ]
  },
  {
   "cell_type": "code",
   "execution_count": 4,
   "metadata": {},
   "outputs": [
    {
     "ename": "NameError",
     "evalue": "name 'enum' is not defined",
     "output_type": "error",
     "traceback": [
      "\u001b[1;31m---------------------------------------------------------------------------\u001b[0m",
      "\u001b[1;31mNameError\u001b[0m                                 Traceback (most recent call last)",
      "Cell \u001b[1;32mIn[4], line 1\u001b[0m\n\u001b[1;32m----> 1\u001b[0m \u001b[38;5;28;01mclass\u001b[39;00m \u001b[38;5;21;01mWAY\u001b[39;00m(\u001b[43menum\u001b[49m\u001b[38;5;241m.\u001b[39mEnum):\n\u001b[0;32m      2\u001b[0m     East \u001b[38;5;241m=\u001b[39m (enum\u001b[38;5;241m.\u001b[39mauto(), \u001b[38;5;124m\"\u001b[39m\u001b[38;5;124m동\u001b[39m\u001b[38;5;124m\"\u001b[39m)\n\u001b[0;32m      3\u001b[0m     West \u001b[38;5;241m=\u001b[39m (enum\u001b[38;5;241m.\u001b[39mauto(), \u001b[38;5;124m\"\u001b[39m\u001b[38;5;124m서\u001b[39m\u001b[38;5;124m\"\u001b[39m)\n",
      "\u001b[1;31mNameError\u001b[0m: name 'enum' is not defined"
     ]
    }
   ],
   "source": [
    "class WAY(enum.Enum):\n",
    "    East = (enum.auto(), \"동\")\n",
    "    West = (enum.auto(), \"서\")\n",
    "    South = (enum.auto(), \"남\")\n",
    "    North = (enum.auto(), \"북\")"
   ]
  },
  {
   "cell_type": "code",
   "execution_count": 5,
   "metadata": {},
   "outputs": [],
   "source": [
    "import enum"
   ]
  },
  {
   "cell_type": "code",
   "execution_count": 6,
   "metadata": {},
   "outputs": [],
   "source": [
    "class WAY(enum.Enum):\n",
    "    East = (enum.auto(), \"동\")\n",
    "    West = (enum.auto(), \"서\")\n",
    "    South = (enum.auto(), \"남\")\n",
    "    North = (enum.auto(), \"북\")"
   ]
  },
  {
   "cell_type": "code",
   "execution_count": 7,
   "metadata": {},
   "outputs": [
    {
     "data": {
      "text/plain": [
       "<WAY.East: (<enum.auto object at 0x0000015973826170>, '동')>"
      ]
     },
     "execution_count": 7,
     "metadata": {},
     "output_type": "execute_result"
    }
   ],
   "source": [
    "WAY.East"
   ]
  },
  {
   "cell_type": "code",
   "execution_count": 8,
   "metadata": {},
   "outputs": [
    {
     "data": {
      "text/plain": [
       "<enum 'WAY'>"
      ]
     },
     "execution_count": 8,
     "metadata": {},
     "output_type": "execute_result"
    }
   ],
   "source": [
    "WAY"
   ]
  },
  {
   "cell_type": "code",
   "execution_count": 9,
   "metadata": {},
   "outputs": [
    {
     "data": {
      "text/plain": [
       "mappingproxy({'East': <WAY.East: (<enum.auto object at 0x0000015973826170>, '동')>,\n",
       "              'West': <WAY.West: (<enum.auto object at 0x0000015973825F30>, '서')>,\n",
       "              'South': <WAY.South: (<enum.auto object at 0x0000015973825DE0>, '남')>,\n",
       "              'North': <WAY.North: (<enum.auto object at 0x0000015973826200>, '북')>})"
      ]
     },
     "execution_count": 9,
     "metadata": {},
     "output_type": "execute_result"
    }
   ],
   "source": [
    "WAY.__members__"
   ]
  },
  {
   "cell_type": "code",
   "execution_count": 11,
   "metadata": {},
   "outputs": [
    {
     "data": {
      "text/plain": [
       "'동'"
      ]
     },
     "execution_count": 11,
     "metadata": {},
     "output_type": "execute_result"
    }
   ],
   "source": [
    "x = 'East'\n",
    "\n",
    "WAY[x].value[1]"
   ]
  },
  {
   "cell_type": "code",
   "execution_count": null,
   "metadata": {},
   "outputs": [],
   "source": []
  }
 ],
 "metadata": {
  "kernelspec": {
   "display_name": ".venv",
   "language": "python",
   "name": "python3"
  },
  "language_info": {
   "codemirror_mode": {
    "name": "ipython",
    "version": 3
   },
   "file_extension": ".py",
   "mimetype": "text/x-python",
   "name": "python",
   "nbconvert_exporter": "python",
   "pygments_lexer": "ipython3",
   "version": "3.10.11"
  }
 },
 "nbformat": 4,
 "nbformat_minor": 2
}
