{
 "cells": [
  {
   "cell_type": "markdown",
   "metadata": {},
   "source": [
    "abs() = 절대값을 리턴하는 함수\n",
    "sorted() = 원소들을 정렬한다 sort = 오름차순, reverse = 내림차순\n",
    "range() = 내부에 숫자를 집어넣으면 [0, ..., 입력 숫자-1]이 iterate하게 순차적으로 생성된다.\n",
    "zip() = 동일한 갯수의 원소를 가진 리스트, 딕셔너리, 튜플들 끼리 인덱스가 동일한 원소들 끼리 묶어준다.\n",
    "enurmarate() = 순서가 있는 데이터(리스트, 딕셔너리, 튜플)들을 키(인덱스)와 데이터(value)를 포함하여 리턴한다.\n",
    "isinstance(object, class), <false일 때 실행> = 입력 object의 타입이 작성한 타입이 맞으면 true, 틀리면 false를 뽑아내고 assert처럼 뒤에 다른 함수를 뽑을 수 있다. \n",
    "\n"
   ]
  }
 ],
 "metadata": {
  "language_info": {
   "name": "python"
  }
 },
 "nbformat": 4,
 "nbformat_minor": 2
}
