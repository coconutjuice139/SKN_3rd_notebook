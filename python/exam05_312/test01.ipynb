{
 "cells": [
  {
   "cell_type": "code",
   "execution_count": 3,
   "metadata": {},
   "outputs": [
    {
     "name": "stdout",
     "output_type": "stream",
     "text": [
      "[0.0, 0.25, 0.5, 0.75, 1.0, 0.75, 0.5, 0.25, 0.0]\n"
     ]
    }
   ],
   "source": [
    "def test(*args):\n",
    "    get_ans = []\n",
    "    lst_max = max(args)\n",
    "    lst_min = min(args)\n",
    "    for i in args:\n",
    "        func = (i-lst_min)/(lst_max-lst_min)\n",
    "        get_ans.append(func)\n",
    "    return get_ans\n",
    "\n",
    "lst = [1, 2, 3, 4, 5, 4, 3, 2, 1]\n",
    "lst_ans = test(*lst)\n",
    "print(lst_ans)"
   ]
  },
  {
   "cell_type": "code",
   "execution_count": 10,
   "metadata": {},
   "outputs": [
    {
     "name": "stdout",
     "output_type": "stream",
     "text": [
      "4.5\n",
      "2.291\n"
     ]
    }
   ],
   "source": [
    "def lst_ave(*args):\n",
    "    mean = sum(args)/len(args)\n",
    "    return mean\n",
    "\n",
    "def lst_dev(*args):\n",
    "    dev = (sum([(i - mean)**2 for i in args])/len(args))**0.5\n",
    "    return dev\n",
    "\n",
    "lst = [1,2,3,4,5,6,7,8]\n",
    "\n",
    "mean = lst_ave(*lst)\n",
    "dev = lst_dev(*lst)\n",
    "\n",
    "print(mean)\n",
    "print('{:.3f}'.format(dev))"
   ]
  },
  {
   "cell_type": "code",
   "execution_count": null,
   "metadata": {},
   "outputs": [],
   "source": []
  }
 ],
 "metadata": {
  "kernelspec": {
   "display_name": ".venv",
   "language": "python",
   "name": "python3"
  },
  "language_info": {
   "codemirror_mode": {
    "name": "ipython",
    "version": 3
   },
   "file_extension": ".py",
   "mimetype": "text/x-python",
   "name": "python",
   "nbconvert_exporter": "python",
   "pygments_lexer": "ipython3",
   "version": "3.12.4"
  }
 },
 "nbformat": 4,
 "nbformat_minor": 2
}
