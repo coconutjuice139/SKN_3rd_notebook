{
 "cells": [
  {
   "cell_type": "code",
   "execution_count": 2,
   "metadata": {},
   "outputs": [],
   "source": [
    "class Grandmother:\n",
    "    #속성/변수\n",
    "    family = \"grandparents\"\n",
    "\n",
    "    #메소드/함수\n",
    "    def print_self(self):# self  = 객체 또는 인스턴스\n",
    "        print(self)\n",
    "\n",
    "#클래스를 메모리에 올린다 = 클래스 객체화(인스턴스화)\n",
    "LEE = Grandmother()"
   ]
  },
  {
   "cell_type": "code",
   "execution_count": 10,
   "metadata": {},
   "outputs": [
    {
     "data": {
      "text/plain": [
       "type"
      ]
     },
     "execution_count": 10,
     "metadata": {},
     "output_type": "execute_result"
    }
   ],
   "source": [
    "type(Grandmother)"
   ]
  },
  {
   "cell_type": "code",
   "execution_count": 12,
   "metadata": {},
   "outputs": [
    {
     "data": {
      "text/plain": [
       "'grandparents'"
      ]
     },
     "execution_count": 12,
     "metadata": {},
     "output_type": "execute_result"
    }
   ],
   "source": [
    "# 클래스 변수 사용하기\n",
    "# 객체 안의 변수명을 누르면 된다. (아이콘이 조그마한 상자)\n",
    "# 객체를 통해서 변수에 접근\n",
    "\n",
    "LEE.family # \"클래스 지정변수.클래스 내부 변수\" 이런 식으로 되어있다\n",
    "\n",
    "# 객체 안의 함수명을 선택하면 함수도 선택할 수 있다. (아이콘이 큰 상자)"
   ]
  },
  {
   "cell_type": "code",
   "execution_count": 13,
   "metadata": {},
   "outputs": [
    {
     "data": {
      "text/plain": [
       "'grandparents'"
      ]
     },
     "execution_count": 13,
     "metadata": {},
     "output_type": "execute_result"
    }
   ],
   "source": [
    "#클래스를 통해서 변수 접근 할 수 있다.\n",
    "\n",
    "Grandmother.family"
   ]
  },
  {
   "cell_type": "code",
   "execution_count": 14,
   "metadata": {},
   "outputs": [
    {
     "name": "stdout",
     "output_type": "stream",
     "text": [
      "<__main__.Grandmother object at 0x00000180BED09820>\n"
     ]
    }
   ],
   "source": [
    "# 객체에서 메소드를 실행하자\n",
    "# 메소드는 실행, 변수는 접근!! 용어에 주의\n",
    "\n",
    "LEE.print_self() # 인스턴스 데이터.print_self()"
   ]
  },
  {
   "cell_type": "code",
   "execution_count": 15,
   "metadata": {},
   "outputs": [
    {
     "data": {
      "text/plain": [
       "<__main__.Grandmother at 0x180bed09820>"
      ]
     },
     "execution_count": 15,
     "metadata": {},
     "output_type": "execute_result"
    }
   ],
   "source": [
    "LEE"
   ]
  },
  {
   "cell_type": "code",
   "execution_count": 17,
   "metadata": {},
   "outputs": [
    {
     "ename": "TypeError",
     "evalue": "Grandmother.print_self() missing 1 required positional argument: 'self'",
     "output_type": "error",
     "traceback": [
      "\u001b[1;31m---------------------------------------------------------------------------\u001b[0m",
      "\u001b[1;31mTypeError\u001b[0m                                 Traceback (most recent call last)",
      "Cell \u001b[1;32mIn[17], line 1\u001b[0m\n\u001b[1;32m----> 1\u001b[0m \u001b[43mGrandmother\u001b[49m\u001b[38;5;241;43m.\u001b[39;49m\u001b[43mprint_self\u001b[49m\u001b[43m(\u001b[49m\u001b[43m)\u001b[49m\n",
      "\u001b[1;31mTypeError\u001b[0m: Grandmother.print_self() missing 1 required positional argument: 'self'"
     ]
    }
   ],
   "source": [
    "Grandmother.print_self()"
   ]
  },
  {
   "cell_type": "code",
   "execution_count": 18,
   "metadata": {},
   "outputs": [
    {
     "data": {
      "text/plain": [
       "__main__.Grandmother"
      ]
     },
     "execution_count": 18,
     "metadata": {},
     "output_type": "execute_result"
    }
   ],
   "source": [
    "Grandmother"
   ]
  },
  {
   "cell_type": "code",
   "execution_count": 19,
   "metadata": {},
   "outputs": [
    {
     "data": {
      "text/plain": [
       "<__main__.Grandmother at 0x180bed09820>"
      ]
     },
     "execution_count": 19,
     "metadata": {},
     "output_type": "execute_result"
    }
   ],
   "source": [
    "LEE"
   ]
  },
  {
   "cell_type": "code",
   "execution_count": 20,
   "metadata": {},
   "outputs": [],
   "source": [
    "LEE = Grandmother() # 클래스를 객체화(인스턴스화)하려면 내부적으로 특별한 함수를 통해서 실행\n",
    "# 우리는 그런 함수를 생성함수라고 한다.\n",
    "# 모든 클래스는 생성함수를 통해서 객체화가 이루어진다.\n",
    "\n",
    "# 생성함수를 수동으로 만드는 법"
   ]
  },
  {
   "cell_type": "code",
   "execution_count": 25,
   "metadata": {},
   "outputs": [
    {
     "name": "stdout",
     "output_type": "stream",
     "text": [
      "어서와 클래스는 처음이지?\n"
     ]
    }
   ],
   "source": [
    "# 생성함수를 수동으로 만드는 법\n",
    "class GrandMother:\n",
    "    family = 'gg'\n",
    "\n",
    "    # 생성함수다!!!!!!!!!!!!!!!!! -> 매직메소드라고 한다.\n",
    "    def __init__(self):\n",
    "        print('어서와 클래스는 처음이지?')\n",
    "    \n",
    "    #메소드/함수\n",
    "    def print_self(self):# self  = 객체 또는 인스턴스\n",
    "        print(self)\n",
    "\n",
    "#클래스를 메모리에 올린다 = 클래스 객체화(인스턴스화)\n",
    "LEE = GrandMother()"
   ]
  },
  {
   "cell_type": "code",
   "execution_count": 26,
   "metadata": {},
   "outputs": [
    {
     "data": {
      "text/plain": [
       "<__main__.GrandMother at 0x180bee6bbc0>"
      ]
     },
     "execution_count": 26,
     "metadata": {},
     "output_type": "execute_result"
    }
   ],
   "source": [
    "LEE"
   ]
  },
  {
   "cell_type": "code",
   "execution_count": 27,
   "metadata": {},
   "outputs": [
    {
     "name": "stdout",
     "output_type": "stream",
     "text": [
      "어서와 클래스는 처음이지?\n"
     ]
    },
    {
     "data": {
      "text/plain": [
       "<__main__.GrandMother at 0x180bee69400>"
      ]
     },
     "execution_count": 27,
     "metadata": {},
     "output_type": "execute_result"
    }
   ],
   "source": [
    "LEE = GrandMother() # 객체화 -> __init__()생성함수 자동실행\n",
    "\n",
    "LEE"
   ]
  },
  {
   "cell_type": "code",
   "execution_count": 36,
   "metadata": {},
   "outputs": [],
   "source": [
    "# 생성함수를 수동으로 만드는 법\n",
    "class GrandMother:\n",
    "    family = 'gg' # 변수 선언 초기화\n",
    "    name = \"\"\n",
    "    age = 0\n",
    "\n",
    "\n",
    "    # 생성함수다!!!!!!!!!!!!!!!!! -> 매직메소드라고 한다.\n",
    "    def __init__(self,p_name,p_age):\n",
    "        # print('어서와 클래스는 처음이지?')\n",
    "        self.name = p_name # 데이터 재반영\n",
    "        self.age = p_age # 데이터 재반영\n",
    "        \n",
    "    #메소드/함수\n",
    "    def print_self(self):# self  = 객체 또는 인스턴스\n",
    "        print(f'{self.name} / {self.age}')\n",
    "\n",
    "#클래스를 메모리에 올린다 = 클래스 객체화(인스턴스화)\n",
    "kim = GrandMother('Kim', 25)\n",
    "lee = GrandMother('lee', 25)\n",
    "park = GrandMother('park', 25)\n",
    "choi = GrandMother('choi', 25)"
   ]
  },
  {
   "cell_type": "code",
   "execution_count": 38,
   "metadata": {},
   "outputs": [
    {
     "data": {
      "text/plain": [
       "'Kim'"
      ]
     },
     "execution_count": 38,
     "metadata": {},
     "output_type": "execute_result"
    }
   ],
   "source": [
    "kim.name"
   ]
  },
  {
   "cell_type": "code",
   "execution_count": 39,
   "metadata": {},
   "outputs": [],
   "source": [
    "kim.name = '안녕'"
   ]
  },
  {
   "cell_type": "code",
   "execution_count": 40,
   "metadata": {},
   "outputs": [
    {
     "data": {
      "text/plain": [
       "'안녕'"
      ]
     },
     "execution_count": 40,
     "metadata": {},
     "output_type": "execute_result"
    }
   ],
   "source": [
    "kim.name # 이게 되네 재반영이니까 되네"
   ]
  },
  {
   "cell_type": "code",
   "execution_count": 41,
   "metadata": {},
   "outputs": [
    {
     "name": "stdout",
     "output_type": "stream",
     "text": [
      "안녕 / 25\n"
     ]
    }
   ],
   "source": [
    "kim.print_self()"
   ]
  },
  {
   "cell_type": "code",
   "execution_count": 42,
   "metadata": {},
   "outputs": [],
   "source": [
    "lee = GrandMother('lee', 25)\n",
    "park = GrandMother('park', 25)\n",
    "choi = GrandMother('choi', 25)"
   ]
  },
  {
   "cell_type": "code",
   "execution_count": 43,
   "metadata": {},
   "outputs": [
    {
     "data": {
      "text/plain": [
       "'lee'"
      ]
     },
     "execution_count": 43,
     "metadata": {},
     "output_type": "execute_result"
    }
   ],
   "source": [
    "lee.name"
   ]
  },
  {
   "cell_type": "code",
   "execution_count": 44,
   "metadata": {},
   "outputs": [
    {
     "data": {
      "text/plain": [
       "'안녕'"
      ]
     },
     "execution_count": 44,
     "metadata": {},
     "output_type": "execute_result"
    }
   ],
   "source": [
    "kim.name"
   ]
  },
  {
   "cell_type": "code",
   "execution_count": null,
   "metadata": {},
   "outputs": [],
   "source": []
  }
 ],
 "metadata": {
  "kernelspec": {
   "display_name": ".venv",
   "language": "python",
   "name": "python3"
  },
  "language_info": {
   "codemirror_mode": {
    "name": "ipython",
    "version": 3
   },
   "file_extension": ".py",
   "mimetype": "text/x-python",
   "name": "python",
   "nbconvert_exporter": "python",
   "pygments_lexer": "ipython3",
   "version": "3.12.4"
  }
 },
 "nbformat": 4,
 "nbformat_minor": 2
}
