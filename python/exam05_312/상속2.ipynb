{
 "cells": [
  {
   "cell_type": "code",
   "execution_count": 12,
   "metadata": {},
   "outputs": [],
   "source": [
    "class GrandMother:\n",
    "    family = \"Hello\"\n",
    "    name = \"Grandmother\"\n",
    "    age = None\n",
    "    height = None\n",
    "\n",
    "    # def __init__(self, name, age, height):\n",
    "        # self.name = name\n",
    "        # self.age = age\n",
    "        # self.height = height\n",
    "        # print(self.name, self.age, self.height)\n",
    "\n",
    "    def __init__(self, p_name) -> None:\n",
    "        self.name = p_name\n",
    "        print(\"부모클래스 데이터 ㅎㅇ\")\n",
    "\n",
    "    def print_who(self):\n",
    "        print(\"I`m a GrandMother\")\n",
    "\n",
    "    def print_hi(self):\n",
    "        print(\"hi~\")\n",
    "\n",
    "class Father(GrandMother):\n",
    "    def __init__(self, date): # 자식 클래스 생성함수\n",
    "        self.date = date\n",
    "        super().__init__(\"dd\") # 이것이 Father가 인스턴스화 할때 자동으로 실행된다. <- 실행하고 있다는 것이 매우매우 중요!!!!!!!!!!!!!!!!\n",
    "        # 부모클래스의 메소드와 속성이 그대로 자식클래스한테 주입이 된다.\n",
    "        # super()는 부모클래스를 이야기하는 것\n",
    "        print(\"자식 클래스 데이터 ㅎㅇ\")\n",
    "\n",
    "    def print_hello(self):\n",
    "        print(\"hello\")\n"
   ]
  },
  {
   "cell_type": "code",
   "execution_count": 13,
   "metadata": {},
   "outputs": [
    {
     "name": "stdout",
     "output_type": "stream",
     "text": [
      "부모클래스 데이터 ㅎㅇ\n",
      "자식 클래스 데이터 ㅎㅇ\n"
     ]
    }
   ],
   "source": [
    "lee = Father('july') # 생성함수 순서에 따라 print가 어떻게 되는지 알 수 있다."
   ]
  },
  {
   "cell_type": "code",
   "execution_count": 14,
   "metadata": {},
   "outputs": [
    {
     "data": {
      "text/plain": [
       "'dd'"
      ]
     },
     "execution_count": 14,
     "metadata": {},
     "output_type": "execute_result"
    }
   ],
   "source": [
    "lee.name"
   ]
  },
  {
   "cell_type": "code",
   "execution_count": 15,
   "metadata": {},
   "outputs": [],
   "source": [
    "# 부모클래스 : 탈 것\n",
    "# 변수 : 제조일자, 속도\n",
    "# 기능 : 앞으로 ??속도만큼 이동, 뒤로 이동, 오른쪽 이동, 왼쪽 이동\n",
    "\n",
    "# 자식클래스 : 오토바이\n",
    "# 변수 : 탑승자 수\n",
    "# 기능 : 묘기하기\n",
    "\n",
    "# 자식클래스 : 차\n",
    "# 변수 : 탑승자 수, 마력\n",
    "# 기능 : 추월하기, 멈추기, 클락션\n",
    "\n",
    "# 자식클래스 : 잠수함\n",
    "# 변수 : 탑승자 수, 속도\n",
    "# 기능 : 잠수, 어뢰발사\n",
    "\n"
   ]
  },
  {
   "cell_type": "code",
   "execution_count": 96,
   "metadata": {},
   "outputs": [],
   "source": [
    "# 부모클래스 : 탈 것\n",
    "# 변수 : 제조일자, 속도\n",
    "# 기능 : 앞으로(1.)(속도 += 20) ??속도만큼 이동, 뒤로(1.)(속도 /=2) 이동, 오른쪽 이동, 왼쪽 이동\n",
    "\n",
    "class Vehircle:\n",
    "    def __init__(self, p_date, p_velocity=10): # 변수 : 제조일자, 속도\n",
    "        self.date = p_date\n",
    "        self.velocity = p_velocity\n",
    "        \n",
    "    def move(self, dir):\n",
    "        if dir == 'forward':\n",
    "            self.velocity += 20\n",
    "            print(f\"앞으로 {self.velocity}속도 만큼 이동\")\n",
    "        elif dir == 'behind':\n",
    "            self.velocity /= 2\n",
    "            print(f\"뒤로 {self.velocity}속도 만큼 이동\")\n",
    "        elif dir == 'left':\n",
    "            print(f\"왼쪽으로 {self.velocity}속도 만큼 이동\")\n",
    "        elif dir == 'right':\n",
    "            print(f\"오른쪽으로 {self.velocity}속도 만큼 이동\")\n",
    "        else:\n",
    "            print(f\"잘못된 입력방식입니다.\")\n"
   ]
  },
  {
   "cell_type": "code",
   "execution_count": 97,
   "metadata": {},
   "outputs": [],
   "source": [
    "# 자식클래스 : 오토바이\n",
    "# 변수 : 탑승자 수, (2.)속도 default =100\n",
    "# 기능 : 묘기하기\n",
    "\n",
    "class Bike(Vehircle):\n",
    "    def __init__(self, passenger_number, p_date, p_velocity=100):\n",
    "        super().__init__(p_date, p_velocity)\n",
    "        self.number = passenger_number\n",
    "\n",
    "    def func(self):\n",
    "        print(\"묘기하기\")"
   ]
  },
  {
   "cell_type": "code",
   "execution_count": 104,
   "metadata": {},
   "outputs": [],
   "source": [
    "# 자식클래스 : 차\n",
    "# 변수 : 탑승자 수, 마력, (2.)속도 default=300\n",
    "# 기능 : 추월하기(속도 = 속소 * 5), 멈추기(속도 = 0), 클락션\n",
    "\n",
    "class Auto(Vehircle):\n",
    "    def __init__(self, passenger_number, p_power, p_date, p_velocity=300):\n",
    "        super().__init__(p_date, p_velocity)\n",
    "        self.number = passenger_number\n",
    "        self.power = p_power\n",
    "\n",
    "    def speedup(self):\n",
    "        self.velocity = self.velocity * 5\n",
    "        print(f\"{self.velocity} 속도로 추월하기\")\n",
    "    \n",
    "    def stop(self):\n",
    "        self.velocity = 0\n",
    "        print(f\"{self.velocity} 속도로 멈추기\")\n",
    "\n",
    "    def sound(self):\n",
    "        print(\"클락션\")"
   ]
  },
  {
   "cell_type": "code",
   "execution_count": 99,
   "metadata": {},
   "outputs": [],
   "source": [
    "# 자식클래스 : 잠수함\n",
    "# 변수 : 탑승자 수, 속도\n",
    "# 기능 : 잠수, 어뢰발사\n",
    "\n",
    "class Sub(Vehircle):\n",
    "    def __init__(self, passenger_number, p_date, p_velocity=10):\n",
    "        super().__init__(p_date, p_velocity)\n",
    "        self.number = passenger_number\n",
    "\n",
    "    def down(self):\n",
    "        print(\"잠수\")\n",
    "\n",
    "    def attack(self):\n",
    "        print(\"어뢰발사\")"
   ]
  },
  {
   "cell_type": "code",
   "execution_count": 105,
   "metadata": {},
   "outputs": [
    {
     "data": {
      "text/plain": [
       "300"
      ]
     },
     "execution_count": 105,
     "metadata": {},
     "output_type": "execute_result"
    }
   ],
   "source": [
    "car = Auto(4, 50, \"2010.04.10\")\n",
    "car.velocity"
   ]
  },
  {
   "cell_type": "code",
   "execution_count": 106,
   "metadata": {},
   "outputs": [
    {
     "name": "stdout",
     "output_type": "stream",
     "text": [
      "1500 속도로 추월하기\n",
      "1500\n"
     ]
    }
   ],
   "source": [
    "car.speedup()\n",
    "print(car.velocity)\n"
   ]
  },
  {
   "cell_type": "code",
   "execution_count": 107,
   "metadata": {},
   "outputs": [
    {
     "name": "stdout",
     "output_type": "stream",
     "text": [
      "0 속도로 멈추기\n"
     ]
    },
    {
     "data": {
      "text/plain": [
       "0"
      ]
     },
     "execution_count": 107,
     "metadata": {},
     "output_type": "execute_result"
    }
   ],
   "source": [
    "car.stop()\n",
    "car.velocity"
   ]
  },
  {
   "cell_type": "code",
   "execution_count": 108,
   "metadata": {},
   "outputs": [
    {
     "name": "stdout",
     "output_type": "stream",
     "text": [
      "앞으로 20속도 만큼 이동\n"
     ]
    }
   ],
   "source": [
    "car.move('forward')"
   ]
  },
  {
   "cell_type": "code",
   "execution_count": null,
   "metadata": {},
   "outputs": [],
   "source": []
  },
  {
   "cell_type": "code",
   "execution_count": 80,
   "metadata": {},
   "outputs": [
    {
     "data": {
      "text/plain": [
       "100"
      ]
     },
     "execution_count": 80,
     "metadata": {},
     "output_type": "execute_result"
    }
   ],
   "source": [
    "bike = Bike(2, '2001.05.20')\n",
    "bike.velocity"
   ]
  },
  {
   "cell_type": "code",
   "execution_count": 81,
   "metadata": {},
   "outputs": [
    {
     "name": "stdout",
     "output_type": "stream",
     "text": [
      "앞으로 120속도 만큼 이동\n"
     ]
    }
   ],
   "source": [
    "bike.move('forward')"
   ]
  },
  {
   "cell_type": "code",
   "execution_count": null,
   "metadata": {},
   "outputs": [],
   "source": []
  },
  {
   "cell_type": "code",
   "execution_count": 67,
   "metadata": {},
   "outputs": [],
   "source": [
    "ship = Sub(50, '2000.06.20')"
   ]
  },
  {
   "cell_type": "code",
   "execution_count": 68,
   "metadata": {},
   "outputs": [
    {
     "name": "stdout",
     "output_type": "stream",
     "text": [
      "앞으로 30속도 만큼 이동\n"
     ]
    }
   ],
   "source": [
    "ship.move('forward')"
   ]
  },
  {
   "cell_type": "code",
   "execution_count": 69,
   "metadata": {},
   "outputs": [
    {
     "name": "stdout",
     "output_type": "stream",
     "text": [
      "앞으로 50속도 만큼 이동\n"
     ]
    }
   ],
   "source": [
    "ship.move('forward')"
   ]
  },
  {
   "cell_type": "code",
   "execution_count": 70,
   "metadata": {},
   "outputs": [
    {
     "name": "stdout",
     "output_type": "stream",
     "text": [
      "뒤로 25.0속도 만큼 이동\n"
     ]
    }
   ],
   "source": [
    "ship.move('behind')"
   ]
  },
  {
   "cell_type": "code",
   "execution_count": null,
   "metadata": {},
   "outputs": [],
   "source": []
  },
  {
   "cell_type": "code",
   "execution_count": null,
   "metadata": {},
   "outputs": [],
   "source": []
  },
  {
   "cell_type": "code",
   "execution_count": null,
   "metadata": {},
   "outputs": [],
   "source": []
  },
  {
   "cell_type": "code",
   "execution_count": null,
   "metadata": {},
   "outputs": [],
   "source": []
  },
  {
   "cell_type": "code",
   "execution_count": 62,
   "metadata": {},
   "outputs": [],
   "source": [
    "# 부모클래스 : 탈 것\n",
    "# 변수 : 제조일자, 속도\n",
    "# 기능 : 앞으로 ??속도만큼 이동, 뒤로 이동, 오른쪽 이동, 왼쪽 이동\n",
    "\n",
    "class Vehircle:\n",
    "    def __init__(self, p_date, p_velocity=10): # 변수 : 제조일자, 속도\n",
    "        self.date = p_date\n",
    "        self.velocity = p_velocity\n",
    "        \n",
    "    def move(self, dir):\n",
    "        if dir == 'forward':\n",
    "            print(f\"앞으로 {self.velocity}속도 만큼 이동\")\n",
    "        elif dir == 'behind':\n",
    "            print(f\"뒤로 {self.velocity}속도 만큼 이동\")\n",
    "        elif dir == 'left':\n",
    "            print(f\"왼쪽으로 {self.velocity}속도 만큼 이동\")\n",
    "        elif dir == 'right':\n",
    "            print(f\"오른쪽으로 {self.velocity}속도 만큼 이동\")\n",
    "        else:\n",
    "            print(f\"잘못된 입력방식입니다.\")\n",
    "\n",
    "\n",
    "# 자식클래스 : 오토바이\n",
    "# 변수 : 탑승자 수\n",
    "# 기능 : 묘기하기\n",
    "\n",
    "class Bike(Vehircle):\n",
    "    def __init__(self, passenger_number, p_date, p_velocity=10):\n",
    "        super().__init__(p_date, p_velocity)\n",
    "        self.number = passenger_number\n",
    "\n",
    "    def func():\n",
    "        print(\"묘기하기\")\n",
    "\n",
    "\n",
    "\n",
    "# 자식클래스 : 차\n",
    "# 변수 : 탑승자 수, 마력\n",
    "# 기능 : 추월하기, 멈추기, 클락션\n",
    "\n",
    "class Auto(Vehircle):\n",
    "    def __init__(self, passenger_number, p_power, p_date, p_velocity=10):\n",
    "        super().__init__(p_date, p_velocity)\n",
    "        self.number = passenger_number\n",
    "        self.power = p_power\n",
    "\n",
    "    def speedup():\n",
    "        print(\"추월하기\")\n",
    "    \n",
    "    def stop():\n",
    "        print(\"멈추기\")\n",
    "\n",
    "    def sound():\n",
    "        print(\"클락션\")\n",
    "\n",
    "\n",
    "# 자식클래스 : 잠수함\n",
    "# 변수 : 탑승자 수, 속도\n",
    "# 기능 : 잠수, 어뢰발사\n",
    "\n",
    "class Sub(Vehircle):\n",
    "    def __init__(self, passenger_number, p_date, p_velocity=10):\n",
    "        super().__init__(p_date, p_velocity)\n",
    "        self.number = passenger_number\n",
    "\n",
    "    def down():\n",
    "        print(\"잠수\")\n",
    "\n",
    "    def attack():\n",
    "        print(\"어뢰발사\")\n",
    "\n"
   ]
  },
  {
   "cell_type": "code",
   "execution_count": null,
   "metadata": {},
   "outputs": [],
   "source": []
  }
 ],
 "metadata": {
  "kernelspec": {
   "display_name": ".venv",
   "language": "python",
   "name": "python3"
  },
  "language_info": {
   "codemirror_mode": {
    "name": "ipython",
    "version": 3
   },
   "file_extension": ".py",
   "mimetype": "text/x-python",
   "name": "python",
   "nbconvert_exporter": "python",
   "pygments_lexer": "ipython3",
   "version": "3.12.4"
  }
 },
 "nbformat": 4,
 "nbformat_minor": 2
}
