{
 "cells": [
  {
   "cell_type": "code",
   "execution_count": 13,
   "metadata": {},
   "outputs": [],
   "source": [
    "class GrandMother:\n",
    "    family = \"Hello\"\n",
    "    name = \"Grandmother\"\n",
    "    age = None\n",
    "    height = None\n",
    "\n",
    "    def __init__(self, name, age, height):\n",
    "        self.name = name\n",
    "        self.age = age\n",
    "        self.height = height\n",
    "\n",
    "    def print_who(self):\n",
    "        print(\"I`m a GrandMother\")\n",
    "\n",
    "    def print_hi(self):\n",
    "        print(\"hi~\")\n",
    "\n",
    "class Father(GrandMother):\n",
    "    def __init__(self, date): # 자식 클래스 생성함수\n",
    "        self.date = date\n",
    "        super().__init__() # 이것이 Father가 인스턴스화 할때 자동으로 실행된다. <- 실행하고 있다는 것이 매우매우 중요!!!!!!!!!!!!!!!!\n",
    "        # 부모클래스의 메소드와 속성이 그대로 자식클래스한테 주입이 된다.\n",
    "        # super()는 부모클래스를 이야기하는 것\n",
    "\n",
    "    def print_hello(self):\n",
    "        print(\"hello\")\n",
    "\n",
    "lee=GrandMother(\"lee\", 30, 180)\n"
   ]
  },
  {
   "cell_type": "code",
   "execution_count": 14,
   "metadata": {},
   "outputs": [],
   "source": [
    "father = Father('july')"
   ]
  },
  {
   "cell_type": "code",
   "execution_count": 15,
   "metadata": {},
   "outputs": [
    {
     "data": {
      "text/plain": [
       "'Grandmother'"
      ]
     },
     "execution_count": 15,
     "metadata": {},
     "output_type": "execute_result"
    }
   ],
   "source": [
    "father.name"
   ]
  },
  {
   "cell_type": "code",
   "execution_count": 16,
   "metadata": {},
   "outputs": [],
   "source": [
    "father.age"
   ]
  },
  {
   "cell_type": "code",
   "execution_count": 17,
   "metadata": {},
   "outputs": [
    {
     "name": "stdout",
     "output_type": "stream",
     "text": [
      "I`m a GrandMother\n"
     ]
    }
   ],
   "source": [
    "father.print_who() #할머니 클래스의 메소드"
   ]
  },
  {
   "cell_type": "code",
   "execution_count": 20,
   "metadata": {},
   "outputs": [
    {
     "data": {
      "text/plain": [
       "__main__.Father"
      ]
     },
     "execution_count": 20,
     "metadata": {},
     "output_type": "execute_result"
    }
   ],
   "source": [
    "# 자식 클래스가 인스턴스화 될 때, 부모 클래스도 인스턴스화 되었다 = 개발자라면 논리적으로 생각하자\n",
    "# 인스턴스화 함 - 생성함수가 실행된다"
   ]
  },
  {
   "cell_type": "code",
   "execution_count": 19,
   "metadata": {},
   "outputs": [
    {
     "data": {
      "text/plain": [
       "__main__.GrandMother"
      ]
     },
     "execution_count": 19,
     "metadata": {},
     "output_type": "execute_result"
    }
   ],
   "source": [
    "GrandMother"
   ]
  },
  {
   "cell_type": "code",
   "execution_count": null,
   "metadata": {},
   "outputs": [],
   "source": []
  }
 ],
 "metadata": {
  "kernelspec": {
   "display_name": ".venv",
   "language": "python",
   "name": "python3"
  },
  "language_info": {
   "codemirror_mode": {
    "name": "ipython",
    "version": 3
   },
   "file_extension": ".py",
   "mimetype": "text/x-python",
   "name": "python",
   "nbconvert_exporter": "python",
   "pygments_lexer": "ipython3",
   "version": "3.12.4"
  }
 },
 "nbformat": 4,
 "nbformat_minor": 2
}
