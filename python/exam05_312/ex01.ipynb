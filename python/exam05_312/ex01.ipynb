{
 "cells": [
  {
   "cell_type": "markdown",
   "metadata": {},
   "source": [
    "Remind (1주차)\n",
    "\n",
    "국어, 영어, 수학의 반 평균 점수 구하기\n",
    "\n",
    "data = 1반, 어떤 과목, 몇 점\n",
    "\n",
    "철수 = {국어:90, 수학:80, 영어:85}"
   ]
  },
  {
   "cell_type": "code",
   "execution_count": 25,
   "metadata": {},
   "outputs": [],
   "source": [
    "def mean_score(student_lst, **kwargs): # *args = subject, score, ...\n",
    "    \n",
    "    student_lst = lst\n",
    "    score1 = [ for i in student_lst]\n",
    "    \n",
    "    # print(student_lst)\n",
    "    \n",
    "    \n",
    "    \n",
    "# 데이터를 어케 받아올까?\n",
    "# input = dict, output = dict\n",
    "# 리스트로 학생 목록(리스트)으로 묶고 각 학생의 점수는 딕셔너리로\n",
    "# 리스트를 불러옴 = 학생목록의 데이터\n",
    "# 국어, 수학... 등의 키워드를 사용하면 안됨\n",
    "\n",
    "# class1 = {'korean': 80, 'math': 90, 'english': 85 }\n",
    "\n",
    "\n",
    "student1 = {'korean':90, 'english':80, 'math': 91}\n",
    "student2 = {'korean':92, 'english':90, 'math': 96}\n",
    "student3 = {'korean':80, 'english':95, 'math': 100}\n",
    "student4 = {'korean':86, 'english':94, 'math': 97}\n",
    "student5 = {'korean':88, 'english':87, 'math': 89}\n",
    "\n",
    "lst = [student1, student2, student3, student4, student5]\n",
    "\n",
    "\n"
   ]
  },
  {
   "cell_type": "code",
   "execution_count": 26,
   "metadata": {},
   "outputs": [
    {
     "name": "stdout",
     "output_type": "stream",
     "text": [
      "['student1', 'student2']\n"
     ]
    }
   ],
   "source": [
    "mean_score(lst)"
   ]
  },
  {
   "cell_type": "code",
   "execution_count": 28,
   "metadata": {},
   "outputs": [],
   "source": [
    "def avg_of_subject(**kwargs): #kwargs = {과목 : 점수}\n",
    "    #과목별 평균 값 저장하자\n",
    "    result = {}\n",
    "    #과목별 평균 점수 구하자\n",
    "    for subject in kwargs.keys():\n",
    "        #평균 구하자\n",
    "        result[subject] = sum(kwargs[subject])/len(kwargs[subject])\n",
    "\n",
    "    return result\n"
   ]
  },
  {
   "cell_type": "code",
   "execution_count": 31,
   "metadata": {},
   "outputs": [
    {
     "data": {
      "text/plain": [
       "{'수학': 83.6}"
      ]
     },
     "execution_count": 31,
     "metadata": {},
     "output_type": "execute_result"
    }
   ],
   "source": [
    "class1 = {'수학': [90, 80, 70, 88, 90]}\n",
    "\n",
    "avg_of_subject(**class1)"
   ]
  },
  {
   "cell_type": "code",
   "execution_count": 43,
   "metadata": {},
   "outputs": [],
   "source": [
    "# 만약 다른 과목(예: 과학 등 )이 들어오면, 해당 과목 빼고 진행\n",
    "# 해당 과목은 평균 값이 아닌 오류 메세지를 전달 = 에자일(기존의 코드를 발전시키는 것)\n",
    "# try-except를 사용\n",
    "\n",
    "def avg_of_subject(**kwargs): #kwargs = {과목 : 점수}\n",
    "    #과목별 평균 값 저장하자\n",
    "    result = {}\n",
    "    print(result)\n",
    "    #과목별 평균 점수 구하자\n",
    "    for subject in kwargs.keys():\n",
    "        #평균 구하자\n",
    "        result[subject] = sum(kwargs[subject])/len(kwargs[subject])\n",
    "    print(result)\n",
    "    return result\n",
    "\n",
    "import enum\n",
    "class Limmit(enum.Enum):\n",
    "    limmit1 = (enum.auto(), '국어')\n",
    "    limmit2 = (enum.auto(), '영어')\n",
    "    limmit3 = (enum.auto(), '수학')\n",
    "\n",
    "def comfirm(**kwargs):\n",
    "    for i in kwargs.keys():\n",
    "        if i in Limmit.__members__:\n",
    "            return avg_of_subject(**kwargs)\n",
    "        else:\n",
    "            return None\n",
    "        \n",
    "# try:\n",
    "    "
   ]
  },
  {
   "cell_type": "code",
   "execution_count": 45,
   "metadata": {},
   "outputs": [
    {
     "name": "stdout",
     "output_type": "stream",
     "text": [
      "None\n"
     ]
    }
   ],
   "source": [
    "class1 = {'수학': [90, 80, 70, 88, 90]}\n",
    "print(comfirm(**class1))"
   ]
  },
  {
   "cell_type": "code",
   "execution_count": null,
   "metadata": {},
   "outputs": [],
   "source": [
    "def avg_of_subject(**kwargs): #kwargs = {과목 : 점수}\n",
    "    #과목별 평균 값 저장하자\n",
    "    result = {}\n",
    "    #과목별 평균 점수 구하자\n",
    "    for subject in kwargs.keys():\n",
    "        #평균 구하자\n",
    "        result[subject] = sum(kwargs[subject])/len(kwargs[subject])\n",
    "\n",
    "    return result\n",
    "\n",
    "def sub_comfirm(**kwargs):\n",
    "    try:\n",
    "        count_sub = set(kwargs.keys)\n",
    "        assert len(count_sub) == len(kwargs)\n",
    "    except:\n",
    "        "
   ]
  },
  {
   "cell_type": "code",
   "execution_count": null,
   "metadata": {},
   "outputs": [],
   "source": []
  },
  {
   "cell_type": "code",
   "execution_count": 47,
   "metadata": {},
   "outputs": [],
   "source": [
    "# 강사님 답변\n",
    "\n",
    "def avg_of_subject(**kwargs): #kwargs = {과목 : 점수}\n",
    "    #과목별 평균 값 저장하자\n",
    "    result = {}\n",
    "    #과목별 평균 점수 구하자\n",
    "    for subject in kwargs.keys():\n",
    "        print(result.keys())\n",
    "        if subject in result.keys(): # 일단 중복을 회피(생략)\n",
    "            continue\n",
    "        else:\n",
    "        #평균 구하자\n",
    "            result[subject] = sum(kwargs[subject])/len(kwargs[subject])\n",
    "\n",
    "    return result\n"
   ]
  },
  {
   "cell_type": "code",
   "execution_count": 48,
   "metadata": {},
   "outputs": [
    {
     "name": "stdout",
     "output_type": "stream",
     "text": [
      "dict_keys([])\n",
      "dict_keys(['수학'])\n",
      "{'수학': [90, 80, 70, 88, 90], '영어': [100, 90, 90, 100, 90]}\n"
     ]
    }
   ],
   "source": [
    "class1 = {'수학': [90, 80, 70, 88, 90], '영어' : [90, 80, 90, 100, 40], '영어' : [100, 90, 90, 100, 90]}\n",
    "# 딕셔너리여서 없어진다 중간 '영어' 이부분이\n",
    "avg_of_subject(**class1)\n",
    "\n",
    "print(class1)"
   ]
  },
  {
   "cell_type": "code",
   "execution_count": 49,
   "metadata": {},
   "outputs": [],
   "source": [
    "import enum\n",
    "\n",
    "class SUBJECT(enum.Enum):\n",
    "    KOREAN = (enum.auto(), int)\n",
    "    MATH = (enum.auto(), int)\n",
    "    ENGLISH = (enum.auto(), int)"
   ]
  },
  {
   "cell_type": "code",
   "execution_count": 51,
   "metadata": {},
   "outputs": [
    {
     "data": {
      "text/plain": [
       "<enum 'SUBJECT'>"
      ]
     },
     "execution_count": 51,
     "metadata": {},
     "output_type": "execute_result"
    }
   ],
   "source": [
    "type(SUBJECT.KOREAN)"
   ]
  },
  {
   "cell_type": "code",
   "execution_count": null,
   "metadata": {},
   "outputs": [],
   "source": []
  }
 ],
 "metadata": {
  "kernelspec": {
   "display_name": ".venv",
   "language": "python",
   "name": "python3"
  },
  "language_info": {
   "codemirror_mode": {
    "name": "ipython",
    "version": 3
   },
   "file_extension": ".py",
   "mimetype": "text/x-python",
   "name": "python",
   "nbconvert_exporter": "python",
   "pygments_lexer": "ipython3",
   "version": "3.12.4"
  }
 },
 "nbformat": 4,
 "nbformat_minor": 2
}
