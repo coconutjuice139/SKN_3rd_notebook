{
 "cells": [
  {
   "cell_type": "code",
   "execution_count": 1,
   "metadata": {},
   "outputs": [],
   "source": [
    "# 함수 안에 함수를 선언해서 써보자\n",
    "# def func_out(out_param):\n",
    "    # a = 10\n",
    "    # def func_in():\n",
    "        # return a + out_param \n",
    "    # return func_in\n",
    "\n",
    "\n",
    "# 위의 함수는 아래의 lambda와 같이 표현할 수 있다.\n",
    "def func_out(out_param):\n",
    "    a = 10\n",
    "    func_in = lambda : a + out_param\n",
    "    return func_in"
   ]
  },
  {
   "cell_type": "code",
   "execution_count": 4,
   "metadata": {},
   "outputs": [
    {
     "data": {
      "text/plain": [
       "<function __main__.func_out.<locals>.<lambda>()>"
      ]
     },
     "execution_count": 4,
     "metadata": {},
     "output_type": "execute_result"
    }
   ],
   "source": [
    "def func_out(out_param):\n",
    "    a = 10\n",
    "    func_in = lambda : a + out_param\n",
    "    return func_in # 함수 자체가 리턴되는 것, 함수가 실행되어 결과가 리턴 것 = func_in()\n",
    "\n",
    "func_out(5) # func_in()이 리턴된다. object가 리턴"
   ]
  },
  {
   "cell_type": "code",
   "execution_count": null,
   "metadata": {},
   "outputs": [],
   "source": []
  }
 ],
 "metadata": {
  "kernelspec": {
   "display_name": ".venv",
   "language": "python",
   "name": "python3"
  },
  "language_info": {
   "codemirror_mode": {
    "name": "ipython",
    "version": 3
   },
   "file_extension": ".py",
   "mimetype": "text/x-python",
   "name": "python",
   "nbconvert_exporter": "python",
   "pygments_lexer": "ipython3",
   "version": "3.12.4"
  }
 },
 "nbformat": 4,
 "nbformat_minor": 2
}
