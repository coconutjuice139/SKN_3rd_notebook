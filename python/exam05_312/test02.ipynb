{
 "cells": [
  {
   "cell_type": "code",
   "execution_count": 41,
   "metadata": {},
   "outputs": [],
   "source": [
    "# 과목 별 평균 맞추기\n",
    "# 데이터 형상 = {'과목' : [점수 리스트]}\n",
    "\n",
    "def ave_score(**kwargs):\n",
    "    subject = kwargs.keys()\n",
    "    sum_s = sum(list(kwargs.values())[0])\n",
    "    ave_s = sum_s/len(kwargs)\n",
    "    return (subject, sum_s, ave_s)\n",
    "\n",
    "math = {'math':[1, 2, 3, 4, 5, 6, 7]}"
   ]
  },
  {
   "cell_type": "code",
   "execution_count": 42,
   "metadata": {},
   "outputs": [
    {
     "name": "stdout",
     "output_type": "stream",
     "text": [
      "28\n",
      "{'math': [1, 2, 3, 4, 5, 6, 7]}\n"
     ]
    },
    {
     "data": {
      "text/plain": [
       "dict_keys(['math'])"
      ]
     },
     "execution_count": 42,
     "metadata": {},
     "output_type": "execute_result"
    }
   ],
   "source": [
    "ave_score(**math)"
   ]
  },
  {
   "cell_type": "code",
   "execution_count": 40,
   "metadata": {},
   "outputs": [
    {
     "data": {
      "text/plain": [
       "[0, 1, 2, 3, 4, 5, 6, 7]"
      ]
     },
     "execution_count": 40,
     "metadata": {},
     "output_type": "execute_result"
    }
   ],
   "source": [
    "d = {'a':[0,1,2,3,4,5,6,7]}\n",
    "\n",
    "lst_d = list(d.values())[0]\n",
    "lst_d"
   ]
  },
  {
   "cell_type": "code",
   "execution_count": null,
   "metadata": {},
   "outputs": [],
   "source": []
  }
 ],
 "metadata": {
  "kernelspec": {
   "display_name": ".venv",
   "language": "python",
   "name": "python3"
  },
  "language_info": {
   "codemirror_mode": {
    "name": "ipython",
    "version": 3
   },
   "file_extension": ".py",
   "mimetype": "text/x-python",
   "name": "python",
   "nbconvert_exporter": "python",
   "pygments_lexer": "ipython3",
   "version": "3.12.4"
  }
 },
 "nbformat": 4,
 "nbformat_minor": 2
}
