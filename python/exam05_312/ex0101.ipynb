{
 "cells": [
  {
   "cell_type": "code",
   "execution_count": 42,
   "metadata": {},
   "outputs": [
    {
     "name": "stdout",
     "output_type": "stream",
     "text": [
      "{'0': {'name': 'a', 'korean': 0, 'math': 0, 'english': 0}, '1': {'name': 'b', 'korean': 0, 'math': 0, 'english': 0}}\n"
     ]
    }
   ],
   "source": [
    "# def ave_subject(**kwargs):\n",
    "    # count = \n",
    "    # lst = []\n",
    "    # for i in len(kwargs.keys()):\n",
    "        # lst.append(kwargs[i])  \n",
    "    # pass\n",
    "# \n",
    "# def sort_list(**kwargs):\n",
    "    # pass\n",
    "\n",
    "\n",
    "member = {}\n",
    "\n",
    "def st_count():\n",
    "    count = int(input('student\\'s member number'))\n",
    "\n",
    "    for i in range(count): # 학생 이름, 점수 넣기\n",
    "        name = str(input('name'))\n",
    "\n",
    "        korean = int(input('korean score'))\n",
    "        math = int(input('math score'))\n",
    "        english = int(input('english score'))\n",
    "\n",
    "        s_mem = {'name':name, 'korean': korean, 'math':math, 'english':english}\n",
    "        member[str(i)]=s_mem\n",
    "    return member\n",
    "\n",
    "for i in \n",
    "\n",
    "print(member)"
   ]
  },
  {
   "cell_type": "code",
   "execution_count": 47,
   "metadata": {},
   "outputs": [],
   "source": [
    "def test(**kwargs): # 가변 파라미터는 딕셔너리만 가능하다\n",
    "    print(kwargs.keys()) # 딕셔너리 호출할 때, 문자열로 호출한다.\n",
    "    print(kwargs.values())\n",
    "    "
   ]
  },
  {
   "cell_type": "code",
   "execution_count": 40,
   "metadata": {},
   "outputs": [
    {
     "ename": "TypeError",
     "evalue": "keywords must be strings",
     "output_type": "error",
     "traceback": [
      "\u001b[1;31m---------------------------------------------------------------------------\u001b[0m",
      "\u001b[1;31mTypeError\u001b[0m                                 Traceback (most recent call last)",
      "Cell \u001b[1;32mIn[40], line 1\u001b[0m\n\u001b[1;32m----> 1\u001b[0m \u001b[43mtest\u001b[49m\u001b[43m(\u001b[49m\u001b[38;5;241;43m*\u001b[39;49m\u001b[38;5;241;43m*\u001b[39;49m\u001b[43mmember\u001b[49m\u001b[43m)\u001b[49m\n",
      "\u001b[1;31mTypeError\u001b[0m: keywords must be strings"
     ]
    }
   ],
   "source": [
    "test(**member) # 딕셔너리 내부 key 위치에 숫자있으면 에러뜸"
   ]
  },
  {
   "cell_type": "code",
   "execution_count": 48,
   "metadata": {},
   "outputs": [
    {
     "name": "stdout",
     "output_type": "stream",
     "text": [
      "dict_keys(['0', '1'])\n",
      "dict_values([{'name': 'a', 'korean': 0, 'math': 0, 'english': 0}, {'name': 'b', 'korean': 0, 'math': 0, 'english': 0}])\n"
     ]
    }
   ],
   "source": [
    "test(**member)"
   ]
  },
  {
   "cell_type": "code",
   "execution_count": null,
   "metadata": {},
   "outputs": [],
   "source": []
  }
 ],
 "metadata": {
  "kernelspec": {
   "display_name": ".venv",
   "language": "python",
   "name": "python3"
  },
  "language_info": {
   "codemirror_mode": {
    "name": "ipython",
    "version": 3
   },
   "file_extension": ".py",
   "mimetype": "text/x-python",
   "name": "python",
   "nbconvert_exporter": "python",
   "pygments_lexer": "ipython3",
   "version": "3.12.4"
  }
 },
 "nbformat": 4,
 "nbformat_minor": 2
}
